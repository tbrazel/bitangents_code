{
 "cells": [
  {
   "cell_type": "markdown",
   "metadata": {},
   "source": [
    "# Orbits of bitangents on symmetric quartics\n",
    "\n",
    "## Table of contents\n",
    "1. [Introduction](#introduction)\n",
    "3. [Type I: The Klein ($\\text{PSL}_2(7)$) quartic](#klein)\n",
    "4. [Type II: The Clebsch](#fermat)\n",
    "5. [Type III: The (48,33) quartic](#type3)\n",
    "6. [Type IV: The $S_4$ quartic](#S4)\n",
    "7. [Type V: The (16,13) quartic](#1613)\n",
    "8. [Type VI: The $C_9$ quartic](#C9)\n",
    "9. [Type VII: The $D_8$ quartic](#D8)\n",
    "10. [Type IX: The $S_3$ quartic](#S3)\n",
    "11. [Type X: The $K_4$ quartic](#K4)\n",
    "12. [Type XI: The $C_3$ quartic](#C3)\n",
    "13. [Type XII: The $C_2$ quartic](#C2)"
   ]
  },
  {
   "cell_type": "markdown",
   "metadata": {},
   "source": [
    "# Introduction<a name=\"introduction\"></a>\n",
    "Here we provide some code which can be used to study bitangents for example quartics of each type. For the first few types we explain in great detail how the code is working, then omit detail as the pattern becomes clear. To investigate orbits in each case, we:\n",
    "1. Pick an example quartic in that fmaily\n",
    "2. Compute its bitangents numerically\n",
    "3. Import a dictionary of its group of symmetries $G\\le \\text{PGL}_3(\\mathbb{C})$, and use this to act on the bitangents\n",
    "4. Group the bitangents into orbits\n",
    "5. Determine isotropy for each orbit\n",
    "\n",
    "For larger $G$, steps (3) and (5) can be done via GAP."
   ]
  },
  {
   "cell_type": "markdown",
   "metadata": {},
   "source": [
    "## Imports\n",
    "The following code is taken from [Vinzant's webpage](http://sites.math.washington.edu/~vinzant/research/quartics/quartictype.sage) from [her research on quartics](http://sites.math.washington.edu/~vinzant/research/quartics.html) with Plaumann and Sturmfels. It inputs a quartic polynomial and outputs (among other things) equations for its tritangents."
   ]
  },
  {
   "cell_type": "code",
   "execution_count": null,
   "metadata": {},
   "outputs": [],
   "source": [
    "%run compute_bitangents.ipynb"
   ]
  },
  {
   "cell_type": "markdown",
   "metadata": {},
   "source": [
    "We import dictionaries containing elements of each automorphism group $G \\le \\text{PGL}_3(\\mathbb{C})$ of a smooth planar quartic:"
   ]
  },
  {
   "cell_type": "code",
   "execution_count": null,
   "metadata": {},
   "outputs": [],
   "source": [
    "%run Automorphism_Groups.ipynb"
   ]
  },
  {
   "cell_type": "markdown",
   "metadata": {},
   "source": [
    "Finally we import some helper functions which let us investigate group actions on bitangents numerically"
   ]
  },
  {
   "cell_type": "code",
   "execution_count": null,
   "metadata": {},
   "outputs": [],
   "source": [
    "%run orbit_isotropy_functions.ipynb"
   ]
  },
  {
   "cell_type": "markdown",
   "metadata": {},
   "source": [
    "# Type I: The Klein quartic<a name=\"klein\"></a>\n",
    "Our first quartic is the *Klein quartic*, defined by the equation\n",
    "$$x^3y + y^3z + z^3x$$\n",
    "This has the largest possible automorphism group, encoded as `PSL_dict` here.\n",
    "\n",
    "It is a classical fact that the automorphism group of the Klein quartic acts transitively on its 28 bitangents, however we can also observe this computationally. We first compute a list of all the bitangents of the Klein quartic."
   ]
  },
  {
   "cell_type": "code",
   "execution_count": null,
   "metadata": {},
   "outputs": [],
   "source": [
    "Klein = x^3*y + y^3*z + z^3*x;\n",
    "Klein_Bitangents = compute_normalized_bitangents(Klein);Klein_Bitangents"
   ]
  },
  {
   "cell_type": "markdown",
   "metadata": {},
   "source": [
    "We can look at the first bitangent `Klein_Bitangents[0]`, and try to examine what its orbit is under the action of the automorphism group using our `investigate_orbit` command:"
   ]
  },
  {
   "cell_type": "code",
   "execution_count": null,
   "metadata": {},
   "outputs": [],
   "source": [
    "investigate_orbit(Klein_Bitangents[0],PSL_dict)"
   ]
  },
  {
   "cell_type": "markdown",
   "metadata": {},
   "source": [
    "It is clear to see that we get all 28 bitangents in the orbit of the first one under the action of $\\text{PSL}_2(7)$. It remains to ask what the isotropy group of a single bitangent is --- since the action is transitive, we should obtain an index 48 subgroup in $\\text{PSL}_2(7)$."
   ]
  },
  {
   "cell_type": "code",
   "execution_count": null,
   "metadata": {},
   "outputs": [],
   "source": [
    "investigate_isotropy(compute_normalized_bitangents(Klein)[0],PSL_dict)"
   ]
  },
  {
   "cell_type": "markdown",
   "metadata": {},
   "source": [
    "We can then return to GAP and verify that these matrices generate a subgroup of $\\text{PSL}_2(7)$ which is isomorphic to $S_3$. Therefore as a $\\text{PSL}_2(7)$-set, the 28 bitangents of the Klein quartic are in equivariant bijection with the left cosets $[\\text{PSL}_2(7)/S_3]$. As a sanity check, $|\\text{PSL}_2(7)| = 168$ and $|S_3| = 6$, and $168/6 = 28$."
   ]
  },
  {
   "cell_type": "markdown",
   "metadata": {},
   "source": [
    "# Type II: Fermat<a href=\"fermat\"></a>"
   ]
  },
  {
   "cell_type": "markdown",
   "metadata": {},
   "source": [
    "## (II) Bitangents"
   ]
  },
  {
   "cell_type": "code",
   "execution_count": null,
   "metadata": {},
   "outputs": [],
   "source": [
    "F=QQ; T.<x,y,z>=PolynomialRing(F)\n",
    "Fermat = x^4 + y^4 + z^4\n",
    "\n",
    "Fermat_Bitangents = compute_normalized_bitangents(Fermat);Fermat_Bitangents"
   ]
  },
  {
   "cell_type": "markdown",
   "metadata": {},
   "source": [
    "Again, we can look at the orbit of the first bitangent:"
   ]
  },
  {
   "cell_type": "code",
   "execution_count": null,
   "metadata": {},
   "outputs": [],
   "source": [
    "investigate_orbit(Fermat_Bitangents[0],Fermat_dict)"
   ]
  },
  {
   "cell_type": "markdown",
   "metadata": {},
   "source": [
    "Hence we get 12 bitangents in this orbit. In terms of the indices of the list `Fermat_Bitangents`, these are the entries `[0,1,2,3,24,25,26,27,8,9,10,11]`. Again we can investigate the isotropy:"
   ]
  },
  {
   "cell_type": "code",
   "execution_count": null,
   "metadata": {},
   "outputs": [],
   "source": [
    "investigate_isotropy(Fermat_Bitangents[0],Fermat_dict)"
   ]
  },
  {
   "cell_type": "markdown",
   "metadata": {},
   "source": [
    "Going back to GAP, we get a copy of $C_8$ living inside the automorphism group of the Fermat quartic. Hence the 12 bitangents above correspond to the transitive set $[C_4^{\\times 2}\\rtimes S_3 / C_8]$.\n",
    "\n",
    "We can look at the remaining bitangents, for instance the element `Fermat_Bitangents[4]` which was not in the orbit above:"
   ]
  },
  {
   "cell_type": "code",
   "execution_count": null,
   "metadata": {},
   "outputs": [],
   "source": [
    "investigate_orbit(Fermat_Bitangents[4],Fermat_dict)"
   ]
  },
  {
   "cell_type": "markdown",
   "metadata": {},
   "source": [
    "These are the remaining 16 bitangents -- their indices in `Fermat_Bitangents` are `[16,6,20,21,15,12,14,17,18,7,4,5,23,22,13,19]`. Again we study isotropy:"
   ]
  },
  {
   "cell_type": "code",
   "execution_count": null,
   "metadata": {},
   "outputs": [],
   "source": [
    "investigate_isotropy(Fermat_Bitangents[4],Fermat_dict)"
   ]
  },
  {
   "cell_type": "markdown",
   "metadata": {},
   "source": [
    "This gives us a copy of $C_6$ inside of $C_4^{\\times 2}\\rtimes S_3$. Hence altogether we get an equivariant bijection\n",
    "$$\\text{28 bitangen"
   ]
  },
  {
   "cell_type": "markdown",
   "metadata": {
    "jp-MarkdownHeadingCollapsed": true
   },
   "source": [
    "# Type III: The $(48,33)$ quartic<a name=\"type3\"></a>\n",
    "There is a unique quartic of Type III, defined by the equation\n",
    "$$x^4 + y^4 + z^4 + (4\\rho+2)x^2y^2,$$\n",
    "where $\\rho$ is a primitive 3rd root of unity (note that $4\\rho + 2 = 2\\sqrt{-3}$, which is another common form for this quartic). Its automorphism group has order 48, and GAP ID `[48,33]`. It is accessible via `GpIII_Dict`.\n",
    "\n"
   ]
  },
  {
   "cell_type": "markdown",
   "metadata": {},
   "source": [
    "## (III) Bitangents"
   ]
  },
  {
   "cell_type": "markdown",
   "metadata": {},
   "source": [
    "We would like to compute equations for its bitangents, however since $\\rho\\notin\\mathbb{Q}$, we must modify the function `compute_bitangents`. To that end we include the following"
   ]
  },
  {
   "cell_type": "code",
   "execution_count": null,
   "metadata": {},
   "outputs": [],
   "source": [
    "def compute_bitangents_ideal_Q3(f):\n",
    "    F=CyclotomicField(3); T.<x,y,z>=PolynomialRing(F)\n",
    "    # Check whether the quartic is smooth\n",
    "    # Grad=ideal(f,diff(f,x),diff(f,y),diff(f,z))\n",
    "    # if not Grad.dimension()==0:\n",
    "    #     sys.exit(\"Quartic is not smooth!\")\n",
    "    f = T(f)\n",
    "    R.<x,y,z,a,b,a0,a1,a2,a3,a4>=PolynomialRing(F)\n",
    "    f0=f.base_extend(R)\n",
    "    S.<a,b>=PolynomialRing(F)\n",
    "    digits=50\n",
    "    threshold=0.000000000001\n",
    "    almostzero=threshold\n",
    "\n",
    "    # Make a formal line\n",
    "    Line= a*x+b*y+z;\n",
    "    \n",
    "    puresquare=ideal(a0*a3^2-a1^2*a4,8*a0^2*a3-4*a0*a1*a2+a1^3,8*a1*a4^2-4*a2*a3*a4+a3^3,8*a0*a1*a4-4*a0*a2*a3+a1^2*a3,8*a0*a3*a4-4*a1*a2*a4+a1*a3^2,16*a0^2*a4+2*a0*a1*a3-4*a0*a2^2+a1^2*a2,16*a0*a4^2+2*a1*a3*a4-4*a2^2*a4+a2*a3^2);\n",
    "    Res=f0.resultant(Line,z)    \n",
    "    Res=Res.subs(y=1)    \n",
    "    phi=hom(R,S,[0,0,0,a,b,Res.coefficient({x:0}),Res.coefficient({x:1}),Res.coefficient({x:2}),Res.coefficient({x:3}),Res.coefficient({x:4})])\n",
    "    bit1 = phi(puresquare)    \n",
    "    \n",
    "    I_ideal=singular.groebner(singular(bit1))\n",
    "    return I_ideal\n",
    "\n",
    "Dolg = x^4 + y^4 + z^4 + 2*sqrt(-3)*(x^2)*(y^2)\n",
    "F=CyclotomicField(12); T.<x,y,z>=PolynomialRing(F)\n",
    "\n",
    "# Grad = ideal(Dolg,diff(Dolg,x),diff(Dolg,y),diff(Dolg,z))\n",
    "Iideal = compute_bitangents_ideal_Q3(Dolg);Iideal\n",
    "print(Iideal)"
   ]
  },
  {
   "cell_type": "markdown",
   "metadata": {},
   "source": [
    "This gives us an ideal in a polynomial ring over $\\mathbb{Q}(\\zeta_3)$ that we wish to solve -- the solutions will be bitangents of the form $ax+by+z=0$."
   ]
  },
  {
   "cell_type": "code",
   "execution_count": null,
   "metadata": {},
   "outputs": [],
   "source": [
    "# Grad.dimension()\n",
    "# cyc\n",
    "\n",
    "R.<a,b> =PolynomialRing(CC)\n",
    "rho = exp(2*pi*i/3)\n",
    "a,b = var('a b')\n",
    "f0 = a^4+(-4*rho-2)*a^2*b^2+b^4+4\n",
    "f1 = 3*a^3*b^3+(2*rho+1)*a*b^5+(4*rho+2)*a*b\n",
    "f2 = 7*a^2*b^5+(2*rho+1)*b^7+2*a^2*b+(8*rho+4)*b^3\n",
    "f3 = 2*a*b^7+(2*rho+1)*a^3*b+a*b^3\n",
    "f4 = 2*b^9-5*a^4*b+(-6*rho-3)*a^2*b^3+10*b^5+8*b\n",
    "\n",
    "\n",
    "candidates = solve([f1==0,f2==0,f3==0,f0==0,f4==0],a,b); candidates"
   ]
  },
  {
   "cell_type": "markdown",
   "metadata": {},
   "source": [
    "This gives us 24 bitangents. To obtain the other 4, we need to consider the case where $z=0$..... TODO"
   ]
  },
  {
   "cell_type": "code",
   "execution_count": null,
   "metadata": {},
   "outputs": [],
   "source": [
    "QuarticIIIBis = [x + (-0.50000084 + 0.50000314*I)*z,\n",
    "x + (-0.50000314 - 0.50000084*I)*z,\n",
    "x - y + (0.500000000000000 - 0.866030000000000*I)*z,\n",
    "x - y + (-0.500000000000000 + 0.866030000000000*I)*z,\n",
    "x - y + (-0.866030000000000 - 0.500000000000000*I)*z,\n",
    "x - y + (0.866030000000000 + 0.500000000000000*I)*z,\n",
    "x + (0.50000314 + 0.50000084*I)*z,\n",
    "x + (0.50000084 - 0.50000314*I)*z,\n",
    "y + (0.50000314 + 0.50000084*I)*z,\n",
    "y + (-0.50000084 + 0.50000314*I)*z,\n",
    "y + (0.50000084 - 0.50000314*I)*z,\n",
    "y + (-0.50000314 - 0.50000084*I)*z,\n",
    "x + 1.00000000000000*I*y + (0.500000000000000 + 0.866030000000000*I)*z,\n",
    "x + 1.00000000000000*I*y + (0.866030000000000 - 0.500000000000000*I)*z,\n",
    "x + 1.00000000000000*I*y + (-0.866030000000000 + 0.500000000000000*I)*z,\n",
    "x + 1.00000000000000*I*y + (-0.500000000000000 - 0.866030000000000*I)*z,\n",
    "x + (-1.00000000000000*I)*y + (0.500000000000000 + 0.866030000000000*I)*z,\n",
    "x + (-1.00000000000000*I)*y + (0.866030000000000 - 0.500000000000000*I)*z,\n",
    "x + (-1.00000000000000*I)*y + (-0.866030000000000 + 0.500000000000000*I)*z,\n",
    "x + (-1.00000000000000*I)*y + (-0.500000000000000 - 0.866030000000000*I)*z,\n",
    "x + y + (0.500000000000000 - 0.866030000000000*I)*z,\n",
    "x + y + (-0.866030000000000 - 0.500000000000000*I)*z,\n",
    "x + y + (-0.500000000000000 + 0.866030000000000*I)*z,\n",
    "x + y + (0.866030000000000 + 0.500000000000000*I)*z,\n",
    "x + (-0.36602540 - 0.36602540*I)*y,\n",
    "x + (0.36602540 + 0.36602540*I)*y,\n",
    "x + (-1.3660254 + 1.3660254*I)*y,\n",
    "x + (1.3660254 - 1.3660254*I)*y]\n"
   ]
  },
  {
   "cell_type": "code",
   "execution_count": null,
   "metadata": {},
   "outputs": [],
   "source": [
    "investigate_orbit(QuarticIIIBis[0],GpIII_Dict)"
   ]
  },
  {
   "cell_type": "code",
   "execution_count": null,
   "metadata": {},
   "outputs": [],
   "source": [
    "investigate_isotropy(QuarticIIIBis[0],GpIII_Dict)"
   ]
  },
  {
   "cell_type": "code",
   "execution_count": null,
   "metadata": {},
   "outputs": [],
   "source": [
    "investigate_orbit(QuarticIIIBis[27],GpIII_Dict)"
   ]
  },
  {
   "cell_type": "code",
   "execution_count": null,
   "metadata": {},
   "outputs": [],
   "source": [
    "investigate_isotropy(QuarticIIIBis[27],GpIII_Dict)"
   ]
  },
  {
   "cell_type": "markdown",
   "metadata": {
    "jp-MarkdownHeadingCollapsed": true
   },
   "source": [
    "# Type IV: The $S_4$ quartic<a name=\"S4\"></a>\n",
    "For the group $S_4$, we obtain a pencil of *octahedral quartics*, given by the equation\n",
    " $$X^4 + Y^4 + Z^4 + a(X^2 Y^2 + Y^2 Z^2 + Z^2 X^2),$$\n",
    "for any $a\\in \\mathbb{C}$. Here $S_4$ is subconjugate to $\\text{PSL}_2(7)$ as well as $C_4^{\\times 2}\\rtimes S_3$ inside $\\text{PGL}_3(\\mathbb{C})$, reflected by certain values of $a$ which allow us to exhibit the Klein and Fermat quartics in this pencil.\n",
    "\n",
    "We pick $a=-3$ (not one of these special values) to carry out our computation:"
   ]
  },
  {
   "cell_type": "code",
   "execution_count": null,
   "metadata": {},
   "outputs": [],
   "source": [
    "F=QQ; T.<x,y,z>=PolynomialRing(F) # redefine the base field back to QQ\n",
    "\n",
    "S4_Quartic = x^4 + y^4 + z^4 -3*(x^2*y^2 + y^2*z^2 + z^2*x^2)\n",
    "S4_Bitangents = compute_normalized_bitangents(S4_Quartic);S4_Bitangents\n",
    "# S4_Bitangents = [normalize(b) for b in S4_Bitangents];S4_Bitangents"
   ]
  },
  {
   "cell_type": "markdown",
   "metadata": {},
   "source": [
    "We end up seeing three orbits, with isotropy groups given by the even and odd copies of $C_2$ in $S_4$, and $S_3$, respectively."
   ]
  },
  {
   "cell_type": "markdown",
   "metadata": {},
   "source": [
    "## $C_2^o$ isotropy"
   ]
  },
  {
   "cell_type": "code",
   "execution_count": null,
   "metadata": {},
   "outputs": [],
   "source": [
    "investigate_orbit(S4_Bitangents[0],S4_dict)"
   ]
  },
  {
   "cell_type": "markdown",
   "metadata": {},
   "source": [
    "In the list `S4_Bitangents` these are the 12 bitangents with indices `[0,1,2,3,18,19,26,27,25,24,16,17]`."
   ]
  },
  {
   "cell_type": "code",
   "execution_count": null,
   "metadata": {},
   "outputs": [],
   "source": [
    "investigate_isotropy(S4_Bitangents[0],S4_dict)"
   ]
  },
  {
   "cell_type": "markdown",
   "metadata": {},
   "source": [
    "## $C_2^e$ isotropy"
   ]
  },
  {
   "cell_type": "code",
   "execution_count": null,
   "metadata": {},
   "outputs": [],
   "source": [
    "investigate_orbit(S4_Bitangents[4],S4_dict)"
   ]
  },
  {
   "cell_type": "markdown",
   "metadata": {},
   "source": [
    "These are `[10,4,5,6,11,9,12,20,23,15,8,7]` in `S4_Bitangents`."
   ]
  },
  {
   "cell_type": "code",
   "execution_count": null,
   "metadata": {},
   "outputs": [],
   "source": [
    "investigate_isotropy(S4_Bitangents[4],S4_dict)"
   ]
  },
  {
   "cell_type": "markdown",
   "metadata": {},
   "source": [
    "## $S_3$ isotropy\n",
    "\n",
    "Finally we have four remaining bitangents, which we will see all lie in an orbit and therefore must have $S_3$ isotropy."
   ]
  },
  {
   "cell_type": "code",
   "execution_count": null,
   "metadata": {},
   "outputs": [],
   "source": [
    "investigate_orbit(S4_Bitangents[13],S4_dict)"
   ]
  },
  {
   "cell_type": "markdown",
   "metadata": {},
   "source": [
    "In the list `S4_Bitangents` these are the 12 bitangents with indices `[13,14,21,22]`."
   ]
  },
  {
   "cell_type": "code",
   "execution_count": null,
   "metadata": {},
   "outputs": [],
   "source": [
    "investigate_isotropy(S4_Bitangents[13],S4_dict)"
   ]
  },
  {
   "cell_type": "markdown",
   "metadata": {},
   "source": [
    "# Type V: The $(16,13)$ quartic<a name=\"1613\"></a>\n",
    "For Type V, we obtain a pencil of quartics with equations\n",
    "$$X^4 + Y^4 + Z^4 + aX^2 Y^2,$$\n",
    "and symmetry given by the *Pauli group* $P = C_4\\circledcirc K_4$. We pick a generic value $a=-4$ to obtain a Type V quartic with no additional symmetry beyond $P$:"
   ]
  },
  {
   "cell_type": "code",
   "execution_count": null,
   "metadata": {},
   "outputs": [],
   "source": [
    "# F=QQ; T.<x,y,z>=PolynomialRing(F)\n",
    "V_Quartic = x^4 + y^4 + z^4 - 4*x^2*y^2\n",
    "V_Bitangents = compute_normalized_bitangents(V_Quartic);V_Bitangents"
   ]
  },
  {
   "cell_type": "markdown",
   "metadata": {},
   "source": [
    "## $C_2^{(1)}$ isotropy\n",
    "\n",
    "We obtain one orbit with isotropy $C_2$ as follows:"
   ]
  },
  {
   "cell_type": "code",
   "execution_count": null,
   "metadata": {},
   "outputs": [],
   "source": [
    "investigate_orbit(V_Bitangents[0],VGrp_dict)"
   ]
  },
  {
   "cell_type": "markdown",
   "metadata": {},
   "source": [
    "This gives us eight bitangents, with indices `[0,1,2,3,20,21,22,23]` in `V_Bitangents`. Isotropy is given by the following:"
   ]
  },
  {
   "cell_type": "code",
   "execution_count": null,
   "metadata": {},
   "outputs": [],
   "source": [
    "investigate_isotropy(V_Bitangents[0],VGrp_dict)"
   ]
  },
  {
   "cell_type": "markdown",
   "metadata": {},
   "source": [
    "## $C_2^{(2)}$ isotropy\n",
    "We obtain another orbit of bitangents with isotropy $C_2$, however this is a non-conjugate copy of $C_2$ in the Pauli group:"
   ]
  },
  {
   "cell_type": "code",
   "execution_count": null,
   "metadata": {},
   "outputs": [],
   "source": [
    "investigate_orbit(V_Bitangents[4],VGrp_dict)"
   ]
  },
  {
   "cell_type": "markdown",
   "metadata": {},
   "source": [
    "This gives us eight bitangents, with indices `[4,5,6,7,16,17,18,19]`, and isotropy"
   ]
  },
  {
   "cell_type": "code",
   "execution_count": null,
   "metadata": {},
   "outputs": [],
   "source": [
    "investigate_isotropy(V_Bitangents[4],VGrp_dict)"
   ]
  },
  {
   "cell_type": "markdown",
   "metadata": {},
   "source": [
    "## $C_2^{(3)}$ isotropy\n",
    "\n",
    "We have yet another orbit of eight bitangents, whose isotropy is another non-conjugate copy of $C_2$ in the Pauli group. These have indices `[8,9,10,11,12,13,14,15]`"
   ]
  },
  {
   "cell_type": "code",
   "execution_count": null,
   "metadata": {},
   "outputs": [],
   "source": [
    "investigate_orbit(V_Bitangents[8],VGrp_dict)"
   ]
  },
  {
   "cell_type": "code",
   "execution_count": null,
   "metadata": {},
   "outputs": [],
   "source": [
    "investigate_isotropy(V_Bitangents[8],VGrp_dict)"
   ]
  },
  {
   "cell_type": "markdown",
   "metadata": {},
   "source": [
    "## $C_4^Z$ isotropy"
   ]
  },
  {
   "cell_type": "markdown",
   "metadata": {},
   "source": [
    "The remaining four bitangents, with indices `[24,25,26,27]` form an orbit with isotropy a cyclic subgroup of order four, characterized by the property that it is central in the Pauli group."
   ]
  },
  {
   "cell_type": "code",
   "execution_count": null,
   "metadata": {},
   "outputs": [],
   "source": [
    "investigate_orbit(V_Bitangents[24],VGrp_dict)"
   ]
  },
  {
   "cell_type": "code",
   "execution_count": null,
   "metadata": {},
   "outputs": [],
   "source": [
    "investigate_isotropy(V_Bitangents[24],VGrp_dict)"
   ]
  },
  {
   "cell_type": "markdown",
   "metadata": {},
   "source": [
    "# Type VI: The $C_9$ quartic<a name=\"C9\"></a>\n",
    "There is a unique planar quartic with symmetry group cyclic of order 9, given by the equation\n",
    "$$X^4 + XY^3 + YZ^3.$$"
   ]
  },
  {
   "cell_type": "code",
   "execution_count": null,
   "metadata": {},
   "outputs": [],
   "source": [
    "C9_Quartic = x^4 + x*y^3 + y*z^3\n",
    "C9_Bitangents = compute_normalized_bitangents(C9_Quartic);C9_Bitangents"
   ]
  },
  {
   "cell_type": "markdown",
   "metadata": {},
   "source": [
    "## Trivial isotropy\n",
    "\n",
    "We have three orbits with the same isotropy, given by the indices\n",
    "\n",
    "- `[4,0,23,24,25,3,26,8,7]`\n",
    "- `[6,1,5,20,12,21,22,19,11]`\n",
    "- `[2,9,10,13,14,15,16,17,18]`"
   ]
  },
  {
   "cell_type": "code",
   "execution_count": null,
   "metadata": {},
   "outputs": [],
   "source": [
    "investigate_orbit(C9_Bitangents[0],C9_dict)"
   ]
  },
  {
   "cell_type": "code",
   "execution_count": null,
   "metadata": {},
   "outputs": [],
   "source": [
    "investigate_orbit(C9_Bitangents[1],C9_dict)"
   ]
  },
  {
   "cell_type": "code",
   "execution_count": null,
   "metadata": {},
   "outputs": [],
   "source": [
    "investigate_orbit(C9_Bitangents[2],C9_dict)"
   ]
  },
  {
   "cell_type": "markdown",
   "metadata": {},
   "source": [
    "We observe they all have trivial isotropy"
   ]
  },
  {
   "cell_type": "code",
   "execution_count": null,
   "metadata": {},
   "outputs": [],
   "source": [
    "investigate_isotropy(C9_Bitangents[0],C9_dict)"
   ]
  },
  {
   "cell_type": "code",
   "execution_count": null,
   "metadata": {},
   "outputs": [],
   "source": [
    "investigate_isotropy(C9_Bitangents[1],C9_dict)"
   ]
  },
  {
   "cell_type": "code",
   "execution_count": null,
   "metadata": {},
   "outputs": [],
   "source": [
    "investigate_isotropy(C9_Bitangents[2],C9_dict)"
   ]
  },
  {
   "cell_type": "markdown",
   "metadata": {},
   "source": [
    "## $C_9$ isotropy"
   ]
  },
  {
   "cell_type": "markdown",
   "metadata": {},
   "source": [
    "We have accounted for 27 of our 28 bitangents, implying the remaining one must be fixed by the action of $C_9$. We can verify this:"
   ]
  },
  {
   "cell_type": "code",
   "execution_count": null,
   "metadata": {},
   "outputs": [],
   "source": [
    "investigate_isotropy(C9_Bitangents[27],C9_dict)"
   ]
  },
  {
   "cell_type": "markdown",
   "metadata": {},
   "source": [
    "# Type VII: The $D_8$ quartic<a name=\"D8\"></a>\n",
    "We have a two-dimensional family of $D_8$-symmetric quartic with equations\n",
    "$$X^4 + Y^4 + Z^4 + aX^2 Y^2 + bXYZ^2.$$\n",
    "We pick the special values $a=-3$ and $b=1$ to investigate the action of $D_8$ on the bitangents."
   ]
  },
  {
   "cell_type": "code",
   "execution_count": null,
   "metadata": {},
   "outputs": [],
   "source": [
    "F=QQ; T.<x,y,z>=PolynomialRing(F)\n",
    "D4_Quartic = x^4 + y^4 + z^4 - 3*x^2*y^2 + x*y*z^2\n",
    "D4_Bitangents = compute_normalized_bitangents(D4_Quartic);D4_Bitangents"
   ]
  },
  {
   "cell_type": "markdown",
   "metadata": {},
   "source": [
    "We have the following isotropies:\n",
    "\n",
    "- $[D_8/e]$ is `[2,1,13,12,0,3,14,15]`\n",
    "- $[D_8/C_2]$ has four orbits `[4,7,20,23],[22,6,5,21],[19,9,8,18],[10,16,17,11]`\n",
    "- $[D_8/C_2^Z]$ is `[24,25,26,27]`,\n",
    "here $C_2^Z \\le D_8$ denotes the center subgroup, and $C_2$ without a decoration denotes the non-center conjugacy subgroup which is cyclic of order two"
   ]
  },
  {
   "cell_type": "markdown",
   "metadata": {},
   "source": [
    "# Type VIII: $C_6$<a name=\"C6\"></a>\n",
    "There is a pencil of $C_6$-symmetric quartics, given by the equation\n",
    "$$ x^4 + y^4 + ax^2 y^2 + yz^3$$\n",
    "For $a=-3$, we compute the bitangents as follows:"
   ]
  },
  {
   "cell_type": "code",
   "execution_count": null,
   "metadata": {},
   "outputs": [],
   "source": [
    "F=QQ; T.<x,y,z>=PolynomialRing(F)\n",
    "C6_Quartic = z^3*y +x^4 -3*x^2*y^2 +y^4\n",
    "C6_Bitangents = compute_normalized_bitangents(C6_Quartic);C6_Bitangents"
   ]
  },
  {
   "cell_type": "markdown",
   "metadata": {},
   "source": [
    "There are some rounding errors so we edit this set by hand:"
   ]
  },
  {
   "cell_type": "code",
   "execution_count": null,
   "metadata": {},
   "outputs": [],
   "source": [
    "C6_Bitangents=[y + (-0.92831777)*z,\n",
    " y + (0.46415888 + 0.80394677*I)*z,\n",
    " y + (0.46415888 - 0.80394677*I)*z,\n",
    " x + 1.85047*y + (-0.39283)*z,\n",
    " x + (-1.85047)*y + 0.39283*z,\n",
    " x + 0.56125*I*y + 1.18243*I*z,\n",
    " x + (-0.56125*I)*y + (-1.18243*I)*z,\n",
    " x + (0.70756 - 0.23507*I)*y + (-0.52306 - 0.12198*I)*z,\n",
    " x + (-0.70756 + 0.23507*I)*y + (0.52306 + 0.12198*I)*z,\n",
    " x + (0.70756 + 0.23507*I)*y + (-0.52306 + 0.12198*I)*z,\n",
    " x + (-0.70756 - 0.23507*I)*y + (0.52306 - 0.12198*I)*z,\n",
    " x + (-0.56125*I)*y + (-1.02401 + 0.59121*I)*z,\n",
    " x + 0.56125*I*y + (1.02401 - 0.59121*I)*z,\n",
    " x + 0.56125*I*y + (-1.02401 - 0.59121*I)*z,\n",
    " x + (-0.56125*I)*y + (1.02401 + 0.59121*I)*z,\n",
    " x + (-0.70756 - 0.23507*I)*y + (-0.15589 + 0.51397*I)*z,\n",
    " x + (0.70756 + 0.23507*I)*y + (0.15589 - 0.51397*I)*z,\n",
    " x + (-0.70756 + 0.23507*I)*y + (-0.15589 - 0.51397*I)*z,\n",
    " x + (0.70756 - 0.23507*I)*y + (0.15589 + 0.51397*I)*z,\n",
    " x + (-0.70756 + 0.23507*I)*y + (-0.36717 + 0.39199*I)*z,\n",
    " x + (0.70756 - 0.23507*I)*y + (0.36717 - 0.39199*I)*z,\n",
    " x + (-0.70756 - 0.23507*I)*y + (-0.36717 - 0.39199*I)*z,\n",
    " x + (0.70756 + 0.23507*I)*y + (0.36717 + 0.39199*I)*z,\n",
    " x + (-1.85047)*y + (-0.19641 - 0.3402*I)*z,\n",
    " x + 1.85047*y + (0.19641 + 0.3402*I)*z,\n",
    " x + (-1.85047)*y + (-0.19641 + 0.3402*I)*z,\n",
    " x + 1.85047*y + (0.19641 - 0.3402*I)*z,\n",
    " y]"
   ]
  },
  {
   "cell_type": "markdown",
   "metadata": {},
   "source": [
    "We have the following isotropies:\n",
    "\n",
    "- $[C_6/C_2]$ is `[0,1,2]`\n",
    "- $[C_6/e]$ - there are four orbits of this type: `[24,26,3,25,4,23]`, `[6,11,14,13,12,5]`, `[7,20,18,19,8,17]`, and `[16,9,10,22,15,21]]`."
   ]
  },
  {
   "cell_type": "markdown",
   "metadata": {},
   "source": [
    "# Type IX: The $S_3$ quartic<a name=\"S3\"></a>\n",
    "We have a 2D family of $S_3$-symmetric quartics, with equations\n",
    "$$X^3Z + Y^3 Z + X^2 Y^2 + aXYZ^2 + bZ^4.$$\n",
    "We pick the values $a=-25$ and $b=10$ to compute the bitangents:"
   ]
  },
  {
   "cell_type": "code",
   "execution_count": null,
   "metadata": {},
   "outputs": [],
   "source": [
    "S3_Quartic = x^3*z + y^3*z + x^2 * y^2 - 25*x*y*z^2 + 10*z^4\n",
    "S3_Bitangents = compute_normalized_bitangents(S3_Quartic);S3_Bitangents"
   ]
  },
  {
   "cell_type": "markdown",
   "metadata": {},
   "source": [
    "For isotropy we have\n",
    "- A single fixed bitangent `[5]`\n",
    "- Three orbits of the form $[S_3/C_2]$: `[18,19,3]`, `[12,24,17]`, and `[16,25,13]`\n",
    "- Three orbits of the form $[S_3/e]$: `[1,23,22,26,27,0]`, `[14,21,15,20,2,4]`, and `[6,10,11,8,7,9]`"
   ]
  },
  {
   "cell_type": "markdown",
   "metadata": {},
   "source": [
    "# Type X: The $K_4$ quartic<a name=\"K4\"></a>\n",
    "We have a 3D family of $K_4$-symmetric quartics, given by $$X^4 + Y^4 + Z^4 + aX^2 Y^2 + bY^2Z^2 + c Z^2 X^2$$\n",
    "with action given by the diagonal matrices $$\\text{diag}[-1,1,1] \\qquad \\text{and}\\qquad \\text{diag}[1,-1,1].$$\n",
    "We choose to call these the *left* and *right* copies of $C_2$ in $K_4$."
   ]
  },
  {
   "cell_type": "code",
   "execution_count": null,
   "metadata": {},
   "outputs": [],
   "source": [
    "left_generator = matrix([[-1,0,0],[0,1,0],[0,0,1]])\n",
    "right_generator = matrix([[1,0,0],[0,-1,0],[0,0,1]])\n",
    "diagonal_generator = matrix([[-1,0,0],[0,-1,0],[0,0,1]])"
   ]
  },
  {
   "cell_type": "markdown",
   "metadata": {},
   "source": [
    "We pick the special values $(a,b,c) = (-9,-3,-8)$ to compute the bitangents"
   ]
  },
  {
   "cell_type": "code",
   "execution_count": null,
   "metadata": {},
   "outputs": [],
   "source": [
    "K4_Quartic = x^4 + y^4 + z^4 -9*x^2*y^2 - 3*y^2*z^2 - 8*x^2*z^2\n",
    "\n",
    "K4_Bitangents = compute_normalized_bitangents(K4_Quartic);K4_Bitangents"
   ]
  },
  {
   "cell_type": "markdown",
   "metadata": {},
   "source": [
    "Isotropy is:\n",
    "- $[K_4/C_2^L]$: `[0,1]`, `[2,3]`\n",
    "- $[K_4/e]$: `[4,5,18,19]`, `[6,7,16,17]`, `[8,9,14,15]`, `[10,11,12,13]`\n",
    "- $[K_4/C_2^R]$: `[20,21]`, `[22,23]`\n",
    "- $[K_4/C_2^\\Delta]$: `[24,25]`, `[26,27]`"
   ]
  },
  {
   "cell_type": "markdown",
   "metadata": {},
   "source": [
    "# Type XI: The $C_3$ quartic<a name=\"C3\"></a>\n",
    "We have a 3D family of $C_3$-symmetric quartics given by the equations:\n",
    "$$x(x-y)(x-ay)(x-by) + yz^3.$$\n",
    "The action of $C_3$ occurs via the diagonal matrix $\\begin{pmatrix} 1 & 0 & 0\\\\ 0& 1 &0 \\\\ 0 & 0 & \\zeta_3\\end{pmatrix}$ where $\\zeta_3$ is a primitive 3rd root of unity.\n",
    "\n",
    "We pick the special values $a=2$ and $b=3$ to compute bitangents:"
   ]
  },
  {
   "cell_type": "code",
   "execution_count": null,
   "metadata": {},
   "outputs": [],
   "source": [
    "C3_Quartic = z^3*y + x*(x-y)*(x-2*y)*(x-3*y)\n",
    "C3_Bitangents = compute_normalized_bitangents(C3_Quartic);C3_Bitangents"
   ]
  },
  {
   "cell_type": "markdown",
   "metadata": {},
   "source": [
    "The istropies are:\n",
    "- A single fixed bitangent, the last one `[27]`\n",
    "- Free transitive orbits $[C_3/e]$ given by the following indices: `[0,25,26]`, `[1,15,16]`, `[2,11,12]`, `[3,18,23]`, `[4,17,24]`,`[5,14,19]`, `[6,13,20]`, `[7,10,21]`, `[8,9,22]`."
   ]
  },
  {
   "cell_type": "markdown",
   "metadata": {},
   "source": [
    "# Type XII: The $C_2$ quartic\n",
    "Finally we have a 4D family of $C_2$-symmetric quartics, given by the equations\n",
    "$$x^4 + x^2 L_2 + L_4,$$\n",
    "where $L_n$ is any binary form of degree $n$ in $y$ and $z$. Here the $C_2$-action comes from sending $x\\mapsto -x$. We can easily see the action on bitangents by swapping signs. We pick the special values\n",
    "$$L_2 = -y^2 - 4z^2\\quad \\text{ and } \\quad L_4 = y^4 - y^2 z^2 - z^4$$"
   ]
  },
  {
   "cell_type": "code",
   "execution_count": null,
   "metadata": {},
   "outputs": [],
   "source": [
    "L2 = -y^2 - 4*z^2\n",
    "L4 = y^4 - y^2*z^2 - z^4\n",
    "C2_Quartic = x^4 + x^2*L2 + L4\n",
    "C2_Bitangents = compute_normalized_bitangents(C2_Quartic);C2_Bitangents"
   ]
  },
  {
   "cell_type": "markdown",
   "metadata": {},
   "source": [
    "For isotropy:\n",
    "- The first four bitangents are clearly fixed, as they have no $x$-coordinate.\n",
    "- The remaining 24 bitangents come in pairs under the $C_2$-action: `[4,5]`, `[6,7]`,...`[26,27]`"
   ]
  }
 ],
 "metadata": {
  "kernelspec": {
   "display_name": "SageMath 10.6",
   "language": "sage",
   "name": "sagemath-10.6"
  },
  "language_info": {
   "codemirror_mode": {
    "name": "ipython",
    "version": 3
   },
   "file_extension": ".py",
   "mimetype": "text/x-python",
   "name": "python",
   "nbconvert_exporter": "python",
   "pygments_lexer": "ipython3",
   "version": "3.12.5"
  }
 },
 "nbformat": 4,
 "nbformat_minor": 4
}
