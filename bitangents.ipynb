{
 "cells": [
  {
   "cell_type": "markdown",
   "metadata": {},
   "source": [
    "# Orbits of bitangents on symmetric quartics\n",
    "\n",
    "## Table of contents\n",
    "1. [Introduction](#introduction)\n",
    "2. [Functions](#functions)\n",
    "3. [Type I: The Klein ($\\text{PSL}_2(7)$) quartic](#klein)\n",
    "4. [Type II: The Clebsch](#fermat)\n",
    "5. [Type III: The (48,33) quartic](#type3)\n",
    "6. [Type IV: The $S_4$ quartic](#S4)\n",
    "7. [Type V: The (16,13) quartic](#1613)\n",
    "8. [Type VI: The $C_9$ quartic](#C9)\n",
    "9. [Type VII: The $D_4$ quartic](#D4)\n",
    "10. [Type IX: The $S_3$ quartic](#S3)\n",
    "11. [Type X: The $K_4$ quartic](#K4)\n",
    "12. [Type XI: The $C_3$ quartic](#C3)\n",
    "13. [Type XII: The $C_2$ quartic](#C2)"
   ]
  },
  {
   "cell_type": "markdown",
   "metadata": {},
   "source": [
    "# Introduction<a name=\"introduction\"></a>\n",
    "The following code is taken from [Vinzant's webpage](http://sites.math.washington.edu/~vinzant/research/quartics/quartictype.sage) from [her research on quartics](http://sites.math.washington.edu/~vinzant/research/quartics.html) with Plaumann and Sturmfels. It inputs a quartic polynomial and outputs (among other things) equations for its tritangents."
   ]
  },
  {
   "cell_type": "code",
   "execution_count": null,
   "metadata": {},
   "outputs": [],
   "source": [
    "%run Automorphism_Groups.ipynb"
   ]
  },
  {
   "cell_type": "markdown",
   "metadata": {},
   "source": [
    "# Functions<a name=\"functions\"></a>"
   ]
  },
  {
   "cell_type": "code",
   "execution_count": null,
   "metadata": {},
   "outputs": [],
   "source": [
    "#INPUT: A homogeneous quartic in QQ[x,y,z]\n",
    "#OUTPUT: The 28 bitangents (with floating point coefficients)\n",
    "F=QQ; T.<x,y,z>=PolynomialRing(F,order='degrevlex')\n",
    "\n",
    "def compute_bitangents(f):\n",
    "    F=QQ; T.<x,y,z>=PolynomialRing(F)\n",
    "    # Check whether the quartic is smooth\n",
    "    Grad=ideal(f,diff(f,x),diff(f,y),diff(f,z))\n",
    "    # if not Grad.dimension()==0:\n",
    "    #     sys.exit(\"Quartic is not smooth!\")\n",
    "        \n",
    "    R.<x,y,z,a,b,a0,a1,a2,a3,a4>=PolynomialRing(F)\n",
    "    f0=f.base_extend(R)\n",
    "    S.<a,b>=PolynomialRing(F)\n",
    "    digits=50\n",
    "    threshold=0.000000000001\n",
    "    almostzero=threshold\n",
    "    \n",
    "    Line= a*x+b*y+z;\n",
    "    puresquare=ideal(a0*a3^2-a1^2*a4,8*a0^2*a3-4*a0*a1*a2+a1^3,8*a1*a4^2-4*a2*a3*a4+a3^3,8*a0*a1*a4-4*a0*a2*a3+a1^2*a3,8*a0*a3*a4-4*a1*a2*a4+a1*a3^2,16*a0^2*a4+2*a0*a1*a3-4*a0*a2^2+a1^2*a2,16*a0*a4^2+2*a1*a3*a4-4*a2^2*a4+a2*a3^2);\n",
    "    Res=f0.resultant(Line,z)    \n",
    "    Res=Res.subs(y=1)    \n",
    "    phi=hom(R,S,[0,0,0,a,b,Res.coefficient({x:0}),Res.coefficient({x:1}),Res.coefficient({x:2}),Res.coefficient({x:3}),Res.coefficient({x:4})])\n",
    "    bit1 = phi(puresquare)     \n",
    "    \n",
    "    I_ideal=singular.groebner(singular(bit1))\n",
    "    singular.lib('solve.lib')\n",
    "    VRing=singular.solve(I_ideal,digits)\n",
    "    singular.set_ring(VRing)\n",
    "    B1=singular(\"SOL\")\n",
    "    \n",
    "    nreal1=0\n",
    "    Bitangents=[]\n",
    "    RealBitangents=[]\n",
    "    for k in [1..len(B1)]:\n",
    "        real=0;\n",
    "        if ((B1[k][1].impart()).absValue()<threshold) and ((B1[k][2].impart()).absValue()<threshold): \n",
    "            real=1\n",
    "            RealBitangents=RealBitangents+[(float(B1[k][1].repart())+float(B1[k][1].impart())*i)*x+(float(B1[k][2].repart())+float(B1[k][2].impart())*i)*y+z]\n",
    "        nreal1=nreal1+real\n",
    "        Bitangents=Bitangents+[(float(B1[k][1].repart())+float(B1[k][1].impart())*i)*x+(float(B1[k][2].repart())+float(B1[k][2].impart())*i)*y+z]\n",
    "    Line=a*x+y     \n",
    "    Res=f0.resultant(Line,y)    \n",
    "    Res=Res.subs(z=1)   \n",
    "    phi=hom(R,S,[0,0,0,a,0,Res.coefficient({x:0}),Res.coefficient({x:1}),Res.coefficient({x:2}),Res.coefficient({x:3}),Res.coefficient({x:4})])  \n",
    "    bit2=phi(puresquare)+ideal(b)\n",
    "    \n",
    "    if dimension(bit2)==-1: nreal2=0\n",
    "    else: \n",
    "          I_ideal=singular.groebner(singular(bit2))\n",
    "          singular.lib('solve.lib')\n",
    "          VRing=singular.solve(I_ideal,digits)\n",
    "          singular.set_ring(VRing)\n",
    "          B2=singular(\"SOL\")\n",
    "          nreal2=0\n",
    "          for k in [1..len(B2)]:\n",
    "                real=0\n",
    "                if ((B2[k][1].impart()).absValue()<threshold) and ((B2[k][2].impart()).absValue()<threshold):\n",
    "                    real=1\n",
    "                    RealBitangents=RealBitangents+[(float(B2[k][1].repart())+float(B2[k][1].impart())*i)*x+y]\n",
    "                nreal2=nreal2+real  \n",
    "                Bitangents=Bitangents+[(float(B2[k][1].repart())+float(B2[k][1].impart())*i)*x+y]\n",
    "    \n",
    "    Res=f0.resultant(x)\n",
    "    Res=Res.subs(z=1)\n",
    "    phi=hom(R,F,[0,0,0,0,0,Res.coefficient({y:0}),Res.coefficient({y:1}),Res.coefficient({y:2}),Res.coefficient({y:3}),Res.coefficient({y:4})])  \n",
    "    bit3=phi(puresquare)\n",
    "    if bit3==ideal(0):\n",
    "        nreal3=1\n",
    "        Bitangents=Bitangents+[x]\n",
    "        RealBitangents=RealBitangents+[x]\n",
    "    else: nreal3=0\n",
    "    \n",
    "    NRealBit=nreal1+nreal2+nreal3\n",
    "    if len(Bitangents)!=28:\n",
    "        return OSError(\"Something has gone wrong. We found \"+str(len(Bitangents))+\" bitangents\")\n",
    "    # print(\"The quartic has 28 bitangets, stored in 'Bitangents', and \"+str(NRealBit)+\" real bitangents, stored in 'RealBitangents'.\")\n",
    "    \n",
    "    return Bitangents"
   ]
  },
  {
   "cell_type": "code",
   "execution_count": null,
   "metadata": {
    "collapsed": false,
    "jupyter": {
     "outputs_hidden": false
    }
   },
   "outputs": [],
   "source": [
    "from sage.symbolic.expression_conversions import polynomial\n",
    "\n",
    "# Round complex numbers\n",
    "def round_cx(z0,n):\n",
    "    return float(round(z0.real(),n)) + float(round(z0.imag(),n))*I\n",
    "\n",
    "# The following inputs a line ax+by+cz and outputs the tuple of coefficients [a,b,c]\n",
    "# Note that line.coefficients() has errors, in that a line line 3y+2z will output [3,2] rather than [0,3,2] which is what we want\n",
    "def line_to_coeffs(bitangent):\n",
    "    return [CC(bitangent.coefficient({x:1})), CC(bitangent.coefficient({y:1})),CC(bitangent.coefficient({z:1}))]\n",
    "\n",
    "# Turn a list of three coefficients [a,b,c] into the polynomial ax+by+cz=0\n",
    "def coeffs_to_line(list_of_coeffs):\n",
    "    return x*list_of_coeffs[0] + y*list_of_coeffs[1] + z*list_of_coeffs[2]\n",
    "\n",
    "# Provide a normalized version of the bitangent -- old (working) version\n",
    "# def normalize(bitangent):\n",
    "#     b = bitangent.change_ring(ComplexField(30))\n",
    "#     if b.coefficients()[0] != 0:\n",
    "#         c = b*(1/b.coefficients()[0])\n",
    "#         if len(c.coefficients())==3:\n",
    "#             new_coeffs = [round_cx(a,5) for a in c.coefficients()]\n",
    "#             c = new_coeffs[0]*x + new_coeffs[1]*y + new_coeffs[2]*z\n",
    "#         return c\n",
    "#     return b\n",
    "\n",
    "\n",
    "\n",
    "# Provide a normalized version of the bitangent\n",
    "def normalize(bitangent):\n",
    "    # Base change to CC\n",
    "    b = bitangent.change_ring(ComplexField(30))\n",
    "\n",
    "    # If the x-coordinate is nonzero mod out by it\n",
    "    if line_to_coeffs(b)[0] != 0:\n",
    "        c = b*(1/line_to_coeffs(b)[0])\n",
    "    # Else mod out by the y-coordinate\n",
    "    elif line_to_coeffs(b)[1] != 0:\n",
    "        c = b*(1/line_to_coeffs(b)[1])\n",
    "    # Or the z-coordinate\n",
    "    else:\n",
    "        c = b*(1/line_to_coeffs(b)[2])\n",
    "    \n",
    "    # Round the output coordinates and return a new line\n",
    "    new_coeffs = [round_cx(a,4) for a in line_to_coeffs(c)]\n",
    "    return coeffs_to_line(new_coeffs)\n",
    "\n",
    "\n",
    "def compute_normalized_bitangents(f):\n",
    "    return [normalize(b) for b in compute_bitangents(f)]\n",
    "\n",
    "# Apply a matrix M to a line B = {ax+by+cy=0}\n",
    "def gp_action(M,B):\n",
    "    vec = matrix([[B.coefficient({x:1})],[B.coefficient({y:1})],[B.coefficient({z:1})]])\n",
    "    output_mat = (M*vec).transpose()\n",
    "    w = list(list(output_mat)[0])\n",
    "    outputline = w[0]*x + w[1]*y + w[2]*z\n",
    "    return normalize(outputline)\n",
    "\n",
    "def extract_orbit(Bitangents,list_of_indices):\n",
    "    orbit = [Bitangents[j] for j in list_of_indices]\n",
    "    remaining_Bitangents = [b for b in Bitangents if b not in orbit]\n",
    "    return orbit,remaining_Bitangents"
   ]
  },
  {
   "cell_type": "code",
   "execution_count": null,
   "metadata": {},
   "outputs": [],
   "source": [
    "F=QQ; T.<x,y,z>=PolynomialRing(F)\n",
    "\n",
    "bitan1 = 3*x + y + z\n",
    "bitan2 = -0.5*y + z\n",
    "bitan3 = -7*z\n",
    "\n",
    "\n",
    "normalize(bitan3)"
   ]
  },
  {
   "cell_type": "markdown",
   "metadata": {},
   "source": [
    "We write some functions to make the equations of bitangents more readable and act on them via a subgroup $G\\le \\text{PGL}_3(\\mathbb{C})$."
   ]
  },
  {
   "cell_type": "code",
   "execution_count": null,
   "metadata": {},
   "outputs": [],
   "source": [
    "# We also add some commands we'll use throughout\n",
    "def matrix_to_list(M):\n",
    "    return [list(r) for r in M.rows()]"
   ]
  },
  {
   "cell_type": "code",
   "execution_count": null,
   "metadata": {},
   "outputs": [],
   "source": [
    "# Generates a candidate list of the orbit of an input bitangent under a list of group elements\n",
    "def candidate_orbit(bitangent,list_of_gp_elements):\n",
    "    output_list = [bitangent]\n",
    "    isotropy_gens = []\n",
    "    for M in list_of_gp_elements:\n",
    "        output_list.append(gp_action(M,bitangent))\n",
    "        if gp_action(M,bitangent) == bitangent:\n",
    "            isotropy_gens.append(M)\n",
    "    for line in output_list:\n",
    "        print(line)\n",
    "    print('I think isotropy is generated by:\\n')\n",
    "    for isotropy_elt in isotropy_gens:\n",
    "        print(isotropy_elt)"
   ]
  },
  {
   "cell_type": "code",
   "execution_count": null,
   "metadata": {},
   "outputs": [],
   "source": [
    "def investigate_orbit(bitangent,group_dictionary):\n",
    "    output_list = [bitangent]\n",
    "    isotropy_gens = []\n",
    "    # Iterate over the group\n",
    "    for g in group_dictionary.keys():        \n",
    "        output_list.append(gp_action(group_dictionary[g],bitangent))\n",
    "        if gp_action(group_dictionary[g],bitangent) == bitangent:\n",
    "            isotropy_gens.append(g)\n",
    "    for line in set(output_list):\n",
    "        print(line)\n",
    "    print('I think isotropy is generated by:\\n')\n",
    "    for isotropy_elt in isotropy_gens:\n",
    "        print(isotropy_elt)"
   ]
  },
  {
   "cell_type": "code",
   "execution_count": null,
   "metadata": {},
   "outputs": [],
   "source": [
    "def trim(bitangent):\n",
    "    x_coeff = CC(bitangent.coefficient({x:1}));\n",
    "    y_coeff = CC(bitangent.coefficient({y:1}));\n",
    "    z_coeff = CC(bitangent.coefficient({z:1}));\n",
    "    return round_cx(x_coeff,3)*x + round_cx(y_coeff,3)*y + round_cx(z_coeff,3)*z\n",
    "\n",
    "def investigate_orbit_Klein(bitangent,group_dictionary):\n",
    "    output_list = [bitangent]\n",
    "    isotropy_gens = []\n",
    "    # Iterate over the group\n",
    "    for g in group_dictionary.keys():        \n",
    "        output_list.append(trim(gp_action(group_dictionary[g],bitangent)))\n",
    "        if trim(gp_action(group_dictionary[g],bitangent)) == trim(bitangent):\n",
    "            isotropy_gens.append([g,group_dictionary[g]])\n",
    "\n",
    "    # Output the orbits\n",
    "    for line in set(output_list):\n",
    "        print(line)\n",
    "\n",
    "    # Output the isotropy\n",
    "    print('I think isotropy is generated by:\\n')\n",
    "    for isotropy_elt in isotropy_gens:\n",
    "        print(isotropy_elt)"
   ]
  },
  {
   "cell_type": "code",
   "execution_count": null,
   "metadata": {},
   "outputs": [],
   "source": [
    "############\n",
    "\n",
    "def investigate_orbit_V(bitangent,group_dictionary):\n",
    "    output_list = [bitangent]\n",
    "    isotropy_gens = []\n",
    "    # Iterate over the group\n",
    "    for g in group_dictionary.keys():        \n",
    "        output_list.append(gp_action(group_dictionary[g],bitangent))\n",
    "        if gp_action(group_dictionary[g],bitangent) == bitangent:\n",
    "            isotropy_gens.append([g,group_dictionary[g]])\n",
    "\n",
    "    # Output the orbits\n",
    "    for line in set(output_list):\n",
    "        print(line)\n",
    "\n",
    "    # Output the isotropy\n",
    "    print('I think isotropy is generated by:\\n')\n",
    "    for isotropy_elt in isotropy_gens:\n",
    "        print(isotropy_elt)\n",
    "        # list_version = matrix_to_list(isotropy_elt)\n",
    "        # # print(list_version)\n",
    "        # output_list = []\n",
    "        # for row in list_version:\n",
    "        #     new_row = []\n",
    "        #     for j in row:\n",
    "        #         # every entry in the matx representation is either totally real or totally imaginary\n",
    "        #         if j.real != 0:\n",
    "        #             new_row.append(int(j.real()))\n",
    "        #         elif j.imag != 0:\n",
    "        #             new_row.append(int(j.imag())*I)\n",
    "        #         else:\n",
    "        #             print('error')\n",
    "        #     output_list.append(new_row)\n",
    "        # print(str(output_list) + ',')\n",
    "\n",
    "# def investigate_orbit2(bitangent,group_dictionary):\n",
    "#     output_list = [bitangent]\n",
    "#     isotropy_gens = []\n",
    "#     # Iterate over the group\n",
    "#     for g in group_dictionary.keys():        \n",
    "#         output_list.append(gp_action(group_dictionary[g],bitangent))\n",
    "#         if gp_action(group_dictionary[g],bitangent) == bitangent:\n",
    "#             isotropy_gens.append(group_dictionary[g])\n",
    "#     for line in set(output_list):\n",
    "#         print(line)\n",
    "#     print('I think isotropy is generated by:\\n')\n",
    "#     for isotropy_elt in isotropy_gens:\n",
    "#         print(isotropy_elt)"
   ]
  },
  {
   "cell_type": "code",
   "execution_count": null,
   "metadata": {},
   "outputs": [],
   "source": [
    "def investigate_orbit_S4(bitangent,group_dictionary):\n",
    "    output_list = [bitangent]\n",
    "    isotropy_gens = []\n",
    "    # Iterate over the group\n",
    "    for g in group_dictionary.keys():        \n",
    "        output_list.append(gp_action(group_dictionary[g],bitangent))\n",
    "        if gp_action(group_dictionary[g],bitangent) == bitangent:\n",
    "            isotropy_gens.append(group_dictionary[g])\n",
    "    for line in set(output_list):\n",
    "        print(line)\n",
    "    print('I think isotropy is generated by:\\n')\n",
    "    for isotropy_elt in isotropy_gens:\n",
    "        list_version = matrix_to_list(isotropy_elt)\n",
    "        output_list = []\n",
    "        for row in list_version:\n",
    "            new_row = []\n",
    "            for j in row:\n",
    "                new_row.append(int(j.real()))\n",
    "            output_list.append(new_row)\n",
    "        print(str(output_list) + ',')"
   ]
  },
  {
   "cell_type": "code",
   "execution_count": null,
   "metadata": {},
   "outputs": [],
   "source": [
    "def bitan_difference(bitan1,bitan2):\n",
    "    # Take the difference in absolute value between each of the coefficients and sum these\n",
    "    return abs(CC(bitan1.coefficient({x:1})) - CC(bitan2.coefficient({x:1}))) + abs(CC(bitan1.coefficient({y:1})) - CC(bitan2.coefficient({y:1}))) + abs(CC(bitan1.coefficient({z:1})) - CC(bitan2.coefficient({z:1})))"
   ]
  },
  {
   "cell_type": "code",
   "execution_count": null,
   "metadata": {},
   "outputs": [],
   "source": [
    "bitan1 =x + (-1.1234 - 4.9221*I)*y + (-2.9252 - 1.4087*I)*z\n",
    "bitan2 =x + (-1.1231 - 4.9225*I)*y + (-2.9254 - 1.4091*I)*z\n",
    "# bitan_difference(bitan1,bitan2)\n",
    "bitan_difference(bitan1,bitan2)"
   ]
  },
  {
   "cell_type": "code",
   "execution_count": null,
   "metadata": {},
   "outputs": [],
   "source": [
    "def same_bitangent(bitan1,bitan2, error_rate=0.01):\n",
    "    if bitan_difference(bitan1,bitan2) < error_rate:\n",
    "        return true\n",
    "    else:\n",
    "        return false\n"
   ]
  },
  {
   "cell_type": "code",
   "execution_count": null,
   "metadata": {},
   "outputs": [],
   "source": [
    "def investigate_orbit_NEW(bitangent,group_dictionary):\n",
    "    output_list = [bitangent]\n",
    "\n",
    "    for g in group_dictionary.keys():\n",
    "        g_bitangent = gp_action(group_dictionary[g],bitangent)\n",
    "\n",
    "        new_bitangent = True\n",
    "        for b in output_list:\n",
    "            if same_bitangent(g_bitangent,b):\n",
    "                new_bitangent = False\n",
    "\n",
    "        if new_bitangent == True:\n",
    "            output_list.append(g_bitangent)\n",
    "    return list(set(output_list))\n",
    "\n",
    "def investigate_isotropy_NEW(bitangent,group_dictionary):\n",
    "    isotropy_gens = []\n",
    "    for g in group_dictionary.keys():\n",
    "        # print(g)\n",
    "        g_bitangent = gp_action(group_dictionary[g],bitangent)\n",
    "        # print(g_bitangent)\n",
    "        if same_bitangent(g_bitangent,bitangent):\n",
    "            isotropy_gens.append(g)\n",
    "    return isotropy_gens"
   ]
  },
  {
   "cell_type": "markdown",
   "metadata": {},
   "source": [
    "We want to compute all the orbits of the bitangents for the [cubic surfaces found here](https://mat.uab.cat/~francesc/mates/autgen3.pdf).b"
   ]
  },
  {
   "cell_type": "markdown",
   "metadata": {},
   "source": [
    "TODO -- FIX EVERYTHING ABOVE HERE/RENAME FUNCTIONS/ETC"
   ]
  },
  {
   "cell_type": "markdown",
   "metadata": {},
   "source": [
    "# Type I: The Klein quartic<a name=\"klein\"></a>\n",
    "Our first quartic is the *Klein quartic*, defined by the equation\n",
    "$$x^3y + y^3z + z^3x$$\n",
    "This has the largest possible automorphism group, encoded as `PSL_dict` here.\n",
    "\n",
    "It is a classical fact that the automorphism group of the Klein quartic acts transitively on its 28 bitangents, however we can also observe this computationally. We first compute a list of all the bitangents of the Klein quartic."
   ]
  },
  {
   "cell_type": "code",
   "execution_count": null,
   "metadata": {},
   "outputs": [],
   "source": [
    "Klein = x^3*y + y^3*z + z^3*x;\n",
    "Klein_Bitangents = compute_normalized_bitangents(Klein);Klein_Bitangents"
   ]
  },
  {
   "cell_type": "markdown",
   "metadata": {},
   "source": [
    "We can look at the first bitangent `Klein_Bitangents[0]`, and try to examine what its orbit is under the action of the automorphism group using our `investigate_orbit` command:"
   ]
  },
  {
   "cell_type": "code",
   "execution_count": null,
   "metadata": {},
   "outputs": [],
   "source": [
    "investigate_orbit_NEW(Klein_Bitangents[0],PSL_dict)"
   ]
  },
  {
   "cell_type": "markdown",
   "metadata": {},
   "source": [
    "It is clear to see that we get all 28 bitangents in the orbit of the first one under the action of $\\text{PSL}_2(7)$. It remains to ask what the isotropy group of a single bitangent is --- since the action is transitive, we should obtain an index 48 subgroup in $\\text{PSL}_2(7)$."
   ]
  },
  {
   "cell_type": "code",
   "execution_count": null,
   "metadata": {},
   "outputs": [],
   "source": [
    "investigate_isotropy_NEW(compute_normalized_bitangents(Klein)[0],PSL_dict)"
   ]
  },
  {
   "cell_type": "markdown",
   "metadata": {},
   "source": [
    "We can then return to GAP and verify that these matrices generate a subgroup of $\\text{PSL}_2(7)$ which is isomorphic to $S_3$. Therefore as a $\\text{PSL}_2(7)$-set, the 28 bitangents of the Klein quartic are in equivariant bijection with the left cosets $[\\text{PSL}_2(7)/S_3]$. As a sanity check, $|\\text{PSL}_2(7)| = 168$ and $|S_3| = 6$, and $168/6 = 28$."
   ]
  },
  {
   "cell_type": "markdown",
   "metadata": {},
   "source": [
    "# Type II: Fermat<a href=\"fermat\"></a>"
   ]
  },
  {
   "cell_type": "markdown",
   "metadata": {},
   "source": [
    "## (II) Bitangents"
   ]
  },
  {
   "cell_type": "code",
   "execution_count": null,
   "metadata": {},
   "outputs": [],
   "source": [
    "F=QQ; T.<x,y,z>=PolynomialRing(F)\n",
    "Fermat = x^4 + y^4 + z^4\n",
    "\n",
    "Fermat_Bitangents = compute_normalized_bitangents(Fermat);Fermat_Bitangents"
   ]
  },
  {
   "cell_type": "markdown",
   "metadata": {},
   "source": [
    "Again, we can look at the orbit of the first bitangent:"
   ]
  },
  {
   "cell_type": "code",
   "execution_count": null,
   "metadata": {},
   "outputs": [],
   "source": [
    "investigate_orbit_NEW(Fermat_Bitangents[0],Fermat_dict)"
   ]
  },
  {
   "cell_type": "markdown",
   "metadata": {},
   "source": [
    "Hence we get 12 bitangents in this orbit. In terms of the indices of the list `Fermat_Bitangents`, these are the entries `[0,1,2,3,24,25,26,27,8,9,10,11]`. Again we can investigate the isotropy:"
   ]
  },
  {
   "cell_type": "code",
   "execution_count": null,
   "metadata": {},
   "outputs": [],
   "source": [
    "investigate_isotropy_NEW(Fermat_Bitangents[0],Fermat_dict)"
   ]
  },
  {
   "cell_type": "markdown",
   "metadata": {},
   "source": [
    "Going back to GAP, we get a copy of $C_8$ living inside the automorphism group of the Fermat quartic. Hence the 12 bitangents above correspond to the transitive set $[C_4^{\\times 2}\\rtimes S_3 / C_8]$.\n",
    "\n",
    "We can look at the remaining bitangents, for instance the element `Fermat_Bitangents[4]` which was not in the orbit above:"
   ]
  },
  {
   "cell_type": "code",
   "execution_count": null,
   "metadata": {},
   "outputs": [],
   "source": [
    "investigate_orbit_NEW(Fermat_Bitangents[4],Fermat_dict)"
   ]
  },
  {
   "cell_type": "markdown",
   "metadata": {},
   "source": [
    "These are the remaining 16 bitangents -- their indices in `Fermat_Bitangents` are `[16,6,20,21,15,12,14,17,18,7,4,5,23,22,13,19]`. Again we study isotropy:"
   ]
  },
  {
   "cell_type": "code",
   "execution_count": null,
   "metadata": {},
   "outputs": [],
   "source": [
    "investigate_isotropy_NEW(Fermat_Bitangents[4],Fermat_dict)"
   ]
  },
  {
   "cell_type": "markdown",
   "metadata": {},
   "source": [
    "This gives us a copy of $C_6$ inside of $C_4^{\\times 2}\\rtimes S_3$. Hence altogether we get an equivariant bijection\n",
    "$$\\text{28 bitangen"
   ]
  },
  {
   "cell_type": "markdown",
   "metadata": {},
   "source": [
    "# Type III: The $(48,33)$ quartic<a name=\"type3\"></a>\n",
    "There is a unique quartic of Type III, defined by the equation\n",
    "$$x^4 + y^4 + z^4 + (4\\rho+2)x^2y^2,$$\n",
    "where $\\rho$ is a primitive 3rd root of unity (note that $4\\rho + 2 = 2\\sqrt{-3}$, which is another common form for this quartic). Its automorphism group has order 48, and GAP ID `[48,33]`. It is accessible via `GpIII_Dict`.\n",
    "\n"
   ]
  },
  {
   "cell_type": "markdown",
   "metadata": {},
   "source": [
    "## (III) Bitangents"
   ]
  },
  {
   "cell_type": "markdown",
   "metadata": {},
   "source": [
    "We would like to compute equations for its bitangents, however since $\\rho\\notin\\mathbb{Q}$, we must modify the function `compute_bitangents`. To that end we include the following"
   ]
  },
  {
   "cell_type": "code",
   "execution_count": null,
   "metadata": {},
   "outputs": [],
   "source": [
    "def compute_bitangents_ideal_Q3(f):\n",
    "    F=CyclotomicField(3); T.<x,y,z>=PolynomialRing(F)\n",
    "    # Check whether the quartic is smooth\n",
    "    # Grad=ideal(f,diff(f,x),diff(f,y),diff(f,z))\n",
    "    # if not Grad.dimension()==0:\n",
    "    #     sys.exit(\"Quartic is not smooth!\")\n",
    "    f = T(f)\n",
    "    R.<x,y,z,a,b,a0,a1,a2,a3,a4>=PolynomialRing(F)\n",
    "    f0=f.base_extend(R)\n",
    "    S.<a,b>=PolynomialRing(F)\n",
    "    digits=50\n",
    "    threshold=0.000000000001\n",
    "    almostzero=threshold\n",
    "\n",
    "    # Make a formal line\n",
    "    Line= a*x+b*y+z;\n",
    "    \n",
    "    puresquare=ideal(a0*a3^2-a1^2*a4,8*a0^2*a3-4*a0*a1*a2+a1^3,8*a1*a4^2-4*a2*a3*a4+a3^3,8*a0*a1*a4-4*a0*a2*a3+a1^2*a3,8*a0*a3*a4-4*a1*a2*a4+a1*a3^2,16*a0^2*a4+2*a0*a1*a3-4*a0*a2^2+a1^2*a2,16*a0*a4^2+2*a1*a3*a4-4*a2^2*a4+a2*a3^2);\n",
    "    Res=f0.resultant(Line,z)    \n",
    "    Res=Res.subs(y=1)    \n",
    "    phi=hom(R,S,[0,0,0,a,b,Res.coefficient({x:0}),Res.coefficient({x:1}),Res.coefficient({x:2}),Res.coefficient({x:3}),Res.coefficient({x:4})])\n",
    "    bit1 = phi(puresquare)    \n",
    "    \n",
    "    I_ideal=singular.groebner(singular(bit1))\n",
    "    return I_ideal\n",
    "\n",
    "Dolg = x^4 + y^4 + z^4 + 2*sqrt(-3)*(x^2)*(y^2)\n",
    "F=CyclotomicField(12); T.<x,y,z>=PolynomialRing(F)\n",
    "\n",
    "# Grad = ideal(Dolg,diff(Dolg,x),diff(Dolg,y),diff(Dolg,z))\n",
    "Iideal = compute_bitangents_ideal_Q3(Dolg);Iideal\n",
    "print(Iideal)"
   ]
  },
  {
   "cell_type": "markdown",
   "metadata": {},
   "source": [
    "This gives us an ideal in a polynomial ring over $\\mathbb{Q}(\\zeta_3)$ that we wish to solve -- the solutions will be bitangents of the form $ax+by+z=0$."
   ]
  },
  {
   "cell_type": "code",
   "execution_count": null,
   "metadata": {},
   "outputs": [],
   "source": [
    "# Grad.dimension()\n",
    "# cyc\n",
    "\n",
    "R.<a,b> =PolynomialRing(CC)\n",
    "rho = exp(2*pi*i/3)\n",
    "a,b = var('a b')\n",
    "f0 = a^4+(-4*rho-2)*a^2*b^2+b^4+4\n",
    "f1 = 3*a^3*b^3+(2*rho+1)*a*b^5+(4*rho+2)*a*b\n",
    "f2 = 7*a^2*b^5+(2*rho+1)*b^7+2*a^2*b+(8*rho+4)*b^3\n",
    "f3 = 2*a*b^7+(2*rho+1)*a^3*b+a*b^3\n",
    "f4 = 2*b^9-5*a^4*b+(-6*rho-3)*a^2*b^3+10*b^5+8*b\n",
    "\n",
    "\n",
    "candidates = solve([f1==0,f2==0,f3==0,f0==0,f4==0],a,b); candidates"
   ]
  },
  {
   "cell_type": "markdown",
   "metadata": {},
   "source": [
    "This gives us 24 bitangents. To obtain the other 4, we need to consider the case where $z=0$..... TODO"
   ]
  },
  {
   "cell_type": "code",
   "execution_count": null,
   "metadata": {},
   "outputs": [],
   "source": [
    "QuarticIIIBis = [x + (-0.50000084 + 0.50000314*I)*z,\n",
    "x + (-0.50000314 - 0.50000084*I)*z,\n",
    "x - y + (0.500000000000000 - 0.866030000000000*I)*z,\n",
    "x - y + (-0.500000000000000 + 0.866030000000000*I)*z,\n",
    "x - y + (-0.866030000000000 - 0.500000000000000*I)*z,\n",
    "x - y + (0.866030000000000 + 0.500000000000000*I)*z,\n",
    "x + (0.50000314 + 0.50000084*I)*z,\n",
    "x + (0.50000084 - 0.50000314*I)*z,\n",
    "y + (0.50000314 + 0.50000084*I)*z,\n",
    "y + (-0.50000084 + 0.50000314*I)*z,\n",
    "y + (0.50000084 - 0.50000314*I)*z,\n",
    "y + (-0.50000314 - 0.50000084*I)*z,\n",
    "x + 1.00000000000000*I*y + (0.500000000000000 + 0.866030000000000*I)*z,\n",
    "x + 1.00000000000000*I*y + (0.866030000000000 - 0.500000000000000*I)*z,\n",
    "x + 1.00000000000000*I*y + (-0.866030000000000 + 0.500000000000000*I)*z,\n",
    "x + 1.00000000000000*I*y + (-0.500000000000000 - 0.866030000000000*I)*z,\n",
    "x + (-1.00000000000000*I)*y + (0.500000000000000 + 0.866030000000000*I)*z,\n",
    "x + (-1.00000000000000*I)*y + (0.866030000000000 - 0.500000000000000*I)*z,\n",
    "x + (-1.00000000000000*I)*y + (-0.866030000000000 + 0.500000000000000*I)*z,\n",
    "x + (-1.00000000000000*I)*y + (-0.500000000000000 - 0.866030000000000*I)*z,\n",
    "x + y + (0.500000000000000 - 0.866030000000000*I)*z,\n",
    "x + y + (-0.866030000000000 - 0.500000000000000*I)*z,\n",
    "x + y + (-0.500000000000000 + 0.866030000000000*I)*z,\n",
    "x + y + (0.866030000000000 + 0.500000000000000*I)*z,\n",
    "x + (-0.36602540 - 0.36602540*I)*y,\n",
    "x + (0.36602540 + 0.36602540*I)*y,\n",
    "x + (-1.3660254 + 1.3660254*I)*y,\n",
    "x + (1.3660254 - 1.3660254*I)*y]\n"
   ]
  },
  {
   "cell_type": "code",
   "execution_count": null,
   "metadata": {},
   "outputs": [],
   "source": [
    "investigate_orbit_NEW(QuarticIIIBis[0],GpIII_Dict)"
   ]
  },
  {
   "cell_type": "code",
   "execution_count": null,
   "metadata": {},
   "outputs": [],
   "source": [
    "investigate_isotropy_NEW(QuarticIIIBis[0],GpIII_Dict)"
   ]
  },
  {
   "cell_type": "code",
   "execution_count": null,
   "metadata": {},
   "outputs": [],
   "source": [
    "investigate_orbit_NEW(QuarticIIIBis[27],GpIII_Dict)"
   ]
  },
  {
   "cell_type": "code",
   "execution_count": null,
   "metadata": {},
   "outputs": [],
   "source": [
    "investigate_isotropy_NEW(QuarticIIIBis[27],GpIII_Dict)"
   ]
  },
  {
   "cell_type": "markdown",
   "metadata": {},
   "source": [
    "# Type IV: The $S_4$ quartic<a name=\"S4\"></a>\n",
    "We have an $S_4$-symmetric quartic with equation\n",
    "$$X^4 + Y^4 + Z^4 + a(X^2 Y^2 + Y^2 Z^2 + Z^2 X^2)$$\n",
    "and symmetries ..."
   ]
  },
  {
   "cell_type": "code",
   "execution_count": null,
   "metadata": {},
   "outputs": [],
   "source": []
  },
  {
   "cell_type": "code",
   "execution_count": null,
   "metadata": {},
   "outputs": [],
   "source": [
    "e_isotropy = []\n",
    "C2_even = [[24,25,26,27,16,17,18,19,0,1,2,3]]\n",
    "C2_odd = [[4,5,6,7,14,15,22,23,8,9,10,11]]\n",
    "S3 = [[12,13,20,21]]\n",
    "orbit_indices = e_isotropy + C2_even + C2_odd + S3\n",
    "all_orbit_indices = flatten(orbit_indices)\n",
    "list_of_bitangent_orbits = []\n",
    "for o in orbit_indices:\n",
    "    orbit = []\n",
    "    for b_index in o:\n",
    "        orbit.append(S4_Bitangents[b_index])\n",
    "    list_of_bitangent_orbits.append(orbit)\n",
    "\n",
    "print('Orbits of bitangents: ' + str(list_of_bitangent_orbits) + '\\n')\n",
    "print('Remaining bitangents:\\n')\n",
    "for j in range(0,len(S4_Bitangents)):\n",
    "    if not j in all_orbit_indices:\n",
    "        print(str(j) + ': ' + str(S4_Bitangents[j]))"
   ]
  },
  {
   "cell_type": "code",
   "execution_count": null,
   "metadata": {},
   "outputs": [],
   "source": [
    "investigate_orbit_S4(S4_Bitangents[12],S4_dict)"
   ]
  },
  {
   "cell_type": "markdown",
   "metadata": {},
   "source": [
    "## (IV): New $S_4$, real points + bitangents"
   ]
  },
  {
   "cell_type": "code",
   "execution_count": null,
   "metadata": {},
   "outputs": [],
   "source": [
    "F=QQ; T.<x,y,z>=PolynomialRing(F)\n",
    "S4_Quartic_new = x^4 + y^4 + z^4 -3*(x^2*y^2 + y^2*z^2 + z^2*x^2)\n",
    "S4_Bitangents_new = compute_bitangents(S4_Quartic_new);S4_Bitangents_new\n",
    "S4_Bitangents_new = [normalize(b) for b in S4_Bitangents_new];S4_Bitangents_new"
   ]
  },
  {
   "cell_type": "markdown",
   "metadata": {},
   "source": [
    "## $S_4$ dictionary"
   ]
  },
  {
   "cell_type": "code",
   "execution_count": null,
   "metadata": {},
   "outputs": [],
   "source": []
  },
  {
   "cell_type": "markdown",
   "metadata": {},
   "source": [
    "## IV.3 Orbits"
   ]
  },
  {
   "cell_type": "code",
   "execution_count": null,
   "metadata": {},
   "outputs": [],
   "source": [
    "e_isotropy = []\n",
    "C2_even = [[0,1,2,3,18,19,26,27,25,24,16,17]]\n",
    "C2_odd = [[10,4,5,6,11,9,12,20,23,15,8,7]]\n",
    "S3 = [[13,14,21,22]]\n",
    "orbit_indices = e_isotropy + C2_even + C2_odd + S3\n",
    "all_orbit_indices = flatten(orbit_indices)\n",
    "list_of_bitangent_orbits = []\n",
    "for o in orbit_indices:\n",
    "    orbit = []\n",
    "    for b_index in o:\n",
    "        orbit.append(S4_Bitangents_new[b_index])\n",
    "    list_of_bitangent_orbits.append(orbit)\n",
    "\n",
    "print('Orbits of bitangents: ' + str(list_of_bitangent_orbits) + '\\n')\n",
    "print('Remaining bitangents:\\n')\n",
    "for j in range(0,len(S4_Bitangents_new)):\n",
    "    if not j in all_orbit_indices:\n",
    "        print(str(j) + ': ' + str(S4_Bitangents_new[j]))"
   ]
  },
  {
   "cell_type": "code",
   "execution_count": null,
   "metadata": {},
   "outputs": [],
   "source": [
    "investigate_orbit_S4(S4_Bitangents_new[13],S4_dict)"
   ]
  },
  {
   "cell_type": "markdown",
   "metadata": {},
   "source": [
    "# Type V: The $(16,13)$ quartic<a name=\"1613\"></a>\n",
    "We have an $G$-symmetric quartic with equation\n",
    "$$X^4 + Y^4 + Z^4 + aX^2 Y^2$$\n",
    "This is Type V in Dolgachev. and symmetries ..."
   ]
  },
  {
   "cell_type": "markdown",
   "metadata": {
    "jp-MarkdownHeadingCollapsed": true
   },
   "source": [
    "## (V) Old"
   ]
  },
  {
   "cell_type": "code",
   "execution_count": null,
   "metadata": {},
   "outputs": [],
   "source": [
    "V_Quartic = x^4 + y^4 + z^4 + x^2*y^2\n",
    "V_Bitangents = compute_bitangents(V_Quartic)\n",
    "V_Bitangents = [normalize(b) for b in V_Bitangents]\n",
    "\n",
    "#############\n",
    "\n",
    "gen1 = matrix(CC,[[-1,0,0],[0,1,0],[0,0,1]])\n",
    "gen2 = matrix(CC,[[I,0,0],[0,-I,0],[0,0,1]])\n",
    "gen3 = matrix(CC,[[0,-1,0],[1,0,0],[0,0,1]])\n",
    "\n",
    "VGrpElts = [  [ [ 1, 0, 0 ], [ 0, 1, 0 ], [ 0, 0, 1 ] ],\n",
    "    [ [ -1, 0, 0 ], [ 0, -1, 0 ], [ 0, 0, 1 ] ],\n",
    "  [ [ -1, 0, 0 ], [ 0, 1, 0 ], [ 0, 0, 1 ] ],\n",
    "  [ [ 0, -1, 0 ], [ -1, 0, 0 ], [ 0, 0, 1 ] ],\n",
    "  [ [ 0, -1, 0 ], [ 1, 0, 0 ], [ 0, 0, 1 ] ],\n",
    "  [ [ 0, 1, 0 ], [ -1, 0, 0 ], [ 0, 0, 1 ] ],\n",
    "  [ [ 0, 1, 0 ], [ 1, 0, 0 ], [ 0, 0, 1 ] ],\n",
    "  [ [ 0, -I, 0 ], [ -I, 0, 0 ], [ 0, 0, 1 ] ],\n",
    "  [ [ 0, -I, 0 ], [ I, 0, 0 ], [ 0, 0, 1 ] ],\n",
    "  [ [ 0, I, 0 ], [ -I, 0, 0 ], [ 0, 0, 1 ] ],\n",
    "  [ [ 0, I, 0 ], [ I, 0, 0 ], [ 0, 0, 1 ] ],\n",
    "  [ [ 1, 0, 0 ], [ 0, -1, 0 ], [ 0, 0, 1 ] ],\n",
    "  [ [ -I, 0, 0 ], [ 0, -I, 0 ], [ 0, 0, 1 ] ],\n",
    "  [ [ -I, 0, 0 ], [ 0, I, 0 ], [ 0, 0, 1 ] ],\n",
    "  [ [ I, 0, 0 ], [ 0, -I, 0 ], [ 0, 0, 1 ] ],\n",
    "  [ [ I, 0, 0 ], [ 0, I, 0 ], [ 0, 0, 1 ] ] ]\n",
    "\n",
    "keys = ['r' + str(j) for j in range(0,16)]\n",
    "VGrp_dict = {}\n",
    "for j in range(0,16):\n",
    "    VGrp_dict.update({keys[j]:matrix(CC,VGrpElts[j],immutable=True)});\n",
    "\n"
   ]
  },
  {
   "cell_type": "code",
   "execution_count": null,
   "metadata": {},
   "outputs": [],
   "source": [
    "###########\n",
    "someC2 = [[0,1,2,3,20,21,22,23]]\n",
    "# Stabilized by VGrp_dict['r2']\n",
    "#      matrix_to_list(VGrp_dict['r2'])\n",
    "\n",
    "# this is not conjugate to the first,\n",
    "# stabilized by VGrp_dict['r9']\n",
    "anotherC2 = [[4,11,12,15,5,13,10,14]]\n",
    "\n",
    "# stabilized by VGrp_dict['r6'], also not conjugate to the first\n",
    "yetanotherC2 = [[18,6,16,8,9,17,7,19]]\n",
    "\n",
    "# the last isotropy is the center of the group, isomorphic to C4\n",
    "center_C4 = [[24,25,26,27]]\n",
    "\n",
    "orbit_indices = someC2 + anotherC2 + yetanotherC2 + center_C4\n",
    "\n",
    "all_orbit_indices = flatten(orbit_indices)\n",
    "list_of_bitangent_orbits = []\n",
    "for o in orbit_indices:\n",
    "    orbit = []\n",
    "    for b_index in o:\n",
    "        orbit.append(V_Bitangents[b_index])\n",
    "    list_of_bitangent_orbits.append(orbit)\n",
    "\n",
    "print('Orbits of bitangents: ' + str(list_of_bitangent_orbits) + '\\n')\n",
    "print('Remaining bitangents:\\n')\n",
    "for j in range(0,len(V_Bitangents)):\n",
    "    if not j in all_orbit_indices:\n",
    "        print(str(j) + ': ' + str(V_Bitangents[j]))"
   ]
  },
  {
   "cell_type": "markdown",
   "metadata": {},
   "source": [
    "## (V) New curve and bitangents:"
   ]
  },
  {
   "cell_type": "code",
   "execution_count": null,
   "metadata": {},
   "outputs": [],
   "source": [
    "R.<x,y> = PolynomialRing(RR)\n",
    "maxval=5\n",
    "V_Quartic_affine = x^4 + y^4 + 1 - 4*x^2*y^2\n",
    "implicit_plot(V_Quartic_affine,(-maxval,maxval),(-maxval,maxval),color='black')"
   ]
  },
  {
   "cell_type": "code",
   "execution_count": null,
   "metadata": {},
   "outputs": [],
   "source": [
    "F=QQ; T.<x,y,z>=PolynomialRing(F)\n",
    "V_Quartic_new = x^4 + y^4 + z^4 - 4*x^2*y^2\n",
    "# V_Quartic_affine = x^4 + y^4 + 1 - 4*x^2*y^2\n",
    "V_Bitangents_new = compute_bitangents(V_Quartic_new)\n",
    "V_Bitangents_new = [normalize(b) for b in V_Bitangents_new]"
   ]
  },
  {
   "cell_type": "markdown",
   "metadata": {},
   "source": [
    "## (V) Orbits of bitangents"
   ]
  },
  {
   "cell_type": "code",
   "execution_count": null,
   "metadata": {},
   "outputs": [],
   "source": [
    "###########\n",
    "someC2 = [[0,1,2,3,20,21,22,23]]\n",
    "\n",
    "anotherC2 = [[4,6,17,19,5,7,16,18]]\n",
    "\n",
    "yetanotherC2 = []\n",
    "\n",
    "# the last isotropy is the center of the group, isomorphic to C4\n",
    "center_C4 = [[24,25,26,27]]\n",
    "\n",
    "orbit_indices = someC2 + anotherC2 + yetanotherC2 + center_C4\n",
    "\n",
    "all_orbit_indices = flatten(orbit_indices)\n",
    "list_of_bitangent_orbits = []\n",
    "for o in orbit_indices:\n",
    "    orbit = []\n",
    "    for b_index in o:\n",
    "        orbit.append(V_Bitangents_new[b_index])\n",
    "    list_of_bitangent_orbits.append(orbit)\n",
    "\n",
    "print('Orbits of bitangents: ' + str(list_of_bitangent_orbits) + '\\n')\n",
    "print('Remaining bitangents:\\n')\n",
    "for j in range(0,len(V_Bitangents_new)):\n",
    "    if not j in all_orbit_indices:\n",
    "        print(str(j) + ': ' + str(V_Bitangents_new[j]))"
   ]
  },
  {
   "cell_type": "code",
   "execution_count": null,
   "metadata": {},
   "outputs": [],
   "source": [
    "investigate_orbit(V_Bitangents_new[0],VGrp_dict)"
   ]
  },
  {
   "cell_type": "markdown",
   "metadata": {},
   "source": [
    "TODO --- find the isotropy for this orbit"
   ]
  },
  {
   "cell_type": "markdown",
   "metadata": {},
   "source": [
    "# Type VI: The $C_9$ quartic<a name=\"C9\"></a>\n",
    "We have an $C_9$-symmetric quartic with equation\n",
    "$$X^4 + XY^3 + YZ^3$$\n",
    "and symmetries ..."
   ]
  },
  {
   "cell_type": "code",
   "execution_count": null,
   "metadata": {},
   "outputs": [],
   "source": [
    "C9_Quartic = x^4 + x*y^3 + y*z^3\n",
    "C9_Bitangents = compute_bitangents(C9_Quartic)\n",
    "C9_Bitangents = [normalize(bitangent) for bitangent in C9_Bitangents];C9_Bitangents"
   ]
  },
  {
   "cell_type": "code",
   "execution_count": null,
   "metadata": {},
   "outputs": [],
   "source": [
    "e_isotropy = [[4,0,23,24,25,3,26,8,7],[6,1,5,20,12,21,22,19,11],[2,9,10,13,14,15,16,17,18]]\n",
    "C3_isotropy = []\n",
    "C9_isotropy = [[27]]\n",
    "orbit_indices = e_isotropy + C3_isotropy + C9_isotropy\n",
    "all_orbit_indices = flatten(orbit_indices)\n",
    "list_of_bitangent_orbits = []\n",
    "for o in orbit_indices:\n",
    "    orbit = []\n",
    "    for b_index in o:\n",
    "        orbit.append(C9_Bitangents[b_index])\n",
    "    list_of_bitangent_orbits.append(orbit)\n",
    "\n",
    "# remaining_bitangents = rescaled_C3_Bitangents\n",
    "\n",
    "print('Orbits of bitangents: ' + str(list_of_bitangent_orbits) + '\\n')\n",
    "print('Remaining bitangents:\\n')\n",
    "for j in range(0,len(C9_Bitangents)):\n",
    "    if not j in all_orbit_indices:\n",
    "        print(str(j) + ': ' + str(C9_Bitangents[j]))"
   ]
  },
  {
   "cell_type": "code",
   "execution_count": null,
   "metadata": {},
   "outputs": [],
   "source": [
    "investigate_orbit(C9_Bitangents[27],C9_dict)"
   ]
  },
  {
   "cell_type": "markdown",
   "metadata": {},
   "source": [
    "# Type VII: The $D_4$ quartic<a name=\"D4\"></a>\n",
    "We have an $D_4$-symmetric quartic with equation\n",
    "$$X^4 + Y^4 + Z^4 + aX^2 Y^2 + bXYZ^2$$\n",
    "and symmetries ..."
   ]
  },
  {
   "cell_type": "markdown",
   "metadata": {},
   "source": [
    "## (VII) Old:"
   ]
  },
  {
   "cell_type": "code",
   "execution_count": null,
   "metadata": {},
   "outputs": [],
   "source": [
    "D4_Quartic = x^4 + y^4 + z^4 + x^2*y^2 + x*y*z^2\n",
    "D4_Bitangents = compute_bitangents(D4_Quartic)\n",
    "D4_Bitangents = [normalize(bitangent) for bitangent in D4_Bitangents]"
   ]
  },
  {
   "cell_type": "code",
   "execution_count": null,
   "metadata": {},
   "outputs": [],
   "source": []
  },
  {
   "cell_type": "code",
   "execution_count": null,
   "metadata": {},
   "outputs": [],
   "source": [
    "# Ordered by isotropy, these are all transitive D8-sets\n",
    "trivial = [[16,17,11,20,10,6,21,7]]\n",
    "centerC2 = [[24,25,26,27]]\n",
    "otherC2 = [[0,12,3,13],[1,2,14,15],[4,9,18,23],[5,8,19,22]]\n",
    "K4 = []\n",
    "C4 = []\n",
    "D8 = []\n",
    "\n",
    "orbit_indices = trivial + centerC2 + otherC2 + K4 + C4 + D8\n",
    "all_orbit_indices = flatten(orbit_indices)\n",
    "list_of_bitangent_orbits = []\n",
    "for o in orbit_indices:\n",
    "    orbit = []\n",
    "    for b_index in o:\n",
    "        orbit.append(D4_Bitangents[b_index])\n",
    "    list_of_bitangent_orbits.append(orbit)\n",
    "\n",
    "# remaining_bitangents = rescaled_C3_Bitangents\n",
    "\n",
    "print('Orbits of bitangents: ' + str(list_of_bitangent_orbits) + '\\n')\n",
    "print('Remaining bitangents:\\n')\n",
    "for j in range(0,len(D4_Bitangents)):\n",
    "    if not j in all_orbit_indices:\n",
    "        print(str(j) + ': ' + str(D4_Bitangents[j]))"
   ]
  },
  {
   "cell_type": "markdown",
   "metadata": {},
   "source": [
    "So we get, where $C_2^Z \\le D_8$ denotes the center subgroup, and $C_2$ without a decoration denotes the non-center conjugacy subgroup which is cyclic of order two:\n",
    "$$[D_8/e] + 4[D_8/C_2] + [D_8/C_2^Z]$$"
   ]
  },
  {
   "cell_type": "markdown",
   "metadata": {},
   "source": [
    "## (VII) New equation"
   ]
  },
  {
   "cell_type": "code",
   "execution_count": null,
   "metadata": {},
   "outputs": [],
   "source": [
    "R.<x,y> = PolynomialRing(RR)\n",
    "maxval=5\n",
    "D4_Quartic_affine = x^4 + y^4 + 1 - 3*x^2*y^2 + x*y\n",
    "implicit_plot(D4_Quartic_affine,(-maxval,maxval),(-maxval,maxval),color='black')"
   ]
  },
  {
   "cell_type": "code",
   "execution_count": null,
   "metadata": {},
   "outputs": [],
   "source": [
    "F=QQ; T.<x,y,z>=PolynomialRing(F)\n",
    "D4_Quartic_new = x^4 + y^4 + z^4 - 3*x^2*y^2 + x*y*z^2\n",
    "D4_Bitangents_new = compute_bitangents(D4_Quartic_new)\n",
    "D4_Bitangents_new = [normalize(bitangent) for bitangent in D4_Bitangents_new];D4_Bitangents_new"
   ]
  },
  {
   "cell_type": "markdown",
   "metadata": {},
   "source": [
    "## (VII) Dict"
   ]
  },
  {
   "cell_type": "code",
   "execution_count": null,
   "metadata": {},
   "outputs": [],
   "source": []
  },
  {
   "cell_type": "markdown",
   "metadata": {},
   "source": [
    "## (VII) Orbits"
   ]
  },
  {
   "cell_type": "code",
   "execution_count": null,
   "metadata": {},
   "outputs": [],
   "source": [
    "# Ordered by isotropy, these are all transitive D8-sets\n",
    "trivial = [[2,1,13,12,0,3,14,15]]\n",
    "centerC2 = [[24,25,26,27]]\n",
    "otherC2 = [[4,7,20,23],[22,6,5,21]] # iso4 in GAP\n",
    "yet_another_C2 = [[19,9,8,18],[10,16,17,11]] # iso8 in GAP\n",
    "\n",
    "orbit_indices = trivial + centerC2 + otherC2 + yet_another_C2\n",
    "all_orbit_indices = flatten(orbit_indices)\n",
    "list_of_bitangent_orbits = []\n",
    "for o in orbit_indices:\n",
    "    orbit = []\n",
    "    for b_index in o:\n",
    "        orbit.append(D4_Bitangents_new[b_index])\n",
    "    list_of_bitangent_orbits.append(orbit)\n",
    "\n",
    "# remaining_bitangents = rescaled_C3_Bitangents\n",
    "\n",
    "print('Orbits of bitangents: ' + str(list_of_bitangent_orbits) + '\\n')\n",
    "print('Remaining bitangents:\\n')\n",
    "for j in range(0,len(D4_Bitangents_new)):\n",
    "    if not j in all_orbit_indices:\n",
    "        print(str(j) + ': ' + str(D4_Bitangents_new[j]))"
   ]
  },
  {
   "cell_type": "code",
   "execution_count": null,
   "metadata": {},
   "outputs": [],
   "source": [
    "investigate_orbit(D4_Bitangents_new[24],D8_dict)"
   ]
  },
  {
   "cell_type": "markdown",
   "metadata": {},
   "source": [
    "# Type VIII: $C_6$<a name=\"C6\"></a>\n",
    "Doing a new equation the second time around:"
   ]
  },
  {
   "cell_type": "code",
   "execution_count": null,
   "metadata": {},
   "outputs": [],
   "source": [
    "F=QQ; T.<x,y,z>=PolynomialRing(F)\n",
    "C6_Quartic = z^3*y +x^4 -3*x^2*y^2 +y^4\n",
    "C6_Bitangents = compute_bitangents(C6_Quartic);C6_Bitangents\n",
    "C6_Bitangents = [normalize(bitangent) for bitangent in C6_Bitangents];C6_Bitangents"
   ]
  },
  {
   "cell_type": "markdown",
   "metadata": {},
   "source": [
    "There are some rounding errors so we edit this set by hand:"
   ]
  },
  {
   "cell_type": "code",
   "execution_count": null,
   "metadata": {},
   "outputs": [],
   "source": [
    "C6_Bitangents=[y + (-0.92831777)*z,\n",
    " y + (0.46415888 + 0.80394677*I)*z,\n",
    " y + (0.46415888 - 0.80394677*I)*z,\n",
    " x + 1.85047*y + (-0.39283)*z,\n",
    " x + (-1.85047)*y + 0.39283*z,\n",
    " x + 0.56125*I*y + 1.18243*I*z,\n",
    " x + (-0.56125*I)*y + (-1.18243*I)*z,\n",
    " x + (0.70756 - 0.23507*I)*y + (-0.52306 - 0.12198*I)*z,\n",
    " x + (-0.70756 + 0.23507*I)*y + (0.52306 + 0.12198*I)*z,\n",
    " x + (0.70756 + 0.23507*I)*y + (-0.52306 + 0.12198*I)*z,\n",
    " x + (-0.70756 - 0.23507*I)*y + (0.52306 - 0.12198*I)*z,\n",
    " x + (-0.56125*I)*y + (-1.02401 + 0.59121*I)*z,\n",
    " x + 0.56125*I*y + (1.02401 - 0.59121*I)*z,\n",
    " x + 0.56125*I*y + (-1.02401 - 0.59121*I)*z,\n",
    " x + (-0.56125*I)*y + (1.02401 + 0.59121*I)*z,\n",
    " x + (-0.70756 - 0.23507*I)*y + (-0.15589 + 0.51397*I)*z,\n",
    " x + (0.70756 + 0.23507*I)*y + (0.15589 - 0.51397*I)*z,\n",
    " x + (-0.70756 + 0.23507*I)*y + (-0.15589 - 0.51397*I)*z,\n",
    " x + (0.70756 - 0.23507*I)*y + (0.15589 + 0.51397*I)*z,\n",
    " x + (-0.70756 + 0.23507*I)*y + (-0.36717 + 0.39199*I)*z,\n",
    " x + (0.70756 - 0.23507*I)*y + (0.36717 - 0.39199*I)*z,\n",
    " x + (-0.70756 - 0.23507*I)*y + (-0.36717 - 0.39199*I)*z,\n",
    " x + (0.70756 + 0.23507*I)*y + (0.36717 + 0.39199*I)*z,\n",
    " x + (-1.85047)*y + (-0.19641 - 0.3402*I)*z,\n",
    " x + 1.85047*y + (0.19641 + 0.3402*I)*z,\n",
    " x + (-1.85047)*y + (-0.19641 + 0.3402*I)*z,\n",
    " x + 1.85047*y + (0.19641 - 0.3402*I)*z,\n",
    " y]"
   ]
  },
  {
   "cell_type": "code",
   "execution_count": null,
   "metadata": {},
   "outputs": [],
   "source": [
    "# C6 = <r> so the elements are ordered so that dict['ri'] = r^i\n",
    "C6_elts = [\n",
    "    [[1,0,0],[0,1,0],[0,0,1]],\n",
    "    [ [ -1, 0, 0 ], [ 0, 1, 0 ], [ 0, 0, E(3) ] ],\n",
    "    [ [ 1, 0, 0 ], [ 0, 1, 0 ], [ 0, 0, E(3)^2 ] ],\n",
    "    [ [ -1, 0, 0 ], [ 0, 1, 0 ], [ 0, 0, 1 ] ],\n",
    "    [ [ 1, 0, 0 ], [ 0, 1, 0 ], [ 0, 0, E(3) ] ],\n",
    "    [ [ -1, 0, 0 ], [ 0, 1, 0 ], [ 0, 0, E(3)^2 ] ]\n",
    "]\n",
    "\n",
    "\n",
    "keys = ['r' + str(j) for j in range(0,6)]\n",
    "C6_dict = {}\n",
    "for j in range(0,6):\n",
    "    C6_dict.update({keys[j]:matrix(CC,C6_elts[j],immutable=True)});"
   ]
  },
  {
   "cell_type": "markdown",
   "metadata": {},
   "source": [
    "## (VIII) Orbits:"
   ]
  },
  {
   "cell_type": "code",
   "execution_count": null,
   "metadata": {},
   "outputs": [],
   "source": [
    "e_isotropy = [[24,26,3,25,4,23],[6,11,14,13,12,5],[7,20,18,19,8,17],[16,9,10,22,15,21]]\n",
    "C2_isotropy = [[0,1,2]]\n",
    "\n",
    "orbit_indices = e_isotropy + C2_isotropy\n",
    "all_orbit_indices = flatten(orbit_indices)\n",
    "list_of_bitangent_orbits = []\n",
    "for o in orbit_indices:\n",
    "    orbit = []\n",
    "    for b_index in o:\n",
    "        orbit.append(C6_Bitangents[b_index])\n",
    "    list_of_bitangent_orbits.append(orbit)\n",
    "\n",
    "print('Orbits of bitangents: ' + str(list_of_bitangent_orbits) + '\\n')\n",
    "print('Remaining bitangents:\\n')\n",
    "for j in range(0,len(C6_Bitangents)):\n",
    "    if not j in all_orbit_indices:\n",
    "        print(str(j) + ': ' + str(C6_Bitangents[j]))"
   ]
  },
  {
   "cell_type": "code",
   "execution_count": null,
   "metadata": {},
   "outputs": [],
   "source": [
    "investigate_orbit(C6_Bitangents[27],C6_dict)"
   ]
  },
  {
   "cell_type": "markdown",
   "metadata": {},
   "source": [
    "# Type IX: The $S_3$ quartic<a name=\"S3\"></a>\n",
    "We have an $S_3$-symmetric quartic with equation\n",
    "$$X^3Z + Y^3 Z + X^2 Y^2 + aXYZ^2 + bZ^4$$\n",
    "and symmetries ..."
   ]
  },
  {
   "cell_type": "markdown",
   "metadata": {},
   "source": [
    "## (IX) Old"
   ]
  },
  {
   "cell_type": "code",
   "execution_count": null,
   "metadata": {},
   "outputs": [],
   "source": [
    "S3_Quartic = x^3 * z + y^3 * z + x^2 * y^2 - x*y*z^2 + z^4\n",
    "S3_Bitangents = compute_bitangents(S3_Quartic)\n",
    "S3_Bitangents = [normalize(bitangent) for bitangent in S3_Bitangents]\n",
    "\n",
    "rho = exp(2*pi*i/3)\n",
    "\n",
    "cycle1 = matrix(CC,[[rho,0,0],[0,rho^2,0],[0,0,1]])\n",
    "transp1 = matrix([[0,1,0],[1,0,0],[0,0,1]])\n",
    "transp2 = cycle1*transp1\n",
    "transp3 = cycle1*cycle1*transp1\n",
    "cycle2 = cycle1*cycle1"
   ]
  },
  {
   "cell_type": "code",
   "execution_count": null,
   "metadata": {},
   "outputs": [],
   "source": [
    "orbit1 = [[2]]\n",
    "orbit2 = []\n",
    "orbit3 = [[0,26,27],[1,18,19],[3,8,9]]\n",
    "orbit6 = [[4,5,16,23,22,17],[6,14,21,13,24,11],[7,15,12,20,10,25]]\n",
    "orbit_indices = orbit1 + orbit2 + orbit3 + orbit6\n",
    "all_orbit_indices = flatten(orbit_indices)\n",
    "# Get the running list of orbits that we have\n",
    "list_of_bitangent_orbits = []\n",
    "for o in orbit_indices:\n",
    "    orbit = []\n",
    "    for b_index in o:\n",
    "        orbit.append(S3_Bitangents[b_index])\n",
    "    list_of_bitangent_orbits.append(orbit)\n",
    "\n",
    "# remaining_bitangents = rescaled_C3_Bitangents\n",
    "\n",
    "# print('Orbits of bitangents: ' + str(list_of_bitangent_orbits) + '\\n')\n",
    "# print('Remaining bitangents:\\n')\n",
    "# for j in range(0,len(S3_Bitangents)):\n",
    "#     if not j in all_orbit_indices:\n",
    "#         print(str(j) + ': ' + str(S3_Bitangents[j]))"
   ]
  },
  {
   "cell_type": "markdown",
   "metadata": {},
   "source": [
    "So we get orbits:\n",
    "$$[S_3/S_3] + 3[S_3/C_2] + 3[S_3/e]$$"
   ]
  },
  {
   "cell_type": "markdown",
   "metadata": {},
   "source": [
    "## (IX) New"
   ]
  },
  {
   "cell_type": "code",
   "execution_count": null,
   "metadata": {},
   "outputs": [],
   "source": [
    "# S3_Quartic_new = x^3 * z + y^3 * z + x^2 * y^2 - 25*x*y*z^2 + 10*z^4\n",
    "R.<x,y> = PolynomialRing(RR)\n",
    "maxval=10\n",
    "S3_Quartic_new_affine = x^3 + y^3 + x^2 * y^2 - 25*x*y + 10\n",
    "implicit_plot(S3_Quartic_new_affine,(-maxval,maxval),(-maxval,maxval),color='black')"
   ]
  },
  {
   "cell_type": "code",
   "execution_count": null,
   "metadata": {},
   "outputs": [],
   "source": [
    "F=QQ; T.<x,y,z>=PolynomialRing(F)\n",
    "S3_Quartic_new = x^3 * z + y^3 * z + x^2 * y^2 - 25*x*y*z^2 + 10*z^4\n",
    "S3_Bitangents = compute_bitangents(S3_Quartic_new)\n",
    "S3_Bitangents = [normalize(bitangent) for bitangent in S3_Bitangents];S3_Bitangents"
   ]
  },
  {
   "cell_type": "markdown",
   "metadata": {},
   "source": [
    "## (IX) Dictionary"
   ]
  },
  {
   "cell_type": "code",
   "execution_count": null,
   "metadata": {},
   "outputs": [],
   "source": [
    "S3_elts=[ [ [ 0, 1, 0 ], [ 1, 0, 0 ], [ 0, 0, 1 ] ],\n",
    "  [ [ 0, E(3)^2, 0 ], [ E(3), 0, 0 ], [ 0, 0, 1 ] ],\n",
    "  [ [ 0, E(3), 0 ], [ E(3)^2, 0, 0 ], [ 0, 0, 1 ] ],\n",
    "  [ [ 1, 0, 0 ], [ 0, 1, 0 ], [ 0, 0, 1 ] ],\n",
    "  [ [ E(3)^2, 0, 0 ], [ 0, E(3), 0 ], [ 0, 0, 1 ] ],\n",
    "  [ [ E(3), 0, 0 ], [ 0, E(3)^2, 0 ], [ 0, 0, 1 ] ] ];\n",
    "\n",
    "keys = ['r' + str(j) for j in range(0,6)]\n",
    "S3_dict = {}\n",
    "for j in range(0,6):\n",
    "    S3_dict.update({keys[j]:matrix(CC,S3_elts[j],immutable=True)});"
   ]
  },
  {
   "cell_type": "markdown",
   "metadata": {},
   "source": [
    "## (IX) Orbits"
   ]
  },
  {
   "cell_type": "code",
   "execution_count": null,
   "metadata": {},
   "outputs": [],
   "source": [
    "triv_orbit = [[1,23,22,26,27,0],[14,21,15,20,2,4],[6,10,11,8,7,9]]\n",
    "C2_orbit = [[18,19,3],[12,24,17],[16,25,13]]\n",
    "S3_orbit = [[5]]\n",
    "\n",
    "orbit_indices = triv_orbit + C2_orbit\n",
    "all_orbit_indices = flatten(orbit_indices)\n",
    "list_of_bitangent_orbits = []\n",
    "for o in orbit_indices:\n",
    "    orbit = []\n",
    "    for b_index in o:\n",
    "        orbit.append(C6_Bitangents[b_index])\n",
    "    list_of_bitangent_orbits.append(orbit)\n",
    "\n",
    "print('Orbits of bitangents: ' + str(list_of_bitangent_orbits) + '\\n')\n",
    "print('Remaining bitangents:\\n')\n",
    "for j in range(0,len(S3_Bitangents)):\n",
    "    if not j in all_orbit_indices:\n",
    "        print(str(j) + ': ' + str(S3_Bitangents[j]))"
   ]
  },
  {
   "cell_type": "code",
   "execution_count": null,
   "metadata": {},
   "outputs": [],
   "source": [
    "investigate_orbit(S3_Bitangents[13],S3_dict)"
   ]
  },
  {
   "cell_type": "markdown",
   "metadata": {},
   "source": [
    "# Type X: The $K_4$ quartic<a name=\"K4\"></a>\n",
    "We now look at a quartic with an action by the Klein four group, given by the equation $$X^4 + Y^4 + Z^4 + aX^2 Y^2 + bY^2Z^2 + c Z^2 X^2$$ with action given by $$\\text{diag}[-1,1,1] \\qquad \\text{and}\\qquad \\text{diag}[1,-1,1]$$"
   ]
  },
  {
   "cell_type": "markdown",
   "metadata": {},
   "source": [
    "## Old"
   ]
  },
  {
   "cell_type": "code",
   "execution_count": null,
   "metadata": {},
   "outputs": [],
   "source": [
    "K4_Quartic = x^4 + y^4 + z^4 + x^2*y^2 + y^2*z^2 + z^2*x^2\n",
    "K4_Bitangents = compute_bitangents(K4_Quartic)\n",
    "K4_Bitangents = [normalize(bitangent) for bitangent in K4_Bitangents]\n",
    "\n",
    "# There are three subgroups of K4, the left, middle, and diagonal copies of C2\n",
    "left_generator = matrix([[-1,0,0],[0,1,0],[0,0,1]])\n",
    "right_generator = matrix([[1,0,0],[0,-1,0],[0,0,1]])\n",
    "diagonal_generator = matrix([[-1,0,0],[0,-1,0],[0,0,1]])\n",
    "\n",
    "# Make different lists to indicate different isotropy subgroups\n",
    "left_isotropy_indices = [[0,1],[2,3]]\n",
    "right_isotropy_indices = [[16,18],[17,19]]\n",
    "diagonal_isotropy_indices = [[24,26],[25,27]]\n",
    "remaining_orbits = [[12,13,20,21],[4,5,6,7],[8,9,10,11],[14,15,22,23]]\n",
    "orbit_indices = left_isotropy_indices + right_isotropy_indices + diagonal_isotropy_indices + remaining_orbits\n",
    "# Flatten the union\n",
    "all_orbit_indices = flatten(orbit_indices)\n",
    "\n",
    "# Get the running list of orbits that we have\n",
    "list_of_bitangent_orbits = []\n",
    "for o in orbit_indices:\n",
    "    orbit = []\n",
    "    for b_index in o:\n",
    "        orbit.append(K4_Bitangents[b_index])\n",
    "    list_of_bitangent_orbits.append(orbit)\n",
    "\n",
    "# remaining_bitangents = rescaled_C3_Bitangents\n",
    "\n",
    "print('Orbits of bitangents: ' + str(list_of_bitangent_orbits) + '\\n')\n",
    "print('Remaining bitangents:\\n')\n",
    "for j in range(0,len(K4_Bitangents)):\n",
    "    if not j in all_orbit_indices:\n",
    "        print(str(j) + ': ' + str(K4_Bitangents[j]))"
   ]
  },
  {
   "cell_type": "code",
   "execution_count": null,
   "metadata": {},
   "outputs": [],
   "source": [
    "candidate_orbit(K4_Bitangents[25],[left_generator,right_generator,diagonal_generator])"
   ]
  },
  {
   "cell_type": "markdown",
   "metadata": {},
   "source": [
    "So the orbits for bitangents on our $K_4$-equivariant quartic have the form\n",
    "$$2[K_4/C_2^L] + 2[K_4/C_2^\\Delta] + 2[K_4/C_2^R] + 4[K_4/e]$$"
   ]
  },
  {
   "cell_type": "markdown",
   "metadata": {},
   "source": [
    "## (X) New"
   ]
  },
  {
   "cell_type": "code",
   "execution_count": null,
   "metadata": {},
   "outputs": [],
   "source": [
    "F=QQ; T.<x,y,z>=PolynomialRing(F)\n",
    "\n",
    "K4_Quartic_new = x^4 + y^4 + z^4 -9*x^2*y^2 - 3*y^2*z^2 - 8*x^2*z^2\n",
    "\n",
    "K4_Bitangents_new = compute_bitangents(K4_Quartic_new)\n",
    "K4_Bitangents_new = [normalize(bitangent) for bitangent in K4_Bitangents_new];K4_Bitangents_new"
   ]
  },
  {
   "cell_type": "markdown",
   "metadata": {},
   "source": [
    "## (X) Dictionary"
   ]
  },
  {
   "cell_type": "code",
   "execution_count": null,
   "metadata": {},
   "outputs": [],
   "source": [
    "K4_dict = {}\n",
    "K4_dict.update({'id':matrix(CC,[[1,0,0],[0,1,0],[0,0,1]],immutable=True)})\n",
    "K4_dict.update({'leftgen':matrix(CC,[[-1,0,0],[0,1,0],[0,0,1]],immutable=True)})\n",
    "K4_dict.update({'rightgen':matrix(CC,[[1,0,0],[0,-1,0],[0,0,1]],immutable=True)})\n",
    "K4_dict.update({'diaggen':matrix(CC,[[-1,0,0],[0,-1,0],[0,0,1]],immutable=True)})"
   ]
  },
  {
   "cell_type": "markdown",
   "metadata": {},
   "source": [
    "## (X) Orbits"
   ]
  },
  {
   "cell_type": "code",
   "execution_count": null,
   "metadata": {},
   "outputs": [],
   "source": [
    "# e_orb = [[4,5,18,19],[6,7,16,17],[8,9,14,15],[10,11,12,13],[20,21,24,25]]\n",
    "# C2L = [[0,1],[2,3]]\n",
    "# C2R = [[22,23],[26,27]]\n",
    "\n",
    "orbit_indices = []\n",
    "# Flatten the union\n",
    "all_orbit_indices = flatten(orbit_indices)\n",
    "\n",
    "# Get the running list of orbits that we have\n",
    "list_of_bitangent_orbits = []\n",
    "for o in orbit_indices:\n",
    "    orbit = []\n",
    "    for b_index in o:\n",
    "        orbit.append(K4_Bitangents_new[b_index])\n",
    "    list_of_bitangent_orbits.append(orbit)\n",
    "\n",
    "print('Orbits of bitangents: ' + str(list_of_bitangent_orbits) + '\\n')\n",
    "print('Remaining bitangents:\\n')\n",
    "for j in range(0,len(K4_Bitangents_new)):\n",
    "    if not j in all_orbit_indices:\n",
    "        print(str(j) + ': ' + str(K4_Bitangents_new[j]))"
   ]
  },
  {
   "cell_type": "code",
   "execution_count": null,
   "metadata": {},
   "outputs": [],
   "source": [
    "investigate_orbit(K4_Bitangents_new[24],K4_dict)"
   ]
  },
  {
   "cell_type": "markdown",
   "metadata": {},
   "source": [
    "# Type XI: The $C_3$ quartic<a name=\"C3\"></a>\n",
    "The first one we're trying is the one with automorphism group $C_3$ which we will call `C3_Quartic`. The associated list of bitangents is `C3_Bitangents`."
   ]
  },
  {
   "cell_type": "code",
   "execution_count": null,
   "metadata": {},
   "outputs": [],
   "source": [
    "C3_Quartic = z^3*y + x*(x-y)*(x-2*y)*(x-3*y)\n",
    "C3_Bitangents = compute_bitangents(C3_Quartic)\n",
    "rescaled_C3_Bitangents = [normalize(bitangent) for bitangent in C3_Bitangents]\n",
    "# for j in range(0,len(rescaled_C3_Bitangents)):\n",
    "#     print(str(j) + ': ' + str(rescaled_C3_Bitangents[j]))"
   ]
  },
  {
   "cell_type": "code",
   "execution_count": null,
   "metadata": {},
   "outputs": [],
   "source": [
    "# The action generating the C3 orbit\n",
    "rho = exp(2*pi*i/3)\n",
    "M = matrix([[1,0,0],[0,1,0],[0,0,rho]])\n",
    "\n",
    "orbit_indices = [[1,15,16],[2,11,12],[5,14,19],[0,25,26],[3,18,23],[27],[4,17,24],[6,13,20],[7,10,21],[8,9,22]]\n",
    "all_orbit_indices = flatten(orbit_indices)\n",
    "\n",
    "# Get the running list of orbits that we have\n",
    "list_of_bitangent_orbits = []\n",
    "for o in orbit_indices:\n",
    "    orbit = []\n",
    "    for b_index in o:\n",
    "        orbit.append(rescaled_C3_Bitangents[b_index])\n",
    "    list_of_bitangent_orbits.append(orbit)\n",
    "\n",
    "# remaining_bitangents = rescaled_C3_Bitangents\n",
    "\n",
    "# gp_action(M,rescaled_C3_Bitangents[22])\n",
    "print('Orbits of bitangents: ' + str(list_of_bitangent_orbits) + '\\n')\n",
    "print('Remaining bitangents:\\n')\n",
    "for j in range(0,len(rescaled_C3_Bitangents)):\n",
    "    if not j in all_orbit_indices:\n",
    "        print(str(j) + ': ' + str(rescaled_C3_Bitangents[j]))"
   ]
  },
  {
   "cell_type": "markdown",
   "metadata": {
    "jp-MarkdownHeadingCollapsed": true
   },
   "source": [
    "Okay so now we know the orbits of the $C_3$-equivariant quartic: $9[C_3/e]+[C_3/C_3]$"
   ]
  },
  {
   "cell_type": "markdown",
   "metadata": {},
   "source": [
    "# Type XII: The $C_2$ quartic"
   ]
  },
  {
   "cell_type": "markdown",
   "metadata": {},
   "source": [
    "## (XII) Old"
   ]
  },
  {
   "cell_type": "code",
   "execution_count": null,
   "metadata": {},
   "outputs": [],
   "source": [
    "L2 = y^2 - z^2\n",
    "L4 = y^4 - y^2*z^2 + z^4\n",
    "C2_Quartic = x^4 + x^2*L2 + L4\n",
    "\n",
    "C2_Bitangents = compute_bitangents(C2_Quartic);\n",
    "C2_Bitangents = [normalize(b) for b in C2_Bitangents]\n",
    "\n",
    "e_orbits = [[0],[1],[2],[3]]\n",
    "C2_orbits = [[4,5],[6,7],[8,9],[10,11],[12,14],[13,15],[16,17],[18,19],[20,21],[22,23],[24,26],[25,27]]\n",
    "\n",
    "C2_Bitangents"
   ]
  },
  {
   "cell_type": "code",
   "execution_count": null,
   "metadata": {},
   "outputs": [],
   "source": [
    "m = matrix(CC,[[-1,0,0],[0,1,0],[0,0,1]])\n",
    "print(C2_Bitangents[4])\n",
    "gp_action(m,C2_Bitangents[4])"
   ]
  },
  {
   "cell_type": "markdown",
   "metadata": {},
   "source": [
    "## (XII) New"
   ]
  },
  {
   "cell_type": "code",
   "execution_count": null,
   "metadata": {},
   "outputs": [],
   "source": [
    "L2_new = -y^2 - 4*z^2\n",
    "L4_new = y^4 - y^2*z^2 - z^4\n",
    "C2_Quartic_new = x^4 + x^2*L2_new + L4_new\n",
    "\n",
    "C2_Bitangents_new = compute_bitangents(C2_Quartic_new);\n",
    "C2_Bitangents_new = [normalize(b) for b in C2_Bitangents_new]"
   ]
  },
  {
   "cell_type": "markdown",
   "metadata": {},
   "source": [
    "## (XII) Orbits\n",
    "The action is given by the diagonal matrix $\\begin{pmatrix} -1 & 0 & 0 \\\\ 0 & 1 & 0 \\\\ 0 & 0 & 1\\end{pmatrix}$ so it just flips the sign on the $x$ (or on both $y$ and $z$), so we can eyeball the orbits. Note if the coefficient on $x$ is trivial then the action doesn't affect the bitangent."
   ]
  },
  {
   "cell_type": "code",
   "execution_count": null,
   "metadata": {},
   "outputs": [],
   "source": [
    "e_orbs = []\n",
    "# [[0],[1],[2],[3]]\n",
    "C2_orbs = []\n",
    "# [[4,5],[6,7],[8,9],[10,11],[12,13],[14,15],[16,17],..]\n",
    "orbit_indices = e_orbs + C2_orbs\n",
    "all_orbit_indices = flatten(orbit_indices)\n",
    "\n",
    "# Get the running list of orbits that we have\n",
    "list_of_bitangent_orbits = []\n",
    "for o in orbit_indices:\n",
    "    orbit = []\n",
    "    for b_index in o:\n",
    "        orbit.append(C2_Bitangents_new[b_index])\n",
    "    list_of_bitangent_orbits.append(orbit)\n",
    "\n",
    "print('Orbits of bitangents: ' + str(list_of_bitangent_orbits) + '\\n')\n",
    "print('Remaining bitangents:\\n')\n",
    "for j in range(0,len(C2_Bitangents_new)):\n",
    "    if not j in all_orbit_indices:\n",
    "        print(str(j) + ': ' + str(C2_Bitangents_new[j]))"
   ]
  },
  {
   "cell_type": "markdown",
   "metadata": {},
   "source": [
    "The action of $m$ leaves the bitangent stable if there's no $x$ coefficient, otherwise it swaps the sign on the $y$ and $z$ coefficients."
   ]
  },
  {
   "cell_type": "code",
   "execution_count": null,
   "metadata": {},
   "outputs": [],
   "source": [
    "2+2"
   ]
  },
  {
   "cell_type": "markdown",
   "metadata": {},
   "source": [
    "# Trott / Blum-Guinand"
   ]
  },
  {
   "cell_type": "code",
   "execution_count": null,
   "metadata": {},
   "outputs": [],
   "source": [
    "Trott = 144*(x^4+y^4) - 255*(x^2+y^2)*z^2 + 350*x^2*y^2+81*z^4\n",
    "Trott_bis = compute_bitangents(Trott);Trott_bis\n"
   ]
  },
  {
   "cell_type": "markdown",
   "metadata": {},
   "source": [
    "*Weird*: Why are some of them complex?"
   ]
  },
  {
   "cell_type": "markdown",
   "metadata": {},
   "source": [
    "# Edge quartic"
   ]
  },
  {
   "cell_type": "code",
   "execution_count": null,
   "metadata": {},
   "outputs": [],
   "source": [
    "Edge = 25*(x^4 + y^4 + z^4) -34*(x^2*y^2 + x^2*z^2 + y^2*z^2)\n",
    "Edge_bis = compute_bitangents(Edge);\n",
    "Edge_bis = [normalize(b) for b in Edge_bis];Edge_bis"
   ]
  },
  {
   "cell_type": "code",
   "execution_count": null,
   "metadata": {},
   "outputs": [],
   "source": [
    "c2r1 = [[16,19,0,3],[1,18,2,17]]\n",
    "c2r5 = [[11,10,5,4],[20,15,23,12]]\n",
    "e_istrop = [[21,13,7,9,14,22,6,8]]\n",
    "c2_r0 = [[24,25,26,27]]\n",
    "\n",
    "orbit_indices = c2r1 + c2r5 + e_istrop\n",
    "\n",
    "all_orbit_indices = flatten(orbit_indices)\n",
    "\n",
    "# Get the running list of orbits that we have\n",
    "list_of_bitangent_orbits = []\n",
    "for o in orbit_indices:\n",
    "    orbit = []\n",
    "    for b_index in o:\n",
    "        orbit.append(Edge_bis[b_index])\n",
    "    list_of_bitangent_orbits.append(orbit)\n",
    "\n",
    "print('Orbits of bitangents: ' + str(list_of_bitangent_orbits) + '\\n')\n",
    "print('Remaining bitangents:\\n')\n",
    "for j in range(0,len(Edge_bis)):\n",
    "    if not j in all_orbit_indices:\n",
    "        print(str(j) + ': ' + str(Edge_bis[j]))"
   ]
  },
  {
   "cell_type": "markdown",
   "metadata": {},
   "source": [
    "## Edge with $S_4$"
   ]
  },
  {
   "cell_type": "code",
   "execution_count": null,
   "metadata": {},
   "outputs": [],
   "source": [
    "TypeIV_S4 = [ [ [ -1, 0, 0 ], [ 0, -1, 0 ], [ 0, 0, 1 ] ],\n",
    "  [ [ -1, 0, 0 ], [ 0, 0, -1 ], [ 0, -1, 0 ] ],\n",
    "  [ [ -1, 0, 0 ], [ 0, 0, 1 ], [ 0, 1, 0 ] ],\n",
    "  [ [ -1, 0, 0 ], [ 0, 1, 0 ], [ 0, 0, -1 ] ],\n",
    "  [ [ 0, -1, 0 ], [ -1, 0, 0 ], [ 0, 0, -1 ] ],\n",
    "  [ [ 0, -1, 0 ], [ 0, 0, -1 ], [ 1, 0, 0 ] ],\n",
    "  [ [ 0, -1, 0 ], [ 0, 0, 1 ], [ -1, 0, 0 ] ],\n",
    "  [ [ 0, -1, 0 ], [ 1, 0, 0 ], [ 0, 0, 1 ] ],\n",
    "  [ [ 0, 0, -1 ], [ -1, 0, 0 ], [ 0, 1, 0 ] ],\n",
    "  [ [ 0, 0, -1 ], [ 0, -1, 0 ], [ -1, 0, 0 ] ],\n",
    "  [ [ 0, 0, -1 ], [ 0, 1, 0 ], [ 1, 0, 0 ] ],\n",
    "  [ [ 0, 0, -1 ], [ 1, 0, 0 ], [ 0, -1, 0 ] ],\n",
    "  [ [ 0, 0, 1 ], [ -1, 0, 0 ], [ 0, -1, 0 ] ],\n",
    "  [ [ 0, 0, 1 ], [ 0, -1, 0 ], [ 1, 0, 0 ] ],\n",
    "  [ [ 0, 0, 1 ], [ 0, 1, 0 ], [ -1, 0, 0 ] ],\n",
    "  [ [ 0, 0, 1 ], [ 1, 0, 0 ], [ 0, 1, 0 ] ],\n",
    "  [ [ 0, 1, 0 ], [ -1, 0, 0 ], [ 0, 0, 1 ] ],\n",
    "  [ [ 0, 1, 0 ], [ 0, 0, -1 ], [ -1, 0, 0 ] ],\n",
    "  [ [ 0, 1, 0 ], [ 0, 0, 1 ], [ 1, 0, 0 ] ],\n",
    "  [ [ 0, 1, 0 ], [ 1, 0, 0 ], [ 0, 0, -1 ] ],\n",
    "  [ [ 1, 0, 0 ], [ 0, -1, 0 ], [ 0, 0, -1 ] ],\n",
    "  [ [ 1, 0, 0 ], [ 0, 0, -1 ], [ 0, 1, 0 ] ],\n",
    "  [ [ 1, 0, 0 ], [ 0, 0, 1 ], [ 0, -1, 0 ] ],\n",
    "  [ [ 1, 0, 0 ], [ 0, 1, 0 ], [ 0, 0, 1 ] ] ]\n",
    "Edge_S4_dict = {}\n",
    "keys = ['r' + str(j) for j in range(0,24)]\n",
    "for j in range(0,24):\n",
    "    Edge_S4_dict.update({keys[j]:matrix(CC,TypeIV_S4[j],immutable=True)});"
   ]
  },
  {
   "cell_type": "code",
   "execution_count": null,
   "metadata": {},
   "outputs": [],
   "source": [
    "c2r20 = [[18,25,24,27,16,19,26,17,0,1,2,3]]\n",
    "c2r4 = [[21,14,13,22,11,4,10,5,7,8,9,6]]\n",
    "\n",
    "orbit_indices = c2r20 + c2r4\n",
    "\n",
    "all_orbit_indices = flatten(orbit_indices)\n",
    "\n",
    "# Get the running list of orbits that we have\n",
    "list_of_bitangent_orbits = []\n",
    "for o in orbit_indices:\n",
    "    orbit = []\n",
    "    for b_index in o:\n",
    "        orbit.append(Edge_bis[b_index])\n",
    "    list_of_bitangent_orbits.append(orbit)\n",
    "\n",
    "print('Orbits of bitangents: ' + str(list_of_bitangent_orbits) + '\\n')\n",
    "print('Remaining bitangents:\\n')\n",
    "for j in range(0,len(Edge_bis)):\n",
    "    if not j in all_orbit_indices:\n",
    "        print(str(j) + ': ' + str(Edge_bis[j]))"
   ]
  },
  {
   "cell_type": "code",
   "execution_count": null,
   "metadata": {},
   "outputs": [],
   "source": [
    "investigate_orbit(Edge_bis[12],Edge_S4_dict)"
   ]
  },
  {
   "cell_type": "code",
   "execution_count": null,
   "metadata": {},
   "outputs": [],
   "source": [
    "Edge_S4_dict['r4']"
   ]
  }
 ],
 "metadata": {
  "kernelspec": {
   "display_name": "SageMath 10.6",
   "language": "sage",
   "name": "sagemath-10.6"
  },
  "language_info": {
   "codemirror_mode": {
    "name": "ipython",
    "version": 3
   },
   "file_extension": ".py",
   "mimetype": "text/x-python",
   "name": "python",
   "nbconvert_exporter": "python",
   "pygments_lexer": "ipython3",
   "version": "3.12.5"
  }
 },
 "nbformat": 4,
 "nbformat_minor": 4
}
