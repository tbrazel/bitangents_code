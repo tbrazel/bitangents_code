{
 "cells": [
  {
   "cell_type": "markdown",
   "metadata": {},
   "source": [
    "# Orbits of bitangents on symmetric quartics\n",
    "\n",
    "## Table of contents\n",
    "1. [Introduction](#introduction)\n",
    "2. [Functions](#functions)\n",
    "3. [Type I: The Klein ($\\text{PSL}_2(7)$) quartic](#klein)\n",
    "4. [Type II: The Clebsch](#fermat)\n",
    "5. [Type III: The (48,33) quartic](#type3)\n",
    "6. [Type IV: The $S_4$ quartic](#S4)\n",
    "7. [Type V: The (16,13) quartic](#1613)\n",
    "8. [Type VI: The $C_9$ quartic](#C9)\n",
    "9. [Type VII: The $D_8$ quartic](#D8)\n",
    "10. [Type IX: The $S_3$ quartic](#S3)\n",
    "11. [Type X: The $K_4$ quartic](#K4)\n",
    "12. [Type XI: The $C_3$ quartic](#C3)\n",
    "13. [Type XII: The $C_2$ quartic](#C2)"
   ]
  },
  {
   "cell_type": "markdown",
   "metadata": {},
   "source": [
    "# Introduction<a name=\"introduction\"></a>\n",
    "The following code is taken from [Vinzant's webpage](http://sites.math.washington.edu/~vinzant/research/quartics/quartictype.sage) from [her research on quartics](http://sites.math.washington.edu/~vinzant/research/quartics.html) with Plaumann and Sturmfels. It inputs a quartic polynomial and outputs (among other things) equations for its tritangents."
   ]
  },
  {
   "cell_type": "code",
   "execution_count": null,
   "metadata": {},
   "outputs": [],
   "source": [
    "%run Automorphism_Groups.ipynb"
   ]
  },
  {
   "cell_type": "markdown",
   "metadata": {},
   "source": [
    "# Functions<a name=\"functions\"></a>"
   ]
  },
  {
   "cell_type": "code",
   "execution_count": null,
   "metadata": {},
   "outputs": [],
   "source": [
    "F=QQ; T.<x,y,z>=PolynomialRing(F,order='degrevlex')\n",
    "\n",
    "# The following function inputs a homogeneous quartic in QQ[x,y,z],\n",
    "# and outputs the 28 bitangents\n",
    "def compute_bitangents(f):\n",
    "    F=QQ; T.<x,y,z>=PolynomialRing(F)\n",
    "    \n",
    "    # Check whether the quartic is smooth\n",
    "    Grad=ideal(f,diff(f,x),diff(f,y),diff(f,z))\n",
    "    if not Grad.dimension()==0:\n",
    "        sys.exit(\"Quartic is not smooth!\")\n",
    "\n",
    "    # Create a new polynomial ring with variables a,b (for the bitangent) and a0,..,a4 (TODO)\n",
    "    R.<x,y,z,a,b,a0,a1,a2,a3,a4>=PolynomialRing(F)\n",
    "    f0=f.base_extend(R)\n",
    "    S.<a,b>=PolynomialRing(F)\n",
    "    digits=50\n",
    "    threshold=0.000000000001\n",
    "    almostzero=threshold\n",
    "\n",
    "    # Take an abstract line with equation ax+by+z\n",
    "    Line= a*x+b*y+z;\n",
    "    puresquare=ideal(a0*a3^2-a1^2*a4,8*a0^2*a3-4*a0*a1*a2+a1^3,8*a1*a4^2-4*a2*a3*a4+a3^3,8*a0*a1*a4-4*a0*a2*a3+a1^2*a3,8*a0*a3*a4-4*a1*a2*a4+a1*a3^2,16*a0^2*a4+2*a0*a1*a3-4*a0*a2^2+a1^2*a2,16*a0*a4^2+2*a1*a3*a4-4*a2^2*a4+a2*a3^2);\n",
    "\n",
    "    # Consider the resultant of the equation of the line with respect to z.\n",
    "    Res=f0.resultant(Line,z)    \n",
    "    Res=Res.subs(y=1)    \n",
    "    phi=hom(R,S,[0,0,0,a,b,Res.coefficient({x:0}),Res.coefficient({x:1}),Res.coefficient({x:2}),Res.coefficient({x:3}),Res.coefficient({x:4})])\n",
    "    \n",
    "    bit1 = phi(puresquare)     \n",
    "    \n",
    "    I_ideal=singular.groebner(singular(bit1))\n",
    "    singular.lib('solve.lib')\n",
    "    VRing=singular.solve(I_ideal,digits)\n",
    "    singular.set_ring(VRing)\n",
    "    B1=singular(\"SOL\")\n",
    "    \n",
    "    nreal1=0\n",
    "    Bitangents=[]\n",
    "    RealBitangents=[]\n",
    "    for k in [1..len(B1)]:\n",
    "        real=0;\n",
    "        if ((B1[k][1].impart()).absValue()<threshold) and ((B1[k][2].impart()).absValue()<threshold): \n",
    "            real=1\n",
    "            RealBitangents=RealBitangents+[(float(B1[k][1].repart())+float(B1[k][1].impart())*i)*x+(float(B1[k][2].repart())+float(B1[k][2].impart())*i)*y+z]\n",
    "        nreal1=nreal1+real\n",
    "        Bitangents=Bitangents+[(float(B1[k][1].repart())+float(B1[k][1].impart())*i)*x+(float(B1[k][2].repart())+float(B1[k][2].impart())*i)*y+z]\n",
    "    Line=a*x+y     \n",
    "    Res=f0.resultant(Line,y)    \n",
    "    Res=Res.subs(z=1)   \n",
    "    phi=hom(R,S,[0,0,0,a,0,Res.coefficient({x:0}),Res.coefficient({x:1}),Res.coefficient({x:2}),Res.coefficient({x:3}),Res.coefficient({x:4})])  \n",
    "    bit2=phi(puresquare)+ideal(b)\n",
    "    \n",
    "    if dimension(bit2)==-1: nreal2=0\n",
    "    else: \n",
    "          I_ideal=singular.groebner(singular(bit2))\n",
    "          singular.lib('solve.lib')\n",
    "          VRing=singular.solve(I_ideal,digits)\n",
    "          singular.set_ring(VRing)\n",
    "          B2=singular(\"SOL\")\n",
    "          nreal2=0\n",
    "          for k in [1..len(B2)]:\n",
    "                real=0\n",
    "                if ((B2[k][1].impart()).absValue()<threshold) and ((B2[k][2].impart()).absValue()<threshold):\n",
    "                    real=1\n",
    "                    RealBitangents=RealBitangents+[(float(B2[k][1].repart())+float(B2[k][1].impart())*i)*x+y]\n",
    "                nreal2=nreal2+real  \n",
    "                Bitangents=Bitangents+[(float(B2[k][1].repart())+float(B2[k][1].impart())*i)*x+y]\n",
    "    \n",
    "    Res=f0.resultant(x)\n",
    "    Res=Res.subs(z=1)\n",
    "    phi=hom(R,F,[0,0,0,0,0,Res.coefficient({y:0}),Res.coefficient({y:1}),Res.coefficient({y:2}),Res.coefficient({y:3}),Res.coefficient({y:4})])  \n",
    "    bit3=phi(puresquare)\n",
    "    if bit3==ideal(0):\n",
    "        nreal3=1\n",
    "        Bitangents=Bitangents+[x]\n",
    "        RealBitangents=RealBitangents+[x]\n",
    "    else: nreal3=0\n",
    "    \n",
    "    NRealBit=nreal1+nreal2+nreal3\n",
    "    if len(Bitangents)!=28:\n",
    "        return OSError(\"Something has gone wrong. We found \"+str(len(Bitangents))+\" bitangents\")\n",
    "    # print(\"The quartic has 28 bitangets, stored in 'Bitangents', and \"+str(NRealBit)+\" real bitangents, stored in 'RealBitangents'.\")\n",
    "    \n",
    "    return Bitangents"
   ]
  },
  {
   "cell_type": "code",
   "execution_count": null,
   "metadata": {
    "collapsed": false,
    "jupyter": {
     "outputs_hidden": false
    }
   },
   "outputs": [],
   "source": [
    "from sage.symbolic.expression_conversions import polynomial\n",
    "\n",
    "# Round complex numbers\n",
    "def round_cx(z0,n):\n",
    "    return float(round(z0.real(),n)) + float(round(z0.imag(),n))*I\n",
    "\n",
    "# The following inputs a line ax+by+cz and outputs the tuple of coefficients [a,b,c]\n",
    "# Note that line.coefficients() has errors, in that a line line 3y+2z will output [3,2] rather than [0,3,2] which is what we want\n",
    "def line_to_coeffs(bitangent):\n",
    "    return [CC(bitangent.coefficient({x:1})), CC(bitangent.coefficient({y:1})),CC(bitangent.coefficient({z:1}))]\n",
    "\n",
    "# Turn a list of three coefficients [a,b,c] into the polynomial ax+by+cz=0\n",
    "def coeffs_to_line(list_of_coeffs):\n",
    "    return x*list_of_coeffs[0] + y*list_of_coeffs[1] + z*list_of_coeffs[2]\n",
    "\n",
    "# Provide a normalized version of the bitangent -- old (working) version\n",
    "# def normalize(bitangent):\n",
    "#     b = bitangent.change_ring(ComplexField(30))\n",
    "#     if b.coefficients()[0] != 0:\n",
    "#         c = b*(1/b.coefficients()[0])\n",
    "#         if len(c.coefficients())==3:\n",
    "#             new_coeffs = [round_cx(a,5) for a in c.coefficients()]\n",
    "#             c = new_coeffs[0]*x + new_coeffs[1]*y + new_coeffs[2]*z\n",
    "#         return c\n",
    "#     return b\n",
    "\n",
    "\n",
    "\n",
    "# Provide a normalized version of the bitangent\n",
    "def normalize(bitangent):\n",
    "    # Base change to CC\n",
    "    b = bitangent.change_ring(ComplexField(30))\n",
    "\n",
    "    # If the x-coordinate is nonzero mod out by it\n",
    "    if line_to_coeffs(b)[0] != 0:\n",
    "        c = b*(1/line_to_coeffs(b)[0])\n",
    "    # Else mod out by the y-coordinate\n",
    "    elif line_to_coeffs(b)[1] != 0:\n",
    "        c = b*(1/line_to_coeffs(b)[1])\n",
    "    # Or the z-coordinate\n",
    "    else:\n",
    "        c = b*(1/line_to_coeffs(b)[2])\n",
    "    \n",
    "    # Round the output coordinates and return a new line\n",
    "    new_coeffs = [round_cx(a,4) for a in line_to_coeffs(c)]\n",
    "    return coeffs_to_line(new_coeffs)\n",
    "\n",
    "\n",
    "def compute_normalized_bitangents(f):\n",
    "    return [normalize(b) for b in compute_bitangents(f)]\n",
    "\n",
    "# Apply a matrix M to a line B = {ax+by+cy=0}\n",
    "def gp_action(M,B):\n",
    "    vec = matrix([[B.coefficient({x:1})],[B.coefficient({y:1})],[B.coefficient({z:1})]])\n",
    "    output_mat = (M*vec).transpose()\n",
    "    w = list(list(output_mat)[0])\n",
    "    outputline = w[0]*x + w[1]*y + w[2]*z\n",
    "    return normalize(outputline)\n",
    "\n",
    "def extract_orbit(Bitangents,list_of_indices):\n",
    "    orbit = [Bitangents[j] for j in list_of_indices]\n",
    "    remaining_Bitangents = [b for b in Bitangents if b not in orbit]\n",
    "    return orbit,remaining_Bitangents"
   ]
  },
  {
   "cell_type": "markdown",
   "metadata": {},
   "source": [
    "We write some functions to make the equations of bitangents more readable and act on them via a subgroup $G\\le \\text{PGL}_3(\\mathbb{C})$."
   ]
  },
  {
   "cell_type": "code",
   "execution_count": null,
   "metadata": {},
   "outputs": [],
   "source": [
    "# We also add some commands we'll use throughout\n",
    "def matrix_to_list(M):\n",
    "    return [list(r) for r in M.rows()]"
   ]
  },
  {
   "cell_type": "code",
   "execution_count": null,
   "metadata": {},
   "outputs": [],
   "source": [
    "# Generates a candidate list of the orbit of an input bitangent under a list of group elements\n",
    "def candidate_orbit(bitangent,list_of_gp_elements):\n",
    "    output_list = [bitangent]\n",
    "    isotropy_gens = []\n",
    "    for M in list_of_gp_elements:\n",
    "        output_list.append(gp_action(M,bitangent))\n",
    "        if gp_action(M,bitangent) == bitangent:\n",
    "            isotropy_gens.append(M)\n",
    "    for line in output_list:\n",
    "        print(line)\n",
    "    print('I think isotropy is generated by:\\n')\n",
    "    for isotropy_elt in isotropy_gens:\n",
    "        print(isotropy_elt)"
   ]
  },
  {
   "cell_type": "code",
   "execution_count": null,
   "metadata": {},
   "outputs": [],
   "source": [
    "def investigate_orbit(bitangent,group_dictionary):\n",
    "    output_list = [bitangent]\n",
    "    isotropy_gens = []\n",
    "    # Iterate over the group\n",
    "    for g in group_dictionary.keys():        \n",
    "        output_list.append(gp_action(group_dictionary[g],bitangent))\n",
    "        if gp_action(group_dictionary[g],bitangent) == bitangent:\n",
    "            isotropy_gens.append(g)\n",
    "    for line in set(output_list):\n",
    "        print(line)\n",
    "    print('I think isotropy is generated by:\\n')\n",
    "    for isotropy_elt in isotropy_gens:\n",
    "        print(isotropy_elt)"
   ]
  },
  {
   "cell_type": "code",
   "execution_count": null,
   "metadata": {},
   "outputs": [],
   "source": [
    "def trim(bitangent):\n",
    "    x_coeff = CC(bitangent.coefficient({x:1}));\n",
    "    y_coeff = CC(bitangent.coefficient({y:1}));\n",
    "    z_coeff = CC(bitangent.coefficient({z:1}));\n",
    "    return round_cx(x_coeff,3)*x + round_cx(y_coeff,3)*y + round_cx(z_coeff,3)*z\n",
    "\n",
    "def investigate_orbit_Klein(bitangent,group_dictionary):\n",
    "    output_list = [bitangent]\n",
    "    isotropy_gens = []\n",
    "    # Iterate over the group\n",
    "    for g in group_dictionary.keys():        \n",
    "        output_list.append(trim(gp_action(group_dictionary[g],bitangent)))\n",
    "        if trim(gp_action(group_dictionary[g],bitangent)) == trim(bitangent):\n",
    "            isotropy_gens.append([g,group_dictionary[g]])\n",
    "\n",
    "    # Output the orbits\n",
    "    for line in set(output_list):\n",
    "        print(line)\n",
    "\n",
    "    # Output the isotropy\n",
    "    print('I think isotropy is generated by:\\n')\n",
    "    for isotropy_elt in isotropy_gens:\n",
    "        print(isotropy_elt)"
   ]
  },
  {
   "cell_type": "code",
   "execution_count": null,
   "metadata": {},
   "outputs": [],
   "source": [
    "############\n",
    "\n",
    "def investigate_orbit_V(bitangent,group_dictionary):\n",
    "    output_list = [bitangent]\n",
    "    isotropy_gens = []\n",
    "    # Iterate over the group\n",
    "    for g in group_dictionary.keys():        \n",
    "        output_list.append(gp_action(group_dictionary[g],bitangent))\n",
    "        if gp_action(group_dictionary[g],bitangent) == bitangent:\n",
    "            isotropy_gens.append([g,group_dictionary[g]])\n",
    "\n",
    "    # Output the orbits\n",
    "    for line in set(output_list):\n",
    "        print(line)\n",
    "\n",
    "    # Output the isotropy\n",
    "    print('I think isotropy is generated by:\\n')\n",
    "    for isotropy_elt in isotropy_gens:\n",
    "        print(isotropy_elt)\n",
    "        # list_version = matrix_to_list(isotropy_elt)\n",
    "        # # print(list_version)\n",
    "        # output_list = []\n",
    "        # for row in list_version:\n",
    "        #     new_row = []\n",
    "        #     for j in row:\n",
    "        #         # every entry in the matx representation is either totally real or totally imaginary\n",
    "        #         if j.real != 0:\n",
    "        #             new_row.append(int(j.real()))\n",
    "        #         elif j.imag != 0:\n",
    "        #             new_row.append(int(j.imag())*I)\n",
    "        #         else:\n",
    "        #             print('error')\n",
    "        #     output_list.append(new_row)\n",
    "        # print(str(output_list) + ',')\n",
    "\n",
    "# def investigate_orbit2(bitangent,group_dictionary):\n",
    "#     output_list = [bitangent]\n",
    "#     isotropy_gens = []\n",
    "#     # Iterate over the group\n",
    "#     for g in group_dictionary.keys():        \n",
    "#         output_list.append(gp_action(group_dictionary[g],bitangent))\n",
    "#         if gp_action(group_dictionary[g],bitangent) == bitangent:\n",
    "#             isotropy_gens.append(group_dictionary[g])\n",
    "#     for line in set(output_list):\n",
    "#         print(line)\n",
    "#     print('I think isotropy is generated by:\\n')\n",
    "#     for isotropy_elt in isotropy_gens:\n",
    "#         print(isotropy_elt)"
   ]
  },
  {
   "cell_type": "code",
   "execution_count": null,
   "metadata": {},
   "outputs": [],
   "source": [
    "def bitan_difference(bitan1,bitan2):\n",
    "    # Take the difference in absolute value between each of the coefficients and sum these\n",
    "    return abs(CC(bitan1.coefficient({x:1})) - CC(bitan2.coefficient({x:1}))) + abs(CC(bitan1.coefficient({y:1})) - CC(bitan2.coefficient({y:1}))) + abs(CC(bitan1.coefficient({z:1})) - CC(bitan2.coefficient({z:1})))\n",
    "\n",
    "# This should return some indicator of how far off two equations are numerically. Uncomment and run the following for instance:\n",
    "# bitan1 =x + (-1.1234 - 4.9221*I)*y + (-2.9252 - 1.4087*I)*z\n",
    "# bitan2 =x + (-1.1231 - 4.9225*I)*y + (-2.9254 - 1.4091*I)*z\n",
    "# bitan_difference(bitan1,bitan2)"
   ]
  },
  {
   "cell_type": "code",
   "execution_count": 222,
   "metadata": {},
   "outputs": [],
   "source": [
    "# Boolean to check if two bitangents agree\n",
    "def same_bitangent(bitan1,bitan2, error_rate=0.01):\n",
    "    if bitan_difference(bitan1,bitan2) < error_rate:\n",
    "        return true\n",
    "    else:\n",
    "        return false"
   ]
  },
  {
   "cell_type": "code",
   "execution_count": null,
   "metadata": {},
   "outputs": [],
   "source": [
    "def investigate_orbit(bitangent,group_dictionary):\n",
    "    output_list = [bitangent]\n",
    "\n",
    "    for g in group_dictionary.keys():\n",
    "        g_bitangent = gp_action(group_dictionary[g],bitangent)\n",
    "\n",
    "        new_bitangent = True\n",
    "        for b in output_list:\n",
    "            if same_bitangent(g_bitangent,b):\n",
    "                new_bitangent = False\n",
    "\n",
    "        if new_bitangent == True:\n",
    "            output_list.append(g_bitangent)\n",
    "    return list(set(output_list))\n",
    "\n",
    "def investigate_isotropy(bitangent,group_dictionary):\n",
    "    isotropy_gens = []\n",
    "    for g in group_dictionary.keys():\n",
    "        # print(g)\n",
    "        g_bitangent = gp_action(group_dictionary[g],bitangent)\n",
    "        # print(g_bitangent)\n",
    "        if same_bitangent(g_bitangent,bitangent):\n",
    "            isotropy_gens.append(g)\n",
    "    return isotropy_gens"
   ]
  },
  {
   "cell_type": "markdown",
   "metadata": {},
   "source": [
    "We want to compute all the orbits of the bitangents for the [cubic surfaces found here](https://mat.uab.cat/~francesc/mates/autgen3.pdf).b"
   ]
  },
  {
   "cell_type": "markdown",
   "metadata": {},
   "source": [
    "TODO -- FIX EVERYTHING ABOVE HERE/RENAME FUNCTIONS/ETC"
   ]
  },
  {
   "cell_type": "markdown",
   "metadata": {
    "jp-MarkdownHeadingCollapsed": true
   },
   "source": [
    "# Type I: The Klein quartic<a name=\"klein\"></a>\n",
    "Our first quartic is the *Klein quartic*, defined by the equation\n",
    "$$x^3y + y^3z + z^3x$$\n",
    "This has the largest possible automorphism group, encoded as `PSL_dict` here.\n",
    "\n",
    "It is a classical fact that the automorphism group of the Klein quartic acts transitively on its 28 bitangents, however we can also observe this computationally. We first compute a list of all the bitangents of the Klein quartic."
   ]
  },
  {
   "cell_type": "code",
   "execution_count": null,
   "metadata": {},
   "outputs": [],
   "source": [
    "Klein = x^3*y + y^3*z + z^3*x;\n",
    "Klein_Bitangents = compute_normalized_bitangents(Klein);Klein_Bitangents"
   ]
  },
  {
   "cell_type": "markdown",
   "metadata": {},
   "source": [
    "We can look at the first bitangent `Klein_Bitangents[0]`, and try to examine what its orbit is under the action of the automorphism group using our `investigate_orbit` command:"
   ]
  },
  {
   "cell_type": "code",
   "execution_count": null,
   "metadata": {},
   "outputs": [],
   "source": [
    "investigate_orbit(Klein_Bitangents[0],PSL_dict)"
   ]
  },
  {
   "cell_type": "markdown",
   "metadata": {},
   "source": [
    "It is clear to see that we get all 28 bitangents in the orbit of the first one under the action of $\\text{PSL}_2(7)$. It remains to ask what the isotropy group of a single bitangent is --- since the action is transitive, we should obtain an index 48 subgroup in $\\text{PSL}_2(7)$."
   ]
  },
  {
   "cell_type": "code",
   "execution_count": null,
   "metadata": {},
   "outputs": [],
   "source": [
    "investigate_isotropy(compute_normalized_bitangents(Klein)[0],PSL_dict)"
   ]
  },
  {
   "cell_type": "markdown",
   "metadata": {},
   "source": [
    "We can then return to GAP and verify that these matrices generate a subgroup of $\\text{PSL}_2(7)$ which is isomorphic to $S_3$. Therefore as a $\\text{PSL}_2(7)$-set, the 28 bitangents of the Klein quartic are in equivariant bijection with the left cosets $[\\text{PSL}_2(7)/S_3]$. As a sanity check, $|\\text{PSL}_2(7)| = 168$ and $|S_3| = 6$, and $168/6 = 28$."
   ]
  },
  {
   "cell_type": "markdown",
   "metadata": {
    "jp-MarkdownHeadingCollapsed": true
   },
   "source": [
    "# Type II: Fermat<a href=\"fermat\"></a>"
   ]
  },
  {
   "cell_type": "markdown",
   "metadata": {},
   "source": [
    "## (II) Bitangents"
   ]
  },
  {
   "cell_type": "code",
   "execution_count": null,
   "metadata": {},
   "outputs": [],
   "source": [
    "F=QQ; T.<x,y,z>=PolynomialRing(F)\n",
    "Fermat = x^4 + y^4 + z^4\n",
    "\n",
    "Fermat_Bitangents = compute_normalized_bitangents(Fermat);Fermat_Bitangents"
   ]
  },
  {
   "cell_type": "markdown",
   "metadata": {},
   "source": [
    "Again, we can look at the orbit of the first bitangent:"
   ]
  },
  {
   "cell_type": "code",
   "execution_count": null,
   "metadata": {},
   "outputs": [],
   "source": [
    "investigate_orbit(Fermat_Bitangents[0],Fermat_dict)"
   ]
  },
  {
   "cell_type": "markdown",
   "metadata": {},
   "source": [
    "Hence we get 12 bitangents in this orbit. In terms of the indices of the list `Fermat_Bitangents`, these are the entries `[0,1,2,3,24,25,26,27,8,9,10,11]`. Again we can investigate the isotropy:"
   ]
  },
  {
   "cell_type": "code",
   "execution_count": null,
   "metadata": {},
   "outputs": [],
   "source": [
    "investigate_isotropy(Fermat_Bitangents[0],Fermat_dict)"
   ]
  },
  {
   "cell_type": "markdown",
   "metadata": {},
   "source": [
    "Going back to GAP, we get a copy of $C_8$ living inside the automorphism group of the Fermat quartic. Hence the 12 bitangents above correspond to the transitive set $[C_4^{\\times 2}\\rtimes S_3 / C_8]$.\n",
    "\n",
    "We can look at the remaining bitangents, for instance the element `Fermat_Bitangents[4]` which was not in the orbit above:"
   ]
  },
  {
   "cell_type": "code",
   "execution_count": null,
   "metadata": {},
   "outputs": [],
   "source": [
    "investigate_orbit(Fermat_Bitangents[4],Fermat_dict)"
   ]
  },
  {
   "cell_type": "markdown",
   "metadata": {},
   "source": [
    "These are the remaining 16 bitangents -- their indices in `Fermat_Bitangents` are `[16,6,20,21,15,12,14,17,18,7,4,5,23,22,13,19]`. Again we study isotropy:"
   ]
  },
  {
   "cell_type": "code",
   "execution_count": null,
   "metadata": {},
   "outputs": [],
   "source": [
    "investigate_isotropy(Fermat_Bitangents[4],Fermat_dict)"
   ]
  },
  {
   "cell_type": "markdown",
   "metadata": {},
   "source": [
    "This gives us a copy of $C_6$ inside of $C_4^{\\times 2}\\rtimes S_3$. Hence altogether we get an equivariant bijection\n",
    "$$\\text{28 bitangen"
   ]
  },
  {
   "cell_type": "markdown",
   "metadata": {
    "jp-MarkdownHeadingCollapsed": true
   },
   "source": [
    "# Type III: The $(48,33)$ quartic<a name=\"type3\"></a>\n",
    "There is a unique quartic of Type III, defined by the equation\n",
    "$$x^4 + y^4 + z^4 + (4\\rho+2)x^2y^2,$$\n",
    "where $\\rho$ is a primitive 3rd root of unity (note that $4\\rho + 2 = 2\\sqrt{-3}$, which is another common form for this quartic). Its automorphism group has order 48, and GAP ID `[48,33]`. It is accessible via `GpIII_Dict`.\n",
    "\n"
   ]
  },
  {
   "cell_type": "markdown",
   "metadata": {},
   "source": [
    "## (III) Bitangents"
   ]
  },
  {
   "cell_type": "markdown",
   "metadata": {},
   "source": [
    "We would like to compute equations for its bitangents, however since $\\rho\\notin\\mathbb{Q}$, we must modify the function `compute_bitangents`. To that end we include the following"
   ]
  },
  {
   "cell_type": "code",
   "execution_count": null,
   "metadata": {},
   "outputs": [],
   "source": [
    "def compute_bitangents_ideal_Q3(f):\n",
    "    F=CyclotomicField(3); T.<x,y,z>=PolynomialRing(F)\n",
    "    # Check whether the quartic is smooth\n",
    "    # Grad=ideal(f,diff(f,x),diff(f,y),diff(f,z))\n",
    "    # if not Grad.dimension()==0:\n",
    "    #     sys.exit(\"Quartic is not smooth!\")\n",
    "    f = T(f)\n",
    "    R.<x,y,z,a,b,a0,a1,a2,a3,a4>=PolynomialRing(F)\n",
    "    f0=f.base_extend(R)\n",
    "    S.<a,b>=PolynomialRing(F)\n",
    "    digits=50\n",
    "    threshold=0.000000000001\n",
    "    almostzero=threshold\n",
    "\n",
    "    # Make a formal line\n",
    "    Line= a*x+b*y+z;\n",
    "    \n",
    "    puresquare=ideal(a0*a3^2-a1^2*a4,8*a0^2*a3-4*a0*a1*a2+a1^3,8*a1*a4^2-4*a2*a3*a4+a3^3,8*a0*a1*a4-4*a0*a2*a3+a1^2*a3,8*a0*a3*a4-4*a1*a2*a4+a1*a3^2,16*a0^2*a4+2*a0*a1*a3-4*a0*a2^2+a1^2*a2,16*a0*a4^2+2*a1*a3*a4-4*a2^2*a4+a2*a3^2);\n",
    "    Res=f0.resultant(Line,z)    \n",
    "    Res=Res.subs(y=1)    \n",
    "    phi=hom(R,S,[0,0,0,a,b,Res.coefficient({x:0}),Res.coefficient({x:1}),Res.coefficient({x:2}),Res.coefficient({x:3}),Res.coefficient({x:4})])\n",
    "    bit1 = phi(puresquare)    \n",
    "    \n",
    "    I_ideal=singular.groebner(singular(bit1))\n",
    "    return I_ideal\n",
    "\n",
    "Dolg = x^4 + y^4 + z^4 + 2*sqrt(-3)*(x^2)*(y^2)\n",
    "F=CyclotomicField(12); T.<x,y,z>=PolynomialRing(F)\n",
    "\n",
    "# Grad = ideal(Dolg,diff(Dolg,x),diff(Dolg,y),diff(Dolg,z))\n",
    "Iideal = compute_bitangents_ideal_Q3(Dolg);Iideal\n",
    "print(Iideal)"
   ]
  },
  {
   "cell_type": "markdown",
   "metadata": {},
   "source": [
    "This gives us an ideal in a polynomial ring over $\\mathbb{Q}(\\zeta_3)$ that we wish to solve -- the solutions will be bitangents of the form $ax+by+z=0$."
   ]
  },
  {
   "cell_type": "code",
   "execution_count": null,
   "metadata": {},
   "outputs": [],
   "source": [
    "# Grad.dimension()\n",
    "# cyc\n",
    "\n",
    "R.<a,b> =PolynomialRing(CC)\n",
    "rho = exp(2*pi*i/3)\n",
    "a,b = var('a b')\n",
    "f0 = a^4+(-4*rho-2)*a^2*b^2+b^4+4\n",
    "f1 = 3*a^3*b^3+(2*rho+1)*a*b^5+(4*rho+2)*a*b\n",
    "f2 = 7*a^2*b^5+(2*rho+1)*b^7+2*a^2*b+(8*rho+4)*b^3\n",
    "f3 = 2*a*b^7+(2*rho+1)*a^3*b+a*b^3\n",
    "f4 = 2*b^9-5*a^4*b+(-6*rho-3)*a^2*b^3+10*b^5+8*b\n",
    "\n",
    "\n",
    "candidates = solve([f1==0,f2==0,f3==0,f0==0,f4==0],a,b); candidates"
   ]
  },
  {
   "cell_type": "markdown",
   "metadata": {},
   "source": [
    "This gives us 24 bitangents. To obtain the other 4, we need to consider the case where $z=0$..... TODO"
   ]
  },
  {
   "cell_type": "code",
   "execution_count": null,
   "metadata": {},
   "outputs": [],
   "source": [
    "QuarticIIIBis = [x + (-0.50000084 + 0.50000314*I)*z,\n",
    "x + (-0.50000314 - 0.50000084*I)*z,\n",
    "x - y + (0.500000000000000 - 0.866030000000000*I)*z,\n",
    "x - y + (-0.500000000000000 + 0.866030000000000*I)*z,\n",
    "x - y + (-0.866030000000000 - 0.500000000000000*I)*z,\n",
    "x - y + (0.866030000000000 + 0.500000000000000*I)*z,\n",
    "x + (0.50000314 + 0.50000084*I)*z,\n",
    "x + (0.50000084 - 0.50000314*I)*z,\n",
    "y + (0.50000314 + 0.50000084*I)*z,\n",
    "y + (-0.50000084 + 0.50000314*I)*z,\n",
    "y + (0.50000084 - 0.50000314*I)*z,\n",
    "y + (-0.50000314 - 0.50000084*I)*z,\n",
    "x + 1.00000000000000*I*y + (0.500000000000000 + 0.866030000000000*I)*z,\n",
    "x + 1.00000000000000*I*y + (0.866030000000000 - 0.500000000000000*I)*z,\n",
    "x + 1.00000000000000*I*y + (-0.866030000000000 + 0.500000000000000*I)*z,\n",
    "x + 1.00000000000000*I*y + (-0.500000000000000 - 0.866030000000000*I)*z,\n",
    "x + (-1.00000000000000*I)*y + (0.500000000000000 + 0.866030000000000*I)*z,\n",
    "x + (-1.00000000000000*I)*y + (0.866030000000000 - 0.500000000000000*I)*z,\n",
    "x + (-1.00000000000000*I)*y + (-0.866030000000000 + 0.500000000000000*I)*z,\n",
    "x + (-1.00000000000000*I)*y + (-0.500000000000000 - 0.866030000000000*I)*z,\n",
    "x + y + (0.500000000000000 - 0.866030000000000*I)*z,\n",
    "x + y + (-0.866030000000000 - 0.500000000000000*I)*z,\n",
    "x + y + (-0.500000000000000 + 0.866030000000000*I)*z,\n",
    "x + y + (0.866030000000000 + 0.500000000000000*I)*z,\n",
    "x + (-0.36602540 - 0.36602540*I)*y,\n",
    "x + (0.36602540 + 0.36602540*I)*y,\n",
    "x + (-1.3660254 + 1.3660254*I)*y,\n",
    "x + (1.3660254 - 1.3660254*I)*y]\n"
   ]
  },
  {
   "cell_type": "code",
   "execution_count": null,
   "metadata": {},
   "outputs": [],
   "source": [
    "investigate_orbit(QuarticIIIBis[0],GpIII_Dict)"
   ]
  },
  {
   "cell_type": "code",
   "execution_count": null,
   "metadata": {},
   "outputs": [],
   "source": [
    "investigate_isotropy(QuarticIIIBis[0],GpIII_Dict)"
   ]
  },
  {
   "cell_type": "code",
   "execution_count": null,
   "metadata": {},
   "outputs": [],
   "source": [
    "investigate_orbit(QuarticIIIBis[27],GpIII_Dict)"
   ]
  },
  {
   "cell_type": "code",
   "execution_count": null,
   "metadata": {},
   "outputs": [],
   "source": [
    "investigate_isotropy(QuarticIIIBis[27],GpIII_Dict)"
   ]
  },
  {
   "cell_type": "markdown",
   "metadata": {
    "jp-MarkdownHeadingCollapsed": true
   },
   "source": [
    "# Type IV: The $S_4$ quartic<a name=\"S4\"></a>\n",
    "For the group $S_4$, we obtain a pencil of *octahedral quartics*, given by the equation\n",
    " $$X^4 + Y^4 + Z^4 + a(X^2 Y^2 + Y^2 Z^2 + Z^2 X^2),$$\n",
    "for any $a\\in \\mathbb{C}$. Here $S_4$ is subconjugate to $\\text{PSL}_2(7)$ as well as $C_4^{\\times 2}\\rtimes S_3$ inside $\\text{PGL}_3(\\mathbb{C})$, reflected by certain values of $a$ which allow us to exhibit the Klein and Fermat quartics in this pencil.\n",
    "\n",
    "We pick $a=-3$ (not one of these special values) to carry out our computation:"
   ]
  },
  {
   "cell_type": "code",
   "execution_count": null,
   "metadata": {},
   "outputs": [],
   "source": [
    "F=QQ; T.<x,y,z>=PolynomialRing(F) # redefine the base field back to QQ\n",
    "\n",
    "S4_Quartic = x^4 + y^4 + z^4 -3*(x^2*y^2 + y^2*z^2 + z^2*x^2)\n",
    "S4_Bitangents = compute_normalized_bitangents(S4_Quartic);S4_Bitangents\n",
    "# S4_Bitangents = [normalize(b) for b in S4_Bitangents];S4_Bitangents"
   ]
  },
  {
   "cell_type": "markdown",
   "metadata": {},
   "source": [
    "We end up seeing three orbits, with isotropy groups given by the even and odd copies of $C_2$ in $S_4$, and $S_3$, respectively."
   ]
  },
  {
   "cell_type": "markdown",
   "metadata": {},
   "source": [
    "## $C_2^o$ isotropy"
   ]
  },
  {
   "cell_type": "code",
   "execution_count": null,
   "metadata": {},
   "outputs": [],
   "source": [
    "investigate_orbit(S4_Bitangents[0],S4_dict)"
   ]
  },
  {
   "cell_type": "markdown",
   "metadata": {},
   "source": [
    "In the list `S4_Bitangents` these are the 12 bitangents with indices `[0,1,2,3,18,19,26,27,25,24,16,17]`."
   ]
  },
  {
   "cell_type": "code",
   "execution_count": null,
   "metadata": {},
   "outputs": [],
   "source": [
    "investigate_isotropy(S4_Bitangents[0],S4_dict)"
   ]
  },
  {
   "cell_type": "markdown",
   "metadata": {},
   "source": [
    "## $C_2^e$ isotropy"
   ]
  },
  {
   "cell_type": "code",
   "execution_count": null,
   "metadata": {},
   "outputs": [],
   "source": [
    "investigate_orbit(S4_Bitangents[4],S4_dict)"
   ]
  },
  {
   "cell_type": "markdown",
   "metadata": {},
   "source": [
    "These are `[10,4,5,6,11,9,12,20,23,15,8,7]` in `S4_Bitangents`."
   ]
  },
  {
   "cell_type": "code",
   "execution_count": null,
   "metadata": {},
   "outputs": [],
   "source": [
    "investigate_isotropy(S4_Bitangents[4],S4_dict)"
   ]
  },
  {
   "cell_type": "markdown",
   "metadata": {},
   "source": [
    "## $S_3$ isotropy\n",
    "\n",
    "Finally we have four remaining bitangents, which we will see all lie in an orbit and therefore must have $S_3$ isotropy."
   ]
  },
  {
   "cell_type": "code",
   "execution_count": null,
   "metadata": {},
   "outputs": [],
   "source": [
    "investigate_orbit(S4_Bitangents[13],S4_dict)"
   ]
  },
  {
   "cell_type": "markdown",
   "metadata": {},
   "source": [
    "In the list `S4_Bitangents` these are the 12 bitangents with indices `[13,14,21,22]`."
   ]
  },
  {
   "cell_type": "code",
   "execution_count": null,
   "metadata": {},
   "outputs": [],
   "source": [
    "investigate_isotropy(S4_Bitangents[13],S4_dict)"
   ]
  },
  {
   "cell_type": "markdown",
   "metadata": {},
   "source": [
    "# Type V: The $(16,13)$ quartic<a name=\"1613\"></a>\n",
    "For Type V, we obtain a pencil of quartics with equations\n",
    "$$X^4 + Y^4 + Z^4 + aX^2 Y^2,$$\n",
    "and symmetry given by the *Pauli group* $P = C_4\\circledcirc K_4$. We pick a generic value $a=-4$ to obtain a Type V quartic with no additional symmetry beyond $P$:"
   ]
  },
  {
   "cell_type": "code",
   "execution_count": null,
   "metadata": {},
   "outputs": [],
   "source": [
    "# F=QQ; T.<x,y,z>=PolynomialRing(F)\n",
    "V_Quartic = x^4 + y^4 + z^4 - 4*x^2*y^2\n",
    "V_Bitangents = compute_normalized_bitangents(V_Quartic);V_Bitangents"
   ]
  },
  {
   "cell_type": "markdown",
   "metadata": {},
   "source": [
    "## $C_2^{(1)}$ isotropy\n",
    "\n",
    "We obtain one orbit with isotropy $C_2$ as follows:"
   ]
  },
  {
   "cell_type": "code",
   "execution_count": null,
   "metadata": {},
   "outputs": [],
   "source": [
    "investigate_orbit(V_Bitangents[0],VGrp_dict)"
   ]
  },
  {
   "cell_type": "markdown",
   "metadata": {},
   "source": [
    "This gives us eight bitangents, with indices `[0,1,2,3,20,21,22,23]` in `V_Bitangents`. Isotropy is given by the following:"
   ]
  },
  {
   "cell_type": "code",
   "execution_count": null,
   "metadata": {},
   "outputs": [],
   "source": [
    "investigate_isotropy(V_Bitangents[0],VGrp_dict)"
   ]
  },
  {
   "cell_type": "markdown",
   "metadata": {},
   "source": [
    "## $C_2^{(2)}$ isotropy\n",
    "We obtain another orbit of bitangents with isotropy $C_2$, however this is a non-conjugate copy of $C_2$ in the Pauli group:"
   ]
  },
  {
   "cell_type": "code",
   "execution_count": null,
   "metadata": {},
   "outputs": [],
   "source": [
    "investigate_orbit(V_Bitangents[4],VGrp_dict)"
   ]
  },
  {
   "cell_type": "markdown",
   "metadata": {},
   "source": [
    "This gives us eight bitangents, with indices `[4,5,6,7,16,17,18,19]`, and isotropy"
   ]
  },
  {
   "cell_type": "code",
   "execution_count": null,
   "metadata": {},
   "outputs": [],
   "source": [
    "investigate_isotropy(V_Bitangents[4],VGrp_dict)"
   ]
  },
  {
   "cell_type": "markdown",
   "metadata": {},
   "source": [
    "## $C_2^{(3)}$ isotropy\n",
    "\n",
    "We have yet another orbit of eight bitangents, whose isotropy is another non-conjugate copy of $C_2$ in the Pauli group. These have indices `[8,9,10,11,12,13,14,15]`"
   ]
  },
  {
   "cell_type": "code",
   "execution_count": null,
   "metadata": {},
   "outputs": [],
   "source": [
    "investigate_orbit(V_Bitangents[8],VGrp_dict)"
   ]
  },
  {
   "cell_type": "code",
   "execution_count": null,
   "metadata": {},
   "outputs": [],
   "source": [
    "investigate_isotropy(V_Bitangents[8],VGrp_dict)"
   ]
  },
  {
   "cell_type": "markdown",
   "metadata": {},
   "source": [
    "## $C_4^Z$ isotropy"
   ]
  },
  {
   "cell_type": "markdown",
   "metadata": {},
   "source": [
    "The remaining four bitangents, with indices `[24,25,26,27]` form an orbit with isotropy a cyclic subgroup of order four, characterized by the property that it is central in the Pauli group."
   ]
  },
  {
   "cell_type": "code",
   "execution_count": null,
   "metadata": {},
   "outputs": [],
   "source": [
    "investigate_orbit(V_Bitangents[24],VGrp_dict)"
   ]
  },
  {
   "cell_type": "code",
   "execution_count": null,
   "metadata": {},
   "outputs": [],
   "source": [
    "investigate_isotropy(V_Bitangents[24],VGrp_dict)"
   ]
  },
  {
   "cell_type": "markdown",
   "metadata": {},
   "source": [
    "# Type VI: The $C_9$ quartic<a name=\"C9\"></a>\n",
    "There is a unique planar quartic with symmetry group cyclic of order 9, given by the equation\n",
    "$$X^4 + XY^3 + YZ^3.$$"
   ]
  },
  {
   "cell_type": "code",
   "execution_count": null,
   "metadata": {},
   "outputs": [],
   "source": [
    "C9_Quartic = x^4 + x*y^3 + y*z^3\n",
    "C9_Bitangents = compute_normalized_bitangents(C9_Quartic);C9_Bitangents"
   ]
  },
  {
   "cell_type": "markdown",
   "metadata": {},
   "source": [
    "## Trivial isotropy\n",
    "\n",
    "We have three orbits with the same isotropy, given by the indices\n",
    "\n",
    "- `[4,0,23,24,25,3,26,8,7]`\n",
    "- `[6,1,5,20,12,21,22,19,11]`\n",
    "- `[2,9,10,13,14,15,16,17,18]`"
   ]
  },
  {
   "cell_type": "code",
   "execution_count": null,
   "metadata": {},
   "outputs": [],
   "source": [
    "investigate_orbit(C9_Bitangents[0],C9_dict)"
   ]
  },
  {
   "cell_type": "code",
   "execution_count": null,
   "metadata": {},
   "outputs": [],
   "source": [
    "investigate_orbit(C9_Bitangents[1],C9_dict)"
   ]
  },
  {
   "cell_type": "code",
   "execution_count": null,
   "metadata": {},
   "outputs": [],
   "source": [
    "investigate_orbit(C9_Bitangents[2],C9_dict)"
   ]
  },
  {
   "cell_type": "markdown",
   "metadata": {},
   "source": [
    "We observe they all have trivial isotropy"
   ]
  },
  {
   "cell_type": "code",
   "execution_count": null,
   "metadata": {},
   "outputs": [],
   "source": [
    "investigate_isotropy(C9_Bitangents[0],C9_dict)"
   ]
  },
  {
   "cell_type": "code",
   "execution_count": null,
   "metadata": {},
   "outputs": [],
   "source": [
    "investigate_isotropy(C9_Bitangents[1],C9_dict)"
   ]
  },
  {
   "cell_type": "code",
   "execution_count": null,
   "metadata": {},
   "outputs": [],
   "source": [
    "investigate_isotropy(C9_Bitangents[2],C9_dict)"
   ]
  },
  {
   "cell_type": "markdown",
   "metadata": {},
   "source": [
    "## $C_9$ isotropy"
   ]
  },
  {
   "cell_type": "markdown",
   "metadata": {},
   "source": [
    "We have accounted for 27 of our 28 bitangents, implying the remaining one must be fixed by the action of $C_9$. We can verify this:"
   ]
  },
  {
   "cell_type": "code",
   "execution_count": null,
   "metadata": {},
   "outputs": [],
   "source": [
    "investigate_isotropy(C9_Bitangents[27],C9_dict)"
   ]
  },
  {
   "cell_type": "markdown",
   "metadata": {},
   "source": [
    "# Type VII: The $D_8$ quartic<a name=\"D8\"></a>\n",
    "We have a two-dimensional family of $D_8$-symmetric quartic with equations\n",
    "$$X^4 + Y^4 + Z^4 + aX^2 Y^2 + bXYZ^2.$$\n",
    "We pick the special values $a=-3$ and $b=1$ to investigate the action of $D_8$ on the bitangents."
   ]
  },
  {
   "cell_type": "code",
   "execution_count": null,
   "metadata": {},
   "outputs": [],
   "source": [
    "F=QQ; T.<x,y,z>=PolynomialRing(F)\n",
    "D4_Quartic = x^4 + y^4 + z^4 - 3*x^2*y^2 + x*y*z^2\n",
    "D4_Bitangents = compute_normalized_bitangents(D4_Quartic);D4_Bitangents"
   ]
  },
  {
   "cell_type": "markdown",
   "metadata": {},
   "source": [
    "We have the following isotropies:\n",
    "\n",
    "- $[D_8/e]$ is `[2,1,13,12,0,3,14,15]`\n",
    "- $[D_8/C_2]$ has four orbits `[4,7,20,23],[22,6,5,21],[19,9,8,18],[10,16,17,11]`\n",
    "- $[D_8/C_2^Z]$ is `[24,25,26,27]`,\n",
    "here $C_2^Z \\le D_8$ denotes the center subgroup, and $C_2$ without a decoration denotes the non-center conjugacy subgroup which is cyclic of order two"
   ]
  },
  {
   "cell_type": "markdown",
   "metadata": {},
   "source": [
    "# Type VIII: $C_6$<a name=\"C6\"></a>\n",
    "There is a pencil of $C_6$-symmetric quartics, given by the equation\n",
    "$$ x^4 + y^4 + ax^2 y^2 + yz^3$$\n",
    "For $a=-3$, we compute the bitangents as follows:"
   ]
  },
  {
   "cell_type": "code",
   "execution_count": null,
   "metadata": {},
   "outputs": [],
   "source": [
    "F=QQ; T.<x,y,z>=PolynomialRing(F)\n",
    "C6_Quartic = z^3*y +x^4 -3*x^2*y^2 +y^4\n",
    "C6_Bitangents = compute_normalized_bitangents(C6_Quartic);C6_Bitangents"
   ]
  },
  {
   "cell_type": "markdown",
   "metadata": {},
   "source": [
    "There are some rounding errors so we edit this set by hand:"
   ]
  },
  {
   "cell_type": "code",
   "execution_count": null,
   "metadata": {},
   "outputs": [],
   "source": [
    "C6_Bitangents=[y + (-0.92831777)*z,\n",
    " y + (0.46415888 + 0.80394677*I)*z,\n",
    " y + (0.46415888 - 0.80394677*I)*z,\n",
    " x + 1.85047*y + (-0.39283)*z,\n",
    " x + (-1.85047)*y + 0.39283*z,\n",
    " x + 0.56125*I*y + 1.18243*I*z,\n",
    " x + (-0.56125*I)*y + (-1.18243*I)*z,\n",
    " x + (0.70756 - 0.23507*I)*y + (-0.52306 - 0.12198*I)*z,\n",
    " x + (-0.70756 + 0.23507*I)*y + (0.52306 + 0.12198*I)*z,\n",
    " x + (0.70756 + 0.23507*I)*y + (-0.52306 + 0.12198*I)*z,\n",
    " x + (-0.70756 - 0.23507*I)*y + (0.52306 - 0.12198*I)*z,\n",
    " x + (-0.56125*I)*y + (-1.02401 + 0.59121*I)*z,\n",
    " x + 0.56125*I*y + (1.02401 - 0.59121*I)*z,\n",
    " x + 0.56125*I*y + (-1.02401 - 0.59121*I)*z,\n",
    " x + (-0.56125*I)*y + (1.02401 + 0.59121*I)*z,\n",
    " x + (-0.70756 - 0.23507*I)*y + (-0.15589 + 0.51397*I)*z,\n",
    " x + (0.70756 + 0.23507*I)*y + (0.15589 - 0.51397*I)*z,\n",
    " x + (-0.70756 + 0.23507*I)*y + (-0.15589 - 0.51397*I)*z,\n",
    " x + (0.70756 - 0.23507*I)*y + (0.15589 + 0.51397*I)*z,\n",
    " x + (-0.70756 + 0.23507*I)*y + (-0.36717 + 0.39199*I)*z,\n",
    " x + (0.70756 - 0.23507*I)*y + (0.36717 - 0.39199*I)*z,\n",
    " x + (-0.70756 - 0.23507*I)*y + (-0.36717 - 0.39199*I)*z,\n",
    " x + (0.70756 + 0.23507*I)*y + (0.36717 + 0.39199*I)*z,\n",
    " x + (-1.85047)*y + (-0.19641 - 0.3402*I)*z,\n",
    " x + 1.85047*y + (0.19641 + 0.3402*I)*z,\n",
    " x + (-1.85047)*y + (-0.19641 + 0.3402*I)*z,\n",
    " x + 1.85047*y + (0.19641 - 0.3402*I)*z,\n",
    " y]"
   ]
  },
  {
   "cell_type": "markdown",
   "metadata": {},
   "source": [
    "We have the following isotropies:\n",
    "\n",
    "- $[C_6/C_2]$ is `[0,1,2]`\n",
    "- $[C_6/e]$ - there are four orbits of this type: `[24,26,3,25,4,23]`, `[6,11,14,13,12,5]`, `[7,20,18,19,8,17]`, and `[16,9,10,22,15,21]]`."
   ]
  },
  {
   "cell_type": "markdown",
   "metadata": {},
   "source": [
    "# Type IX: The $S_3$ quartic<a name=\"S3\"></a>\n",
    "We have a 2D family of $S_3$-symmetric quartics, with equations\n",
    "$$X^3Z + Y^3 Z + X^2 Y^2 + aXYZ^2 + bZ^4.$$\n",
    "We pick the values $a=-25$ and $b=10$ to compute the bitangents:"
   ]
  },
  {
   "cell_type": "code",
   "execution_count": null,
   "metadata": {},
   "outputs": [],
   "source": [
    "S3_Quartic_affine = x^3 + y^3 + x^2 * y^2 - 25*x*y + 10\n",
    "S3_Bitangents = compute_normalized_bitangents(S3_Quartic);S3_Bitangents"
   ]
  },
  {
   "cell_type": "markdown",
   "metadata": {},
   "source": [
    "For isotropy we have\n",
    "- A single fixed bitangent `[5]`\n",
    "- Three orbits of the form $[S_3/C_2]$: `[18,19,3]`, `[12,24,17]`, and `[16,25,13]`\n",
    "- Three orbits of the form $[S_3/e]$: `[1,23,22,26,27,0]`, `[14,21,15,20,2,4]`, and `[6,10,11,8,7,9]`"
   ]
  },
  {
   "cell_type": "markdown",
   "metadata": {},
   "source": [
    "# Type X: The $K_4$ quartic<a name=\"K4\"></a>\n",
    "We have a 3D family of $K_4$-symmetric quartics, given by $$X^4 + Y^4 + Z^4 + aX^2 Y^2 + bY^2Z^2 + c Z^2 X^2$$\n",
    "with action given by the diagonal matrices $$\\text{diag}[-1,1,1] \\qquad \\text{and}\\qquad \\text{diag}[1,-1,1].$$\n",
    "We choose to call these the *left* and *right* copies of $C_2$ in $K_4$."
   ]
  },
  {
   "cell_type": "code",
   "execution_count": null,
   "metadata": {},
   "outputs": [],
   "source": [
    "left_generator = matrix([[-1,0,0],[0,1,0],[0,0,1]])\n",
    "right_generator = matrix([[1,0,0],[0,-1,0],[0,0,1]])\n",
    "diagonal_generator = matrix([[-1,0,0],[0,-1,0],[0,0,1]])"
   ]
  },
  {
   "cell_type": "markdown",
   "metadata": {},
   "source": [
    "We pick the special values $(a,b,c) = (-9,-3,-8)$ to compute the bitangents"
   ]
  },
  {
   "cell_type": "code",
   "execution_count": null,
   "metadata": {},
   "outputs": [],
   "source": [
    "K4_Quartic = x^4 + y^4 + z^4 -9*x^2*y^2 - 3*y^2*z^2 - 8*x^2*z^2\n",
    "\n",
    "K4_Bitangents = compute_normalized_bitangents(K4_Quartic);K4_Bitangents"
   ]
  },
  {
   "cell_type": "markdown",
   "metadata": {},
   "source": [
    "Isotropy is:\n",
    "- $[K_4/C_2^L]$: `[0,1]`, `[2,3]`\n",
    "- $[K_4/e]$: `[4,5,18,19]`, `[6,7,16,17]`, `[8,9,14,15]`, `[10,11,12,13]`\n",
    "- $[K_4/C_2^R]$: `[20,21]`, `[22,23]`\n",
    "- $[K_4/C_2^\\Delta]$: `[24,25]`, `[26,27]`"
   ]
  },
  {
   "cell_type": "markdown",
   "metadata": {},
   "source": [
    "# Type XI: The $C_3$ quartic<a name=\"C3\"></a>\n",
    "We have a 3D family of $C_3$-symmetric quartics given by the equations:\n",
    "$$x(x-y)(x-ay)(x-by) + yz^3.$$\n",
    "The action of $C_3$ occurs via the diagonal matrix $\\begin{pmatrix} 1 & 0 & 0\\\\ 0& 1 &0 \\\\ 0 & 0 & \\zeta_3\\end{pmatrix}$ where $\\zeta_3$ is a primitive 3rd root of unity.\n",
    "\n",
    "We pick the special values $a=2$ and $b=3$ to compute bitangents:"
   ]
  },
  {
   "cell_type": "code",
   "execution_count": null,
   "metadata": {},
   "outputs": [],
   "source": [
    "C3_Quartic = z^3*y + x*(x-y)*(x-2*y)*(x-3*y)\n",
    "C3_Bitangents = compute_normalized_bitangents(C3_Quartic);C3_Bitangents"
   ]
  },
  {
   "cell_type": "markdown",
   "metadata": {},
   "source": [
    "The istropies are:\n",
    "- A single fixed bitangent, the last one `[27]`\n",
    "- Free transitive orbits $[C_3/e]$ given by the following indices: `[0,25,26]`, `[1,15,16]`, `[2,11,12]`, `[3,18,23]`, `[4,17,24]`,`[5,14,19]`, `[6,13,20]`, `[7,10,21]`, `[8,9,22]`."
   ]
  },
  {
   "cell_type": "markdown",
   "metadata": {},
   "source": [
    "# Type XII: The $C_2$ quartic\n",
    "Finally we have a 4D family of $C_2$-symmetric quartics, given by the equations\n",
    "$$x^4 + x^2 L_2 + L_4,$$\n",
    "where $L_n$ is any binary form of degree $n$ in $y$ and $z$. Here the $C_2$-action comes from sending $x\\mapsto -x$. We can easily see the action on bitangents by swapping signs. We pick the special values\n",
    "$$L_2 = -y^2 - 4z^2\\quad \\text{ and } \\quad L_4 = y^4 - y^2 z^2 - z^4$$"
   ]
  },
  {
   "cell_type": "code",
   "execution_count": null,
   "metadata": {},
   "outputs": [],
   "source": [
    "L2 = -y^2 - 4*z^2\n",
    "L4 = y^4 - y^2*z^2 - z^4\n",
    "C2_Quartic = x^4 + x^2*L2 + L4\n",
    "C2_Bitangents = compute_normalized_bitangents(C2_Quartic);C2_Bitangents"
   ]
  },
  {
   "cell_type": "markdown",
   "metadata": {},
   "source": [
    "For isotropy:\n",
    "- The first four bitangents are clearly fixed, as they have no $x$-coordinate.\n",
    "- The remaining 24 bitangents come in pairs under the $C_2$-action: `[4,5]`, `[6,7]`,...`[26,27]`"
   ]
  }
 ],
 "metadata": {
  "kernelspec": {
   "display_name": "SageMath 10.6",
   "language": "sage",
   "name": "sagemath-10.6"
  },
  "language_info": {
   "codemirror_mode": {
    "name": "ipython",
    "version": 3
   },
   "file_extension": ".py",
   "mimetype": "text/x-python",
   "name": "python",
   "nbconvert_exporter": "python",
   "pygments_lexer": "ipython3",
   "version": "3.12.5"
  }
 },
 "nbformat": 4,
 "nbformat_minor": 4
}
