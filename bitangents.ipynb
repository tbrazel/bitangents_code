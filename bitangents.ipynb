{
 "cells": [
  {
   "cell_type": "markdown",
   "metadata": {},
   "source": [
    "# Orbits of bitangents on symmetric quartics\n",
    "\n",
    "## Table of contents\n",
    "1. [Introduction](#introduction)\n",
    "3. [Type I: The Klein ($\\text{PSL}_2(7)$) quartic](#klein)\n",
    "4. [Type II: The Clebsch](#fermat)\n",
    "5. [Type III: The (48,33) quartic](#type3)\n",
    "6. [Type IV: The $S_4$ quartic](#S4)\n",
    "7. [Type V: The (16,13) quartic](#1613)\n",
    "8. [Type VI: The $C_9$ quartic](#C9)\n",
    "9. [Type VII: The $D_8$ quartic](#D8)\n",
    "10. [Type IX: The $S_3$ quartic](#S3)\n",
    "11. [Type X: The $K_4$ quartic](#K4)\n",
    "12. [Type XI: The $C_3$ quartic](#C3)\n",
    "13. [Type XII: The $C_2$ quartic](#C2)"
   ]
  },
  {
   "cell_type": "markdown",
   "metadata": {},
   "source": [
    "# Introduction<a name=\"introduction\"></a>\n",
    "Here we provide some code which can be used to study bitangents for example quartics of each type. For the first few types we explain in great detail how the code is working, then omit detail as the pattern becomes clear. To investigate orbits in each case, we:\n",
    "1. Pick an example quartic in that fmaily\n",
    "2. Compute its bitangents numerically\n",
    "3. Plug in its group of symmetries $G\\le \\text{PGL}_3(\\mathbb{C})$ as a matrix group, and use this to act on the bitangents\n",
    "4. Group the bitangents into orbits\n",
    "5. Determine isotropy for each orbit"
   ]
  },
  {
   "cell_type": "markdown",
   "metadata": {},
   "source": [
    "## Imports\n",
    "The following code is taken from [Vinzant's webpage](http://sites.math.washington.edu/~vinzant/research/quartics/quartictype.sage) from [her research on quartics](http://sites.math.washington.edu/~vinzant/research/quartics.html) with Plaumann and Sturmfels. It inputs a quartic polynomial and outputs (among other things) equations for its tritangents."
   ]
  },
  {
   "cell_type": "code",
   "execution_count": 1,
   "metadata": {},
   "outputs": [],
   "source": [
    "%run compute_bitangents.ipynb"
   ]
  },
  {
   "cell_type": "markdown",
   "metadata": {},
   "source": [
    "We import some helper functions which let us investigate group actions on bitangents numerically"
   ]
  },
  {
   "cell_type": "code",
   "execution_count": 2,
   "metadata": {},
   "outputs": [],
   "source": [
    "%run orbit_isotropy_functions.ipynb\n",
    "F=QQ; T.<x,y,z>=PolynomialRing(F,order='degrevlex')"
   ]
  },
  {
   "cell_type": "markdown",
   "metadata": {},
   "source": [
    "# Type I: The Klein quartic<a name=\"klein\"></a>\n",
    "Our first quartic is the *Klein quartic*, defined by the equation\n",
    "$$x^3y + y^3z + z^3x$$\n",
    "It is a classical fact that the automorphism group of the Klein quartic acts transitively on its 28 bitangents, however we can also observe this computationally."
   ]
  },
  {
   "cell_type": "markdown",
   "metadata": {},
   "source": [
    "## The Automorphism group of the Klein\n",
    "This one is the most painful to encode due to some of the strange elements appearing in a presentaion of it as a subgroup of $\\text{PGL}_3(\\mathbb{C})$, for instance:\n",
    "$$\\alpha = \\frac{\\zeta_7^5 - \\zeta_7^2}{\\sqrt{-7}},$$\n",
    "where $\\zeta_7$ is a primitive 7th root of unity. We could naively code this up, however Sage will interpret primitive roots of unity and square roots jointly as living inside of $\\mathbb{C}$. Instead we should exploit the Kronecker-Weber theorem, and rewrite $\\sqrt{-7}$ as follows:\n",
    "$$\\sqrt{-7} = 1 + 2\\zeta_7 + 2\\zeta_7^2 + 2\\zeta_7^4.$$"
   ]
  },
  {
   "cell_type": "code",
   "execution_count": 3,
   "metadata": {},
   "outputs": [],
   "source": [
    "sqrneg7 = 1 + 2*E(7) + 2*E(7)^2 + 2*E(7)^4;\n",
    "alpha = (E(7)^5 - E(7)^2)/sqrneg7\n",
    "beta = (E(7)^6 - E(7))/sqrneg7\n",
    "gamma = (E(7)^3 - E(7)^4)/sqrneg7"
   ]
  },
  {
   "cell_type": "markdown",
   "metadata": {},
   "source": [
    "We define the generators. The variable names for generators are consistent across groups -- e.g. the $2$nd generator of the Type $7$ quartic for instance will be `G7gen2`."
   ]
  },
  {
   "cell_type": "code",
   "execution_count": 4,
   "metadata": {},
   "outputs": [],
   "source": [
    "G1gen1 = matrix([\n",
    "    [E(7)^4,0,0],\n",
    "    [0,E(7)^2,0],\n",
    "    [0,0,E(7)]\n",
    "])\n",
    "G1gen2 = matrix([\n",
    "    [0,1,0],\n",
    "    [0,0,1],\n",
    "    [1,0,0]\n",
    "])\n",
    "G1gen3 = matrix([\n",
    "    [beta,alpha,gamma],\n",
    "    [alpha,gamma,beta],\n",
    "    [gamma,beta,alpha]\n",
    "])\n",
    "\n",
    "G1 = MatrixGroup([G1gen1,G1gen2,G1gen3])"
   ]
  },
  {
   "cell_type": "markdown",
   "metadata": {},
   "source": [
    "This `G1` is the automorphism group of the Klein quartic. If we want to double check the GAP ID of this small group, we can do so by using the [Sage interface to GAP](https://doc.sagemath.org/html/en/reference/interfaces/sage/interfaces/gap.html), for instance:"
   ]
  },
  {
   "cell_type": "code",
   "execution_count": 5,
   "metadata": {},
   "outputs": [
    {
     "data": {
      "text/plain": [
       "'[ 168, 42 ]'"
      ]
     },
     "execution_count": 5,
     "metadata": {},
     "output_type": "execute_result"
    }
   ],
   "source": [
    "get_gap_id(G1)"
   ]
  },
  {
   "cell_type": "markdown",
   "metadata": {},
   "source": [
    "## Transitivity of the automorphism group of the Klein quartic on its bitangents"
   ]
  },
  {
   "cell_type": "markdown",
   "metadata": {},
   "source": [
    "To compute the bitangents numerically and group them into orbits, we run our method `orbits_of_bitangents`:"
   ]
  },
  {
   "cell_type": "code",
   "execution_count": 6,
   "metadata": {},
   "outputs": [
    {
     "data": {
      "text/plain": [
       "[[x + 0.308*y + 1.555*z,\n",
       "  x + 5.0489*y + 3.2471*z,\n",
       "  x + (-0.0685 + 0.3003*I)*y + (-1.401 + 0.6747*I)*z,\n",
       "  x + (-1.1239 - 4.9223*I)*y + (-2.9256 - 1.4086*I)*z,\n",
       "  x + (0.6235 - 0.7818*I)*y + (-0.2226 + 0.9749*I)*z,\n",
       "  x + (-0.2775 + 0.1336*I)*y + (0.9695 + 1.2158*I)*z,\n",
       "  x + (-0.2226 + 0.9749*I)*y + (-0.901 + 0.4339*I)*z,\n",
       "  x + (0.401 + 0.5028*I)*y + (-0.0441 - 0.1931*I)*z,\n",
       "  x + (-1.1235 + 4.9224*I)*y + (-2.9255 + 1.4089*I)*z,\n",
       "  x + (-0.2775 - 0.1336*I)*y + (0.9695 - 1.2158*I)*z,\n",
       "  x + (0.6235 + 0.7818*I)*y + (-0.2225 - 0.9749*I)*z,\n",
       "  x + (-0.0685 - 0.3003*I)*y + (-1.401 - 0.6747*I)*z,\n",
       "  x + (-0.901 - 0.4339*I)*y + (0.6235 - 0.7818*I)*z,\n",
       "  x + (-0.5794 + 0.279*I)*y + (0.1235 + 0.1548*I)*z,\n",
       "  x + (-4.5489 - 2.1907*I)*y + (2.0245 - 2.5387*I)*z,\n",
       "  x + (0.192 - 0.2408*I)*y + (-0.346 + 1.516*I)*z,\n",
       "  x + (-0.901 + 0.4339*I)*y + (0.6235 + 0.7819*I)*z,\n",
       "  x + (-0.1431 - 0.627*I)*y + (-0.1785 - 0.0859*I)*z,\n",
       "  x + (3.148 - 3.9474*I)*y + (-0.7225 + 3.1657*I)*z,\n",
       "  x + (0.192 + 0.2408*I)*y + (-0.346 - 1.516*I)*z,\n",
       "  x + (-0.2225 - 0.9749*I)*y + (-0.901 - 0.4339*I)*z,\n",
       "  x + 0.6431*y + 0.1981*z,\n",
       "  x + (3.148 + 3.9474*I)*y + (-0.7225 - 3.1657*I)*z,\n",
       "  x + y + z,\n",
       "  x + (-0.1431 + 0.627*I)*y + (-0.1784 + 0.0859*I)*z,\n",
       "  x + (-4.5489 + 2.1907*I)*y + (2.0245 + 2.5387*I)*z,\n",
       "  x + (-0.5794 - 0.279*I)*y + (0.1235 - 0.1549*I)*z,\n",
       "  x + (0.401 - 0.5028*I)*y + (-0.0441 + 0.1931*I)*z]]"
      ]
     },
     "execution_count": 6,
     "metadata": {},
     "output_type": "execute_result"
    }
   ],
   "source": [
    "Klein = x^3*y + y^3*z + z^3*x\n",
    "orbits_of_bitangents(Klein,G1)"
   ]
  },
  {
   "cell_type": "markdown",
   "metadata": {},
   "source": [
    "This has one orbit, as we see above. Hence the group acts transitively on all 28 bitangents, which was known to Klein. If we wanted to recover the isotropy of this orbit (`orbits_of_bitangents(Klein,G1)[0]`) we could run our isotropy method:"
   ]
  },
  {
   "cell_type": "code",
   "execution_count": 7,
   "metadata": {},
   "outputs": [],
   "source": [
    "Klein_isotropy = isotropy(orbits_of_bitangents(Klein,G1)[0],G1)"
   ]
  },
  {
   "cell_type": "markdown",
   "metadata": {},
   "source": [
    "By checking its GAP ID for instance we see it is the symmetric group $S_3$:"
   ]
  },
  {
   "cell_type": "code",
   "execution_count": 8,
   "metadata": {},
   "outputs": [
    {
     "data": {
      "text/plain": [
       "'[ 6, 1 ]'"
      ]
     },
     "execution_count": 8,
     "metadata": {},
     "output_type": "execute_result"
    }
   ],
   "source": [
    "get_gap_id(Klein_isotropy)"
   ]
  },
  {
   "cell_type": "markdown",
   "metadata": {},
   "source": [
    "Therefore as a $\\text{PSL}_2(7)$-set, the 28 bitangents of the Klein quartic are in equivariant bijection with the left cosets $[\\text{PSL}_2(7)/S_3]$. As a sanity check, $|\\text{PSL}_2(7)| = 168$ and $|S_3| = 6$, and $168/6 = 28$."
   ]
  },
  {
   "cell_type": "markdown",
   "metadata": {},
   "source": [
    "# Type II: Fermat<a href=\"fermat\"></a>\n",
    "The Fermat is defined as follows:"
   ]
  },
  {
   "cell_type": "code",
   "execution_count": 9,
   "metadata": {},
   "outputs": [],
   "source": [
    "F=QQ; T.<x,y,z>=PolynomialRing(F)\n",
    "Fermat = x^4 + y^4 + z^4"
   ]
  },
  {
   "cell_type": "markdown",
   "metadata": {},
   "source": [
    "Its automorphism group is order 96, given as follows:"
   ]
  },
  {
   "cell_type": "code",
   "execution_count": 10,
   "metadata": {},
   "outputs": [],
   "source": [
    "G2gen1=matrix([[0,0,1],[1,0,0],[0,1,0]])\n",
    "G2gen2=matrix([[-E(4),0,0],[0,0,1],[0,E(4),0]])\n",
    "G2=MatrixGroup(G2gen1,G2gen2)"
   ]
  },
  {
   "cell_type": "markdown",
   "metadata": {},
   "source": [
    "We investigate the orbits of the action on the bitangents as follows:"
   ]
  },
  {
   "cell_type": "code",
   "execution_count": 11,
   "metadata": {},
   "outputs": [
    {
     "data": {
      "text/plain": [
       "[[y + (-0.7071 - 0.7071*I)*z,\n",
       "  y + (0.7071 + 0.7071*I)*z,\n",
       "  y + (0.7071 - 0.7071*I)*z,\n",
       "  y + (-0.7071 + 0.7071*I)*z,\n",
       "  x + (-0.7071 - 0.7071*I)*y,\n",
       "  x + (0.7071 + 0.7071*I)*y,\n",
       "  x + (0.7071 - 0.7071*I)*y,\n",
       "  x + (-0.7071 + 0.7071*I)*y,\n",
       "  x + (-0.7071 + 0.7071*I)*z,\n",
       "  x + (0.7071 - 0.7071*I)*z,\n",
       "  x + (0.7071 + 0.7071*I)*z,\n",
       "  x + (-0.7071 - 0.7071*I)*z],\n",
       " [x + y - z,\n",
       "  x + y + z,\n",
       "  x - y - z,\n",
       "  x - y + z,\n",
       "  x - y + 1.0*I*z,\n",
       "  x - y + (-1.0*I)*z,\n",
       "  x + y + 1.0*I*z,\n",
       "  x + y + (-1.0*I)*z,\n",
       "  x + 1.0*I*y + z,\n",
       "  x + 1.0*I*y - z,\n",
       "  x + (-1.0*I)*y + z,\n",
       "  x + (-1.0*I)*y - z,\n",
       "  x + (-1.0*I)*y + (-1.0*I)*z,\n",
       "  x + (-1.0*I)*y + 1.0*I*z,\n",
       "  x + 1.0*I*y + (-1.0*I)*z,\n",
       "  x + 1.0*I*y + 1.0*I*z]]"
      ]
     },
     "execution_count": 11,
     "metadata": {},
     "output_type": "execute_result"
    }
   ],
   "source": [
    "Fermat_orbits = orbits_of_bitangents(Fermat,G2);Fermat_orbits"
   ]
  },
  {
   "cell_type": "markdown",
   "metadata": {},
   "source": [
    "We see two orbits, the first with 12 bitangents and the second with 16. Their isotropy groups should be index 96/12=8 and 96/16=6, respectively. Indeed we see that we get $C_8$ and $S_3$, respectively."
   ]
  },
  {
   "cell_type": "code",
   "execution_count": 12,
   "metadata": {},
   "outputs": [
    {
     "data": {
      "text/plain": [
       "'[ 8, 1 ]'"
      ]
     },
     "execution_count": 12,
     "metadata": {},
     "output_type": "execute_result"
    }
   ],
   "source": [
    "get_gap_id(isotropy(Fermat_orbits[0],G2))"
   ]
  },
  {
   "cell_type": "code",
   "execution_count": 13,
   "metadata": {},
   "outputs": [
    {
     "data": {
      "text/plain": [
       "'[ 6, 1 ]'"
      ]
     },
     "execution_count": 13,
     "metadata": {},
     "output_type": "execute_result"
    }
   ],
   "source": [
    "get_gap_id(isotropy(Fermat_orbits[1],G2))"
   ]
  },
  {
   "cell_type": "markdown",
   "metadata": {},
   "source": [
    "In summary, the bitangents to the Fermat quartic, which has automorphism group $G_2 = C_4^{\\times 2}\\rtimes S_3$, decompose as a $G_2$-set as\n",
    "\n",
    "$$[C_4^{\\times 2}\\rtimes S_3/C_8] + [C_4^{\\times 2}\\rtimes S_3/S_3].$$"
   ]
  },
  {
   "cell_type": "markdown",
   "metadata": {},
   "source": [
    "# Type III: The $(48,33)$ quartic<a name=\"type3\"></a>\n",
    "There is a unique quartic of Type III, defined by the equation\n",
    "$$x^4 + y^4 + z^4 + (4\\rho+2)x^2y^2,$$\n",
    "where $\\rho$ is a primitive 3rd root of unity (note that $4\\rho + 2 = 2\\sqrt{-3}$, which is another common form for this quartic). Its automorphism group has order 48, and GAP ID `[48,33]`. This type is special in that it is the only kind of symmetric quartic which does not admit a family member defined over $\\mathbb{Z}$. To that end, our numerical methods have to be modified a bit - we treat this case at the bottom of the notebook in an \"appendix\"."
   ]
  },
  {
   "cell_type": "markdown",
   "metadata": {},
   "source": [
    "# Type IV: The $S_4$ quartic<a name=\"S4\"></a>\n",
    "For the group $S_4$, we obtain a pencil of *octahedral quartics*, given by the equation\n",
    " $$X^4 + Y^4 + Z^4 + a(X^2 Y^2 + Y^2 Z^2 + Z^2 X^2),$$\n",
    "for any $a\\in \\mathbb{C}$. Here $S_4$ is subconjugate to $\\text{PSL}_2(7)$ as well as $C_4^{\\times 2}\\rtimes S_3$ inside $\\text{PGL}_3(\\mathbb{C})$, reflected by certain values of $a$ which allow us to exhibit the Klein and Fermat quartics in this pencil. We pick $a=-3$ (not one of these special values) to carry out our computation:"
   ]
  },
  {
   "cell_type": "code",
   "execution_count": 14,
   "metadata": {},
   "outputs": [],
   "source": [
    "S4_Quartic = x^4 + y^4 + z^4 -3*(x^2*y^2 + y^2*z^2 + z^2*x^2)\n",
    "\n",
    "# The automorphism group:\n",
    "G4gen1=matrix([[0,0,1],[1,0,0],[0,1,0]])\n",
    "G4gen2=matrix([[0,-1,0],[1,0,0],[0,0,1]])\n",
    "G4=MatrixGroup(G4gen1,G4gen2)"
   ]
  },
  {
   "cell_type": "markdown",
   "metadata": {},
   "source": [
    "We end up seeing three orbits, with isotropy groups given by the even and odd copies of $C_2$ in $S_4$, and $S_3$, respectively."
   ]
  },
  {
   "cell_type": "code",
   "execution_count": 15,
   "metadata": {},
   "outputs": [
    {
     "data": {
      "text/plain": [
       "'[ 2, 1 ]'"
      ]
     },
     "execution_count": 15,
     "metadata": {},
     "output_type": "execute_result"
    }
   ],
   "source": [
    "orbs4 = orbits_of_bitangents(S4_Quartic,G4)\n",
    "H1 = isotropy(orbs4[0],G4); get_gap_id(H1)"
   ]
  },
  {
   "cell_type": "code",
   "execution_count": 16,
   "metadata": {},
   "outputs": [
    {
     "data": {
      "text/plain": [
       "'[ 2, 1 ]'"
      ]
     },
     "execution_count": 16,
     "metadata": {},
     "output_type": "execute_result"
    }
   ],
   "source": [
    "H2 = isotropy(orbs4[1],G4); get_gap_id(H2)"
   ]
  },
  {
   "cell_type": "code",
   "execution_count": 17,
   "metadata": {},
   "outputs": [
    {
     "data": {
      "text/plain": [
       "'[ 6, 1 ]'"
      ]
     },
     "execution_count": 17,
     "metadata": {},
     "output_type": "execute_result"
    }
   ],
   "source": [
    "K = isotropy(orbs4[2],G4); get_gap_id(K)"
   ]
  },
  {
   "cell_type": "markdown",
   "metadata": {},
   "source": [
    "We can verify that the two orbits with isotropy $C_2$ are not in bijection as $S_4$-sets, by verifying (calling to GAP) that the two isotropy groups `H1` and `H2` are not conjugate subgroups in `G4`, hence $G4/H1$ and $G4/H2$ are not isomorphic as $G4$-sets:"
   ]
  },
  {
   "cell_type": "code",
   "execution_count": 18,
   "metadata": {},
   "outputs": [
    {
     "data": {
      "text/plain": [
       "'false'"
      ]
     },
     "execution_count": 18,
     "metadata": {},
     "output_type": "execute_result"
    }
   ],
   "source": [
    "are_conjugate_subgps(G4,H1,H2)"
   ]
  },
  {
   "cell_type": "markdown",
   "metadata": {},
   "source": [
    "Hence we get that the orbits of the 28 bitangents on a Type IV quartic are of the form\n",
    "$$[S_4/C_2^o] + [S_4/C_2^e] + [S_4/S_3].$$"
   ]
  },
  {
   "cell_type": "markdown",
   "metadata": {},
   "source": [
    "# Type V: The $(16,13)$ quartic<a name=\"1613\"></a>\n",
    "For Type V, we obtain a pencil of quartics with equations\n",
    "$$X^4 + Y^4 + Z^4 + aX^2 Y^2,$$\n",
    "and symmetry given by the *Pauli group* $P = C_4\\circledcirc K_4$. We pick a generic value $a=-4$ to obtain a Type V quartic with no additional symmetry beyond $P$:"
   ]
  },
  {
   "cell_type": "code",
   "execution_count": 19,
   "metadata": {},
   "outputs": [],
   "source": [
    "# F=QQ; T.<x,y,z>=PolynomialRing(F)\n",
    "V_Quartic = x^4 + y^4 + z^4 - 4*x^2*y^2\n",
    "\n",
    "G5gen1 = matrix([\n",
    "    [-1,0,0],\n",
    "    [0,1,0],\n",
    "    [0,0,1]\n",
    "])\n",
    "G5gen2 = matrix([\n",
    "    [E(4),0,0],\n",
    "    [0,-E(4),0],\n",
    "    [0,0,1]\n",
    "])\n",
    "G5gen3 = matrix([\n",
    "    [0,-1,0],\n",
    "    [1,0,0],\n",
    "    [0,0,1]\n",
    "])\n",
    "G5 = MatrixGroup([G5gen1,G5gen2,G5gen3]); #get_gap_id(G5)"
   ]
  },
  {
   "cell_type": "markdown",
   "metadata": {},
   "source": [
    "We compute that there are exactly four orbits:"
   ]
  },
  {
   "cell_type": "code",
   "execution_count": 20,
   "metadata": {},
   "outputs": [
    {
     "data": {
      "text/plain": [
       "4"
      ]
     },
     "execution_count": 20,
     "metadata": {},
     "output_type": "execute_result"
    }
   ],
   "source": [
    "orbs5 = orbits_of_bitangents(V_Quartic,G5)\n",
    "len(orbs5)"
   ]
  },
  {
   "cell_type": "markdown",
   "metadata": {},
   "source": [
    "Let's check which groups are appearing as isotropy groups:"
   ]
  },
  {
   "cell_type": "code",
   "execution_count": 21,
   "metadata": {},
   "outputs": [
    {
     "name": "stdout",
     "output_type": "stream",
     "text": [
      "[ 2, 1 ]\n",
      "[ 2, 1 ]\n",
      "[ 2, 1 ]\n",
      "[ 4, 1 ]\n"
     ]
    }
   ],
   "source": [
    "for orb in orbs5:\n",
    "    print(get_gap_id(isotropy(orb,G5)))"
   ]
  },
  {
   "cell_type": "markdown",
   "metadata": {},
   "source": [
    "We can check that all three of these copies of $C_2$ are not pairwise conjugate!"
   ]
  },
  {
   "cell_type": "code",
   "execution_count": 22,
   "metadata": {},
   "outputs": [
    {
     "name": "stdout",
     "output_type": "stream",
     "text": [
      "false\n",
      "false\n",
      "false\n"
     ]
    }
   ],
   "source": [
    "G5_C2_isotropy_1 = isotropy(orbs5[0],G5)\n",
    "G5_C2_isotropy_2 = isotropy(orbs5[1],G5)\n",
    "G5_C2_isotropy_3 = isotropy(orbs5[2],G5)\n",
    "\n",
    "print(are_conjugate_subgps(G5,G5_C2_isotropy_1,G5_C2_isotropy_2))\n",
    "print(are_conjugate_subgps(G5,G5_C2_isotropy_1,G5_C2_isotropy_3))\n",
    "print(are_conjugate_subgps(G5,G5_C2_isotropy_2,G5_C2_isotropy_3))"
   ]
  },
  {
   "cell_type": "markdown",
   "metadata": {},
   "source": [
    "Altogether we get\n",
    "$$[P/C_2^{(1)}] + [P/C_2^{(2)}] + [P/C_2^{(3)}] + [P/C_4^Z],$$\n",
    "where the superscript $Z$ reminds us that the last orbit has *central* isotropy (computation omitted), as there is another non-conjugate copy of $C_4$ living inside of $P$."
   ]
  },
  {
   "cell_type": "markdown",
   "metadata": {},
   "source": [
    "# Type VI: The $C_9$ quartic<a name=\"C9\"></a>\n",
    "There is a unique planar quartic with symmetry group cyclic of order 9, given by the equation\n",
    "$$X^4 + XY^3 + YZ^3.$$"
   ]
  },
  {
   "cell_type": "code",
   "execution_count": 23,
   "metadata": {},
   "outputs": [],
   "source": [
    "C9_Quartic = x^4 + x*y^3 + y*z^3\n",
    "G6 = MatrixGroup([\n",
    "    matrix([\n",
    "        [E(9)^3,0,0],\n",
    "        [0,1,0],\n",
    "        [0,0,E(9)]\n",
    "    ])\n",
    "])\n"
   ]
  },
  {
   "cell_type": "markdown",
   "metadata": {},
   "source": [
    "Since the group is cyclic, any subgroup is uniquely determined by its order, so we don't need any calls to GAP, we simply need to list off the lengths of each orbit."
   ]
  },
  {
   "cell_type": "code",
   "execution_count": 24,
   "metadata": {},
   "outputs": [
    {
     "data": {
      "text/plain": [
       "[9, 9, 9, 1]"
      ]
     },
     "execution_count": 24,
     "metadata": {},
     "output_type": "execute_result"
    }
   ],
   "source": [
    "orbs6 = orbits_of_bitangents(C9_Quartic,G6,0.01)\n",
    "\n",
    "[len(orb) for orb in orbs6]"
   ]
  },
  {
   "cell_type": "markdown",
   "metadata": {},
   "source": [
    "Hence the orbits of the bitangents on a $C_9$-symmetric quartic are\n",
    "$$3[C_9/e] + [C_9/C_9].$$"
   ]
  },
  {
   "cell_type": "markdown",
   "metadata": {},
   "source": [
    "# Type VII: The $D_8$ quartic<a name=\"D8\"></a>\n",
    "We have a two-dimensional family of $D_8$-symmetric quartic with equations\n",
    "$$X^4 + Y^4 + Z^4 + aX^2 Y^2 + bXYZ^2.$$\n",
    "We pick the special values $a=-3$ and $b=1$ to investigate the action of $D_8$ on the bitangents."
   ]
  },
  {
   "cell_type": "code",
   "execution_count": 25,
   "metadata": {},
   "outputs": [],
   "source": [
    "F=QQ; T.<x,y,z>=PolynomialRing(F)\n",
    "D4_Quartic = x^4 + y^4 + z^4 - 3*x^2*y^2 + x*y*z^2\n",
    "\n",
    "G7gen1 = matrix([\n",
    "    [E(4),0,0],\n",
    "    [0,-E(4),0],\n",
    "    [0,0,1]\n",
    "])\n",
    "G7gen2 = matrix([\n",
    "    [0,1,0],\n",
    "    [1,0,0],\n",
    "    [0,0,1]\n",
    "])\n",
    "G7 = MatrixGroup([G7gen1,G7gen2])"
   ]
  },
  {
   "cell_type": "markdown",
   "metadata": {},
   "source": [
    "The lengths of the orbits are as follows:"
   ]
  },
  {
   "cell_type": "code",
   "execution_count": 26,
   "metadata": {},
   "outputs": [
    {
     "data": {
      "text/plain": [
       "[8, 4, 4, 4, 4, 4]"
      ]
     },
     "execution_count": 26,
     "metadata": {},
     "output_type": "execute_result"
    }
   ],
   "source": [
    "[len(orb) for orb in orbits_of_bitangents(D4_Quartic,G7)]"
   ]
  },
  {
   "cell_type": "markdown",
   "metadata": {},
   "source": [
    "So we get one transitive orbit $D_8/e$ and four orbits whose isotropy is cyclic of order two. These fall into three conjugacy classes -- two nonconjugate noncentral copies of $C_2$, and one which is the center of $D_8$:"
   ]
  },
  {
   "cell_type": "code",
   "execution_count": 27,
   "metadata": {},
   "outputs": [
    {
     "name": "stdout",
     "output_type": "stream",
     "text": [
      "true\n",
      "true\n",
      "false\n",
      "false\n"
     ]
    }
   ],
   "source": [
    "G7_C2_isotropy_1 = isotropy(orbits_of_bitangents(D4_Quartic,G7)[1],G7)\n",
    "G7_C2_isotropy_2 = isotropy(orbits_of_bitangents(D4_Quartic,G7)[2],G7)\n",
    "G7_C2_isotropy_3 = isotropy(orbits_of_bitangents(D4_Quartic,G7)[3],G7)\n",
    "G7_C2_isotropy_4 = isotropy(orbits_of_bitangents(D4_Quartic,G7)[4],G7)\n",
    "G7_C2_isotropy_5 = isotropy(orbits_of_bitangents(D4_Quartic,G7)[5],G7) # this is the central one\n",
    "\n",
    "# One pair of orbits\n",
    "print(are_conjugate_subgps(G7,G7_C2_isotropy_1,G7_C2_isotropy_2))\n",
    "\n",
    "# Another pair of orbits\n",
    "print(are_conjugate_subgps(G7,G7_C2_isotropy_3,G7_C2_isotropy_4))\n",
    "\n",
    "# We can check the fifth one is not conjugate to the other two\n",
    "print(are_conjugate_subgps(G7,G7_C2_isotropy_5,G7_C2_isotropy_1))\n",
    "print(are_conjugate_subgps(G7,G7_C2_isotropy_5,G7_C2_isotropy_3))"
   ]
  },
  {
   "cell_type": "markdown",
   "metadata": {},
   "source": [
    "Altogether we get that the bitangents decompose as\n",
    "$$[D_8/e] + 2[D_8/C_2^{(1)}] + 2[D_8/C_2^{(2)}] + [D_8/C_2^Z].$$"
   ]
  },
  {
   "cell_type": "markdown",
   "metadata": {},
   "source": [
    "# Type VIII: $C_6$<a name=\"C6\"></a>\n",
    "There is a pencil of $C_6$-symmetric quartics, given by the equation\n",
    "$$ x^4 + y^4 + ax^2 y^2 + yz^3$$\n",
    "We pick the value $a=-3$, and again as $C_6$ is cyclic we only need to know the *sizes* of the orbits:"
   ]
  },
  {
   "cell_type": "code",
   "execution_count": 28,
   "metadata": {},
   "outputs": [
    {
     "data": {
      "text/plain": [
       "[3, 6, 6, 6, 6, 1]"
      ]
     },
     "execution_count": 28,
     "metadata": {},
     "output_type": "execute_result"
    }
   ],
   "source": [
    "F=QQ; T.<x,y,z>=PolynomialRing(F)\n",
    "C6_Quartic = z^3*y +x^4 -3*x^2*y^2 +y^4\n",
    "\n",
    "G8 = MatrixGroup([\n",
    "    matrix([\n",
    "        [-1,0,0],\n",
    "        [0,1,0],\n",
    "        [0,0,E(3)]\n",
    "    ])\n",
    "])\n",
    "\n",
    "[len(orb) for orb in orbits_of_bitangents(C6_Quartic,G8)]"
   ]
  },
  {
   "cell_type": "markdown",
   "metadata": {},
   "source": [
    "So the bitangents decompose as\n",
    "$$4[C_6/e] + [C_6/C_2] + [C_6/C_6].$$"
   ]
  },
  {
   "cell_type": "markdown",
   "metadata": {},
   "source": [
    "# Type IX: The $S_3$ quartic<a name=\"S3\"></a>\n",
    "We have a 2D family of $S_3$-symmetric quartics, with equations\n",
    "$$X^3Z + Y^3 Z + X^2 Y^2 + aXYZ^2 + bZ^4.$$\n",
    "We pick the values $a=-25$ and $b=10$ to compute the bitangents:"
   ]
  },
  {
   "cell_type": "code",
   "execution_count": 29,
   "metadata": {},
   "outputs": [],
   "source": [
    "S3_Quartic = x^3*z + y^3*z + x^2 * y^2 - 25*x*y*z^2 + 10*z^4\n",
    "G9gen1 = matrix([\n",
    "    [E(3),0,0],\n",
    "    [0,E(3)^2,0],\n",
    "    [0,0,1]\n",
    "])\n",
    "G9gen2 = matrix([\n",
    "    [0,1,0],\n",
    "    [1,0,0],\n",
    "    [0,0,1]\n",
    "])\n",
    "G9 = MatrixGroup([G9gen1,G9gen2])"
   ]
  },
  {
   "cell_type": "code",
   "execution_count": 30,
   "metadata": {},
   "outputs": [
    {
     "data": {
      "text/plain": [
       "[6, 6, 3, 1, 6, 3, 3]"
      ]
     },
     "execution_count": 30,
     "metadata": {},
     "output_type": "execute_result"
    }
   ],
   "source": [
    "[len(orb) for orb in orbits_of_bitangents(S3_Quartic,G9)]"
   ]
  },
  {
   "cell_type": "markdown",
   "metadata": {},
   "source": [
    "It suffices to see if these three orbits with isotropy $C_2$ are in equivariant bijection, and indeed they are:"
   ]
  },
  {
   "cell_type": "code",
   "execution_count": 31,
   "metadata": {},
   "outputs": [
    {
     "name": "stdout",
     "output_type": "stream",
     "text": [
      "true\n",
      "true\n"
     ]
    }
   ],
   "source": [
    "G9_C2_isotropy_1 = isotropy(orbits_of_bitangents(S3_Quartic,G9)[2],G9)\n",
    "G9_C2_isotropy_2 = isotropy(orbits_of_bitangents(S3_Quartic,G9)[5],G9)\n",
    "G9_C2_isotropy_3 = isotropy(orbits_of_bitangents(S3_Quartic,G9)[6],G9)\n",
    "print(are_conjugate_subgps(G9,G9_C2_isotropy_1,G9_C2_isotropy_2))\n",
    "print(are_conjugate_subgps(G9,G9_C2_isotropy_1,G9_C2_isotropy_3))"
   ]
  },
  {
   "cell_type": "markdown",
   "metadata": {},
   "source": [
    "Altogether we have\n",
    "$$3[S_3/e] + 3[S_3/C_2] + [S_3/S_3].$$"
   ]
  },
  {
   "cell_type": "markdown",
   "metadata": {},
   "source": [
    "# Type X: The $K_4$ quartic<a name=\"K4\"></a>\n",
    "We have a 3D family of $K_4$-symmetric quartics, given by $$X^4 + Y^4 + Z^4 + aX^2 Y^2 + bY^2Z^2 + c Z^2 X^2$$\n",
    "We pick the special values $(a,b,c) = (-9,-3,-8)$ to compute the bitangents"
   ]
  },
  {
   "cell_type": "code",
   "execution_count": 32,
   "metadata": {},
   "outputs": [
    {
     "data": {
      "text/plain": [
       "[2, 2, 4, 4, 4, 4, 2, 2, 2, 2]"
      ]
     },
     "execution_count": 32,
     "metadata": {},
     "output_type": "execute_result"
    }
   ],
   "source": [
    "K4_Quartic = x^4 + y^4 + z^4 -9*x^2*y^2 - 3*y^2*z^2 - 8*x^2*z^2\n",
    "\n",
    "G10gen1 = matrix([\n",
    "    [-1,0,0],\n",
    "    [0,1,0],\n",
    "    [0,0,1]\n",
    "])\n",
    "G10gen2 = matrix([\n",
    "    [1,0,0],\n",
    "    [0,-1,0],\n",
    "    [0,0,1]\n",
    "])\n",
    "G10 = MatrixGroup([G10gen1,G10gen2])\n",
    "\n",
    "[len(orb) for orb in orbits_of_bitangents(K4_Quartic,G10)]"
   ]
  },
  {
   "cell_type": "markdown",
   "metadata": {},
   "source": [
    "We get four transitive orbits of the form $[K_4/e]$, and six orbits with isotropy $C_2$. There are three non-conjugate copies of $C_2$ living in $K_4$, and we can verify each of them appears twice (computation omitted, follows via analogous methods to the previous case). Labeling these with an $L$, $R$, and $\\Delta$ (left, right, diagonal), we get that the bitangents decompose as\n",
    "$$4[K_4/e] + 2[K_4/C_2^L] + 2[K_4/C_2^R] + 2[K_4/C_2^\\Delta].$$"
   ]
  },
  {
   "cell_type": "markdown",
   "metadata": {},
   "source": [
    "# Type XI: The $C_3$ quartic<a name=\"C3\"></a>\n",
    "We have a 3D family of $C_3$-symmetric quartics given by the equations:\n",
    "$$x(x-y)(x-ay)(x-by) + yz^3.$$\n",
    "We pick the special values $a=2$ and $b=3$ to compute bitangents. We only need to know sizes of orbits to determine them:"
   ]
  },
  {
   "cell_type": "code",
   "execution_count": 33,
   "metadata": {},
   "outputs": [
    {
     "data": {
      "text/plain": [
       "[3, 3, 3, 3, 3, 3, 3, 3, 3, 1]"
      ]
     },
     "execution_count": 33,
     "metadata": {},
     "output_type": "execute_result"
    }
   ],
   "source": [
    "C3_Quartic = z^3*y + x*(x-y)*(x-2*y)*(x-3*y)\n",
    "\n",
    "G11 = MatrixGroup([\n",
    "    matrix([\n",
    "        [1,0,0],\n",
    "        [0,1,0],\n",
    "        [0,0,E(3)]\n",
    "    ])\n",
    "])\n",
    "\n",
    "[len(orb) for orb in orbits_of_bitangents(C3_Quartic,G11)]"
   ]
  },
  {
   "cell_type": "markdown",
   "metadata": {},
   "source": [
    "So we get that the bitangents decompose as\n",
    "$$9[C_3/e] + [C_3/C_3].$$"
   ]
  },
  {
   "cell_type": "markdown",
   "metadata": {},
   "source": [
    "# Type XII: The $C_2$ quartic\n",
    "Finally we have a 4D family of $C_2$-symmetric quartics, given by the equations\n",
    "$$x^4 + x^2 L_2 + L_4,$$\n",
    "where $L_n$ is any binary form of degree $n$ in $y$ and $z$. Here the $C_2$-action comes from sending $x\\mapsto -x$. We can easily see the action on bitangents by swapping signs, so we don't need the full power of our code, but we use it anyways. We pick the special values\n",
    "$$L_2 = -y^2 - 4z^2\\quad \\text{ and } \\quad L_4 = y^4 - y^2 z^2 - z^4$$"
   ]
  },
  {
   "cell_type": "code",
   "execution_count": 34,
   "metadata": {},
   "outputs": [
    {
     "data": {
      "text/plain": [
       "[[y + (-2.2948)*z],\n",
       " [y + 2.2948*z],\n",
       " [y + (-1.1252*I)*z],\n",
       " [y + 1.1252*I*z],\n",
       " [x + (0.9682 + 0.25*I)*y + (-0.9937 - 0.4872*I)*z,\n",
       "  x + (-0.9682 - 0.25*I)*y + (0.9937 + 0.4872*I)*z],\n",
       " [x + (0.9682 - 0.25*I)*y + (-0.9937 + 0.4872*I)*z,\n",
       "  x + (-0.9682 + 0.25*I)*y + (0.9937 - 0.4872*I)*z],\n",
       " [x + (-0.7906 - 0.6124*I)*y + (-0.3978 + 0.8113*I)*z,\n",
       "  x + (0.7906 + 0.6124*I)*y + (0.3978 - 0.8113*I)*z],\n",
       " [x + (-0.7906 + 0.6124*I)*y + (-0.3978 - 0.8113*I)*z,\n",
       "  x + (0.7906 - 0.6124*I)*y + (0.3978 + 0.8113*I)*z],\n",
       " [x + (0.7906 - 0.6124*I)*y + (-0.3978 - 0.8113*I)*z,\n",
       "  x + (-0.7906 + 0.6124*I)*y + (0.3978 + 0.8113*I)*z],\n",
       " [x + (0.7906 + 0.6124*I)*y + (-0.3978 + 0.8113*I)*z,\n",
       "  x + (-0.7906 - 0.6124*I)*y + (0.3978 - 0.8113*I)*z],\n",
       " [x + (-0.9682 - 0.25*I)*y + (-0.9937 - 0.4872*I)*z,\n",
       "  x + (0.9682 + 0.25*I)*y + (0.9937 + 0.4872*I)*z],\n",
       " [x + (-0.9682 + 0.25*I)*y + (-0.9937 + 0.4872*I)*z,\n",
       "  x + (0.9682 - 0.25*I)*y + (0.9937 - 0.4872*I)*z],\n",
       " [x + (-2.5032)*z, x + 2.5032*z],\n",
       " [x + (-0.5157*I)*z, x + 0.5157*I*z],\n",
       " [x + (-0.4472 - 0.5477*I)*y, x + (0.4472 + 0.5477*I)*y],\n",
       " [x + (-0.4472 + 0.5477*I)*y, x + (0.4472 - 0.5477*I)*y]]"
      ]
     },
     "execution_count": 34,
     "metadata": {},
     "output_type": "execute_result"
    }
   ],
   "source": [
    "L2 = -y^2 - 4*z^2\n",
    "L4 = y^4 - y^2*z^2 - z^4\n",
    "C2_Quartic = x^4 + x^2*L2 + L4\n",
    "\n",
    "G12 = MatrixGroup([\n",
    "    matrix([\n",
    "        [-1,0,0],\n",
    "        [0,1,0],\n",
    "        [0,0,1]\n",
    "    ])\n",
    "])\n",
    "[len(orb) for orb in orbits_of_bitangents(C2_Quartic,G12)]\n",
    "\n",
    "orbits_of_bitangents(C2_Quartic,G12)"
   ]
  },
  {
   "cell_type": "markdown",
   "metadata": {},
   "source": [
    "Hence we have four fixed bitangents (these are horizontal lines on the $z=1$ affine patch), and the rest come in pairs:\n",
    "$$12[C_2/e] + 4[C_2/C_2].$$"
   ]
  },
  {
   "cell_type": "markdown",
   "metadata": {},
   "source": [
    "## Appendix: Type III in detail\n",
    "Recall we are considering the Type III quartic\n",
    "$$x^4 + y^4 + z^4 + (4\\rho+2)x^2y^2,$$\n",
    "where $\\rho$ is a primitive 3rd root of unity. We would like to compute equations for its bitangents, however since $\\rho\\notin\\mathbb{Q}$, we must modify the function `compute_bitangents`. To that end we include the following modified method:"
   ]
  },
  {
   "cell_type": "code",
   "execution_count": 35,
   "metadata": {},
   "outputs": [
    {
     "name": "stdout",
     "output_type": "stream",
     "text": [
      "a^4+(-4*zeta3-2)*a^2*b^2+b^4+4,\n",
      "3*a^3*b^3+(2*zeta3+1)*a*b^5+(4*zeta3+2)*a*b,\n",
      "7*a^2*b^5+(2*zeta3+1)*b^7+2*a^2*b+(8*zeta3+4)*b^3,\n",
      "2*a*b^7+(2*zeta3+1)*a^3*b+a*b^3,\n",
      "2*b^9-5*a^4*b+(-6*zeta3-3)*a^2*b^3+10*b^5+8*b\n"
     ]
    }
   ],
   "source": [
    "def compute_bitangents_ideal_Q3(f):\n",
    "    F=CyclotomicField(3); T.<x,y,z>=PolynomialRing(F)\n",
    "    # Check whether the quartic is smooth\n",
    "    # Grad=ideal(f,diff(f,x),diff(f,y),diff(f,z))\n",
    "    # if not Grad.dimension()==0:\n",
    "    #     sys.exit(\"Quartic is not smooth!\")\n",
    "    f = T(f)\n",
    "    R.<x,y,z,a,b,a0,a1,a2,a3,a4>=PolynomialRing(F)\n",
    "    f0=f.base_extend(R)\n",
    "    S.<a,b>=PolynomialRing(F)\n",
    "    digits=50\n",
    "    threshold=0.000000000001\n",
    "    almostzero=threshold\n",
    "\n",
    "    # Make a formal line\n",
    "    Line= a*x+b*y+z;\n",
    "    \n",
    "    puresquare=ideal(a0*a3^2-a1^2*a4,8*a0^2*a3-4*a0*a1*a2+a1^3,8*a1*a4^2-4*a2*a3*a4+a3^3,8*a0*a1*a4-4*a0*a2*a3+a1^2*a3,8*a0*a3*a4-4*a1*a2*a4+a1*a3^2,16*a0^2*a4+2*a0*a1*a3-4*a0*a2^2+a1^2*a2,16*a0*a4^2+2*a1*a3*a4-4*a2^2*a4+a2*a3^2);\n",
    "    Res=f0.resultant(Line,z)    \n",
    "    Res=Res.subs(y=1)    \n",
    "    phi=hom(R,S,[0,0,0,a,b,Res.coefficient({x:0}),Res.coefficient({x:1}),Res.coefficient({x:2}),Res.coefficient({x:3}),Res.coefficient({x:4})])\n",
    "    bit1 = phi(puresquare)    \n",
    "    \n",
    "    I_ideal=singular.groebner(singular(bit1))\n",
    "    return I_ideal\n",
    "\n",
    "Dolg = x^4 + y^4 + z^4 + 2*sqrt(-3)*(x^2)*(y^2)\n",
    "F=CyclotomicField(12); T.<x,y,z>=PolynomialRing(F)\n",
    "\n",
    "# Grad = ideal(Dolg,diff(Dolg,x),diff(Dolg,y),diff(Dolg,z))\n",
    "Iideal = compute_bitangents_ideal_Q3(Dolg);Iideal\n",
    "print(Iideal)"
   ]
  },
  {
   "cell_type": "markdown",
   "metadata": {},
   "source": [
    "This gives us an ideal in a polynomial ring over $\\mathbb{Q}(\\zeta_3)$ that we wish to solve -- the solutions will be bitangents of the form $ax+by+z=0$."
   ]
  },
  {
   "cell_type": "code",
   "execution_count": 36,
   "metadata": {},
   "outputs": [
    {
     "data": {
      "text/plain": [
       "[[a == -1/2*I*sqrt(3) - 1/2, b == -1/2*I*sqrt(3) - 1/2],\n",
       " [a == 1/2*I*sqrt(3) + 1/2, b == -1/2*I*sqrt(3) - 1/2],\n",
       " [a == -1/2*sqrt(3) - 1/2*I, b == 1/2*I*sqrt(3) - 1/2],\n",
       " [a == 1/2*sqrt(3) + 1/2*I, b == 1/2*I*sqrt(3) - 1/2],\n",
       " [a == -1/2*sqrt(3) - 1/2*I, b == -1/2*I*sqrt(3) + 1/2],\n",
       " [a == 1/2*sqrt(3) + 1/2*I, b == -1/2*I*sqrt(3) + 1/2],\n",
       " [a == -1/2*I*sqrt(3) - 1/2, b == 1/2*I*sqrt(3) + 1/2],\n",
       " [a == 1/2*I*sqrt(3) + 1/2, b == 1/2*I*sqrt(3) + 1/2],\n",
       " [a == 1/2*I*sqrt(3) - 1/2, b == -1/2*sqrt(3) - 1/2*I],\n",
       " [a == -1/2*I*sqrt(3) + 1/2, b == -1/2*sqrt(3) - 1/2*I],\n",
       " [a == 1/2*I*sqrt(3) - 1/2, b == 1/2*sqrt(3) + 1/2*I],\n",
       " [a == -1/2*I*sqrt(3) + 1/2, b == 1/2*sqrt(3) + 1/2*I],\n",
       " [a == -1/2*sqrt(3) + 1/2*I, b == -1/2*sqrt(3) + 1/2*I],\n",
       " [a == 1/2*sqrt(3) - 1/2*I, b == -1/2*sqrt(3) + 1/2*I],\n",
       " [a == -1/2*sqrt(3) + 1/2*I, b == 1/2*sqrt(3) - 1/2*I],\n",
       " [a == 1/2*sqrt(3) - 1/2*I, b == 1/2*sqrt(3) - 1/2*I],\n",
       " [a == 0, b == (-I + 1)],\n",
       " [a == 0, b == (I + 1)],\n",
       " [a == 0, b == (-I - 1)],\n",
       " [a == 0, b == (I - 1)],\n",
       " [a == (-I + 1), b == 0],\n",
       " [a == (I + 1), b == 0],\n",
       " [a == (-I - 1), b == 0],\n",
       " [a == (I - 1), b == 0]]"
      ]
     },
     "execution_count": 36,
     "metadata": {},
     "output_type": "execute_result"
    }
   ],
   "source": [
    "# Grad.dimension()\n",
    "# cyc\n",
    "\n",
    "R.<a,b> =PolynomialRing(CC)\n",
    "rho = exp(2*pi*i/3)\n",
    "a,b = var('a b')\n",
    "f0 = a^4+(-4*rho-2)*a^2*b^2+b^4+4\n",
    "f1 = 3*a^3*b^3+(2*rho+1)*a*b^5+(4*rho+2)*a*b\n",
    "f2 = 7*a^2*b^5+(2*rho+1)*b^7+2*a^2*b+(8*rho+4)*b^3\n",
    "f3 = 2*a*b^7+(2*rho+1)*a^3*b+a*b^3\n",
    "f4 = 2*b^9-5*a^4*b+(-6*rho-3)*a^2*b^3+10*b^5+8*b\n",
    "\n",
    "\n",
    "candidates = solve([f1==0,f2==0,f3==0,f0==0,f4==0],a,b); candidates"
   ]
  },
  {
   "cell_type": "markdown",
   "metadata": {},
   "source": [
    "This gives us 24 bitangents. To obtain the other 4, we need to consider the case where $z=0$. Altogether we get the following"
   ]
  },
  {
   "cell_type": "code",
   "execution_count": 37,
   "metadata": {},
   "outputs": [],
   "source": [
    "QuarticIIIBis = [x + (-0.50000084 + 0.50000314*I)*z,\n",
    "x + (-0.50000314 - 0.50000084*I)*z,\n",
    "x - y + (0.500000000000000 - 0.866030000000000*I)*z,\n",
    "x - y + (-0.500000000000000 + 0.866030000000000*I)*z,\n",
    "x - y + (-0.866030000000000 - 0.500000000000000*I)*z,\n",
    "x - y + (0.866030000000000 + 0.500000000000000*I)*z,\n",
    "x + (0.50000314 + 0.50000084*I)*z,\n",
    "x + (0.50000084 - 0.50000314*I)*z,\n",
    "y + (0.50000314 + 0.50000084*I)*z,\n",
    "y + (-0.50000084 + 0.50000314*I)*z,\n",
    "y + (0.50000084 - 0.50000314*I)*z,\n",
    "y + (-0.50000314 - 0.50000084*I)*z,\n",
    "x + 1.00000000000000*I*y + (0.500000000000000 + 0.866030000000000*I)*z,\n",
    "x + 1.00000000000000*I*y + (0.866030000000000 - 0.500000000000000*I)*z,\n",
    "x + 1.00000000000000*I*y + (-0.866030000000000 + 0.500000000000000*I)*z,\n",
    "x + 1.00000000000000*I*y + (-0.500000000000000 - 0.866030000000000*I)*z,\n",
    "x + (-1.00000000000000*I)*y + (0.500000000000000 + 0.866030000000000*I)*z,\n",
    "x + (-1.00000000000000*I)*y + (0.866030000000000 - 0.500000000000000*I)*z,\n",
    "x + (-1.00000000000000*I)*y + (-0.866030000000000 + 0.500000000000000*I)*z,\n",
    "x + (-1.00000000000000*I)*y + (-0.500000000000000 - 0.866030000000000*I)*z,\n",
    "x + y + (0.500000000000000 - 0.866030000000000*I)*z,\n",
    "x + y + (-0.866030000000000 - 0.500000000000000*I)*z,\n",
    "x + y + (-0.500000000000000 + 0.866030000000000*I)*z,\n",
    "x + y + (0.866030000000000 + 0.500000000000000*I)*z,\n",
    "x + (-0.36602540 - 0.36602540*I)*y,\n",
    "x + (0.36602540 + 0.36602540*I)*y,\n",
    "x + (-1.3660254 + 1.3660254*I)*y,\n",
    "x + (1.3660254 - 1.3660254*I)*y]"
   ]
  },
  {
   "cell_type": "markdown",
   "metadata": {},
   "source": [
    "We can now work through the action of the automorphism group explicitly on these bitangents to compute the decomposition (omitted, can add if requested)."
   ]
  }
 ],
 "metadata": {
  "kernelspec": {
   "display_name": "SageMath 10.6",
   "language": "sage",
   "name": "sagemath-10.6"
  },
  "language_info": {
   "codemirror_mode": {
    "name": "ipython",
    "version": 3
   },
   "file_extension": ".py",
   "mimetype": "text/x-python",
   "name": "python",
   "nbconvert_exporter": "python",
   "pygments_lexer": "ipython3",
   "version": "3.12.5"
  }
 },
 "nbformat": 4,
 "nbformat_minor": 4
}
