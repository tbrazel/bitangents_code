{
 "cells": [
  {
   "cell_type": "markdown",
   "metadata": {},
   "source": [
    "# Orbits of bitangents on symmetric quartics\n",
    "\n",
    "## Table of contents\n",
    "1. [Introduction](#introduction)\n",
    "2. [Functions](#functions)\n",
    "3. [Type I: The Klein ($\\text{PSL}_2(7)$) quartic](#klein)\n",
    "4. [Type II: The Clebsch](#fermat)\n",
    "5. [Type III: The (48,33) quartic](#type3)\n",
    "6. [Type IV: The $S_4$ quartic](#S4)\n",
    "7. [Type V: The (16,13) quartic](#1613)\n",
    "8. [Type VI: The $C_9$ quartic](#C9)\n",
    "9. [Type VII: The $D_8$ quartic](#D8)\n",
    "10. [Type IX: The $S_3$ quartic](#S3)\n",
    "11. [Type X: The $K_4$ quartic](#K4)\n",
    "12. [Type XI: The $C_3$ quartic](#C3)\n",
    "13. [Type XII: The $C_2$ quartic](#C2)"
   ]
  },
  {
   "cell_type": "markdown",
   "metadata": {},
   "source": [
    "# Introduction<a name=\"introduction\"></a>\n",
    "The following code is taken from [Vinzant's webpage](http://sites.math.washington.edu/~vinzant/research/quartics/quartictype.sage) from [her research on quartics](http://sites.math.washington.edu/~vinzant/research/quartics.html) with Plaumann and Sturmfels. It inputs a quartic polynomial and outputs (among other things) equations for its tritangents."
   ]
  },
  {
   "cell_type": "code",
   "execution_count": 1,
   "metadata": {},
   "outputs": [],
   "source": [
    "%run Automorphism_Groups.ipynb"
   ]
  },
  {
   "cell_type": "markdown",
   "metadata": {
    "jp-MarkdownHeadingCollapsed": true
   },
   "source": [
    "# Functions<a name=\"functions\"></a>"
   ]
  },
  {
   "cell_type": "code",
   "execution_count": 2,
   "metadata": {},
   "outputs": [],
   "source": [
    "F=QQ; T.<x,y,z>=PolynomialRing(F,order='degrevlex')\n",
    "\n",
    "# The following function inputs a homogeneous quartic in QQ[x,y,z],\n",
    "# and outputs the 28 bitangents\n",
    "def compute_bitangents(f):\n",
    "    F=QQ; T.<x,y,z>=PolynomialRing(F)\n",
    "    \n",
    "    # Check whether the quartic is smooth\n",
    "    Grad=ideal(f,diff(f,x),diff(f,y),diff(f,z))\n",
    "    if not Grad.dimension()==0:\n",
    "        sys.exit(\"Quartic is not smooth!\")\n",
    "\n",
    "    # Create a new polynomial ring with variables a,b (for the bitangent) and a0,..,a4 (TODO)\n",
    "    R.<x,y,z,a,b,a0,a1,a2,a3,a4>=PolynomialRing(F)\n",
    "    f0=f.base_extend(R)\n",
    "    S.<a,b>=PolynomialRing(F)\n",
    "    digits=50\n",
    "    threshold=0.000000000001\n",
    "    almostzero=threshold\n",
    "\n",
    "    # Take an abstract line with equation ax+by+z\n",
    "    Line= a*x+b*y+z;\n",
    "    puresquare=ideal(a0*a3^2-a1^2*a4,8*a0^2*a3-4*a0*a1*a2+a1^3,8*a1*a4^2-4*a2*a3*a4+a3^3,8*a0*a1*a4-4*a0*a2*a3+a1^2*a3,8*a0*a3*a4-4*a1*a2*a4+a1*a3^2,16*a0^2*a4+2*a0*a1*a3-4*a0*a2^2+a1^2*a2,16*a0*a4^2+2*a1*a3*a4-4*a2^2*a4+a2*a3^2);\n",
    "\n",
    "    # Consider the resultant of the equation of the line with respect to z.\n",
    "    Res=f0.resultant(Line,z)    \n",
    "    Res=Res.subs(y=1)    \n",
    "    phi=hom(R,S,[0,0,0,a,b,Res.coefficient({x:0}),Res.coefficient({x:1}),Res.coefficient({x:2}),Res.coefficient({x:3}),Res.coefficient({x:4})])\n",
    "    \n",
    "    bit1 = phi(puresquare)     \n",
    "    \n",
    "    I_ideal=singular.groebner(singular(bit1))\n",
    "    singular.lib('solve.lib')\n",
    "    VRing=singular.solve(I_ideal,digits)\n",
    "    singular.set_ring(VRing)\n",
    "    B1=singular(\"SOL\")\n",
    "    \n",
    "    nreal1=0\n",
    "    Bitangents=[]\n",
    "    RealBitangents=[]\n",
    "    for k in [1..len(B1)]:\n",
    "        real=0;\n",
    "        if ((B1[k][1].impart()).absValue()<threshold) and ((B1[k][2].impart()).absValue()<threshold): \n",
    "            real=1\n",
    "            RealBitangents=RealBitangents+[(float(B1[k][1].repart())+float(B1[k][1].impart())*i)*x+(float(B1[k][2].repart())+float(B1[k][2].impart())*i)*y+z]\n",
    "        nreal1=nreal1+real\n",
    "        Bitangents=Bitangents+[(float(B1[k][1].repart())+float(B1[k][1].impart())*i)*x+(float(B1[k][2].repart())+float(B1[k][2].impart())*i)*y+z]\n",
    "    Line=a*x+y     \n",
    "    Res=f0.resultant(Line,y)    \n",
    "    Res=Res.subs(z=1)   \n",
    "    phi=hom(R,S,[0,0,0,a,0,Res.coefficient({x:0}),Res.coefficient({x:1}),Res.coefficient({x:2}),Res.coefficient({x:3}),Res.coefficient({x:4})])  \n",
    "    bit2=phi(puresquare)+ideal(b)\n",
    "    \n",
    "    if dimension(bit2)==-1: nreal2=0\n",
    "    else: \n",
    "          I_ideal=singular.groebner(singular(bit2))\n",
    "          singular.lib('solve.lib')\n",
    "          VRing=singular.solve(I_ideal,digits)\n",
    "          singular.set_ring(VRing)\n",
    "          B2=singular(\"SOL\")\n",
    "          nreal2=0\n",
    "          for k in [1..len(B2)]:\n",
    "                real=0\n",
    "                if ((B2[k][1].impart()).absValue()<threshold) and ((B2[k][2].impart()).absValue()<threshold):\n",
    "                    real=1\n",
    "                    RealBitangents=RealBitangents+[(float(B2[k][1].repart())+float(B2[k][1].impart())*i)*x+y]\n",
    "                nreal2=nreal2+real  \n",
    "                Bitangents=Bitangents+[(float(B2[k][1].repart())+float(B2[k][1].impart())*i)*x+y]\n",
    "    \n",
    "    Res=f0.resultant(x)\n",
    "    Res=Res.subs(z=1)\n",
    "    phi=hom(R,F,[0,0,0,0,0,Res.coefficient({y:0}),Res.coefficient({y:1}),Res.coefficient({y:2}),Res.coefficient({y:3}),Res.coefficient({y:4})])  \n",
    "    bit3=phi(puresquare)\n",
    "    if bit3==ideal(0):\n",
    "        nreal3=1\n",
    "        Bitangents=Bitangents+[x]\n",
    "        RealBitangents=RealBitangents+[x]\n",
    "    else: nreal3=0\n",
    "    \n",
    "    NRealBit=nreal1+nreal2+nreal3\n",
    "    if len(Bitangents)!=28:\n",
    "        return OSError(\"Something has gone wrong. We found \"+str(len(Bitangents))+\" bitangents\")\n",
    "    # print(\"The quartic has 28 bitangets, stored in 'Bitangents', and \"+str(NRealBit)+\" real bitangents, stored in 'RealBitangents'.\")\n",
    "    \n",
    "    return Bitangents"
   ]
  },
  {
   "cell_type": "code",
   "execution_count": 3,
   "metadata": {
    "collapsed": false,
    "jupyter": {
     "outputs_hidden": false
    }
   },
   "outputs": [],
   "source": [
    "from sage.symbolic.expression_conversions import polynomial\n",
    "\n",
    "# Round complex numbers\n",
    "def round_cx(z0,n):\n",
    "    return float(round(z0.real(),n)) + float(round(z0.imag(),n))*I\n",
    "\n",
    "# The following inputs a line ax+by+cz and outputs the tuple of coefficients [a,b,c]\n",
    "# Note that line.coefficients() has errors, in that a line line 3y+2z will output [3,2] rather than [0,3,2] which is what we want\n",
    "def line_to_coeffs(bitangent):\n",
    "    return [CC(bitangent.coefficient({x:1})), CC(bitangent.coefficient({y:1})),CC(bitangent.coefficient({z:1}))]\n",
    "\n",
    "# Turn a list of three coefficients [a,b,c] into the polynomial ax+by+cz=0\n",
    "def coeffs_to_line(list_of_coeffs):\n",
    "    return x*list_of_coeffs[0] + y*list_of_coeffs[1] + z*list_of_coeffs[2]\n",
    "\n",
    "# Provide a normalized version of the bitangent -- old (working) version\n",
    "# def normalize(bitangent):\n",
    "#     b = bitangent.change_ring(ComplexField(30))\n",
    "#     if b.coefficients()[0] != 0:\n",
    "#         c = b*(1/b.coefficients()[0])\n",
    "#         if len(c.coefficients())==3:\n",
    "#             new_coeffs = [round_cx(a,5) for a in c.coefficients()]\n",
    "#             c = new_coeffs[0]*x + new_coeffs[1]*y + new_coeffs[2]*z\n",
    "#         return c\n",
    "#     return b\n",
    "\n",
    "\n",
    "\n",
    "# Provide a normalized version of the bitangent\n",
    "def normalize(bitangent):\n",
    "    # Base change to CC\n",
    "    b = bitangent.change_ring(ComplexField(30))\n",
    "\n",
    "    # If the x-coordinate is nonzero mod out by it\n",
    "    if line_to_coeffs(b)[0] != 0:\n",
    "        c = b*(1/line_to_coeffs(b)[0])\n",
    "    # Else mod out by the y-coordinate\n",
    "    elif line_to_coeffs(b)[1] != 0:\n",
    "        c = b*(1/line_to_coeffs(b)[1])\n",
    "    # Or the z-coordinate\n",
    "    else:\n",
    "        c = b*(1/line_to_coeffs(b)[2])\n",
    "    \n",
    "    # Round the output coordinates and return a new line\n",
    "    new_coeffs = [round_cx(a,4) for a in line_to_coeffs(c)]\n",
    "    return coeffs_to_line(new_coeffs)\n",
    "\n",
    "\n",
    "def compute_normalized_bitangents(f):\n",
    "    return [normalize(b) for b in compute_bitangents(f)]\n",
    "\n",
    "# Apply a matrix M to a line B = {ax+by+cy=0}\n",
    "def gp_action(M,B):\n",
    "    vec = matrix([[B.coefficient({x:1})],[B.coefficient({y:1})],[B.coefficient({z:1})]])\n",
    "    output_mat = (M*vec).transpose()\n",
    "    w = list(list(output_mat)[0])\n",
    "    outputline = w[0]*x + w[1]*y + w[2]*z\n",
    "    return normalize(outputline)\n",
    "\n",
    "def extract_orbit(Bitangents,list_of_indices):\n",
    "    orbit = [Bitangents[j] for j in list_of_indices]\n",
    "    remaining_Bitangents = [b for b in Bitangents if b not in orbit]\n",
    "    return orbit,remaining_Bitangents"
   ]
  },
  {
   "cell_type": "markdown",
   "metadata": {},
   "source": [
    "We write some functions to make the equations of bitangents more readable and act on them via a subgroup $G\\le \\text{PGL}_3(\\mathbb{C})$."
   ]
  },
  {
   "cell_type": "code",
   "execution_count": 4,
   "metadata": {},
   "outputs": [],
   "source": [
    "# We also add some commands we'll use throughout\n",
    "def matrix_to_list(M):\n",
    "    return [list(r) for r in M.rows()]"
   ]
  },
  {
   "cell_type": "code",
   "execution_count": 5,
   "metadata": {},
   "outputs": [],
   "source": [
    "# Generates a candidate list of the orbit of an input bitangent under a list of group elements\n",
    "def candidate_orbit(bitangent,list_of_gp_elements):\n",
    "    output_list = [bitangent]\n",
    "    isotropy_gens = []\n",
    "    for M in list_of_gp_elements:\n",
    "        output_list.append(gp_action(M,bitangent))\n",
    "        if gp_action(M,bitangent) == bitangent:\n",
    "            isotropy_gens.append(M)\n",
    "    for line in output_list:\n",
    "        print(line)\n",
    "    print('I think isotropy is generated by:\\n')\n",
    "    for isotropy_elt in isotropy_gens:\n",
    "        print(isotropy_elt)"
   ]
  },
  {
   "cell_type": "code",
   "execution_count": 6,
   "metadata": {},
   "outputs": [],
   "source": [
    "def investigate_orbit(bitangent,group_dictionary):\n",
    "    output_list = [bitangent]\n",
    "    isotropy_gens = []\n",
    "    # Iterate over the group\n",
    "    for g in group_dictionary.keys():        \n",
    "        output_list.append(gp_action(group_dictionary[g],bitangent))\n",
    "        if gp_action(group_dictionary[g],bitangent) == bitangent:\n",
    "            isotropy_gens.append(g)\n",
    "    for line in set(output_list):\n",
    "        print(line)\n",
    "    print('I think isotropy is generated by:\\n')\n",
    "    for isotropy_elt in isotropy_gens:\n",
    "        print(isotropy_elt)"
   ]
  },
  {
   "cell_type": "code",
   "execution_count": 7,
   "metadata": {},
   "outputs": [],
   "source": [
    "def trim(bitangent):\n",
    "    x_coeff = CC(bitangent.coefficient({x:1}));\n",
    "    y_coeff = CC(bitangent.coefficient({y:1}));\n",
    "    z_coeff = CC(bitangent.coefficient({z:1}));\n",
    "    return round_cx(x_coeff,3)*x + round_cx(y_coeff,3)*y + round_cx(z_coeff,3)*z\n",
    "\n",
    "def investigate_orbit_Klein(bitangent,group_dictionary):\n",
    "    output_list = [bitangent]\n",
    "    isotropy_gens = []\n",
    "    # Iterate over the group\n",
    "    for g in group_dictionary.keys():        \n",
    "        output_list.append(trim(gp_action(group_dictionary[g],bitangent)))\n",
    "        if trim(gp_action(group_dictionary[g],bitangent)) == trim(bitangent):\n",
    "            isotropy_gens.append([g,group_dictionary[g]])\n",
    "\n",
    "    # Output the orbits\n",
    "    for line in set(output_list):\n",
    "        print(line)\n",
    "\n",
    "    # Output the isotropy\n",
    "    print('I think isotropy is generated by:\\n')\n",
    "    for isotropy_elt in isotropy_gens:\n",
    "        print(isotropy_elt)"
   ]
  },
  {
   "cell_type": "code",
   "execution_count": 8,
   "metadata": {},
   "outputs": [],
   "source": [
    "############\n",
    "\n",
    "def investigate_orbit_V(bitangent,group_dictionary):\n",
    "    output_list = [bitangent]\n",
    "    isotropy_gens = []\n",
    "    # Iterate over the group\n",
    "    for g in group_dictionary.keys():        \n",
    "        output_list.append(gp_action(group_dictionary[g],bitangent))\n",
    "        if gp_action(group_dictionary[g],bitangent) == bitangent:\n",
    "            isotropy_gens.append([g,group_dictionary[g]])\n",
    "\n",
    "    # Output the orbits\n",
    "    for line in set(output_list):\n",
    "        print(line)\n",
    "\n",
    "    # Output the isotropy\n",
    "    print('I think isotropy is generated by:\\n')\n",
    "    for isotropy_elt in isotropy_gens:\n",
    "        print(isotropy_elt)\n",
    "        # list_version = matrix_to_list(isotropy_elt)\n",
    "        # # print(list_version)\n",
    "        # output_list = []\n",
    "        # for row in list_version:\n",
    "        #     new_row = []\n",
    "        #     for j in row:\n",
    "        #         # every entry in the matx representation is either totally real or totally imaginary\n",
    "        #         if j.real != 0:\n",
    "        #             new_row.append(int(j.real()))\n",
    "        #         elif j.imag != 0:\n",
    "        #             new_row.append(int(j.imag())*I)\n",
    "        #         else:\n",
    "        #             print('error')\n",
    "        #     output_list.append(new_row)\n",
    "        # print(str(output_list) + ',')\n",
    "\n",
    "# def investigate_orbit2(bitangent,group_dictionary):\n",
    "#     output_list = [bitangent]\n",
    "#     isotropy_gens = []\n",
    "#     # Iterate over the group\n",
    "#     for g in group_dictionary.keys():        \n",
    "#         output_list.append(gp_action(group_dictionary[g],bitangent))\n",
    "#         if gp_action(group_dictionary[g],bitangent) == bitangent:\n",
    "#             isotropy_gens.append(group_dictionary[g])\n",
    "#     for line in set(output_list):\n",
    "#         print(line)\n",
    "#     print('I think isotropy is generated by:\\n')\n",
    "#     for isotropy_elt in isotropy_gens:\n",
    "#         print(isotropy_elt)"
   ]
  },
  {
   "cell_type": "code",
   "execution_count": 9,
   "metadata": {},
   "outputs": [],
   "source": [
    "def investigate_orbit_S4(bitangent,group_dictionary):\n",
    "    output_list = [bitangent]\n",
    "    isotropy_gens = []\n",
    "    # Iterate over the group\n",
    "    for g in group_dictionary.keys():        \n",
    "        output_list.append(gp_action(group_dictionary[g],bitangent))\n",
    "        if gp_action(group_dictionary[g],bitangent) == bitangent:\n",
    "            isotropy_gens.append(group_dictionary[g])\n",
    "    for line in set(output_list):\n",
    "        print(line)\n",
    "    print('I think isotropy is generated by:\\n')\n",
    "    for isotropy_elt in isotropy_gens:\n",
    "        list_version = matrix_to_list(isotropy_elt)\n",
    "        output_list = []\n",
    "        for row in list_version:\n",
    "            new_row = []\n",
    "            for j in row:\n",
    "                new_row.append(int(j.real()))\n",
    "            output_list.append(new_row)\n",
    "        print(str(output_list) + ',')"
   ]
  },
  {
   "cell_type": "code",
   "execution_count": 10,
   "metadata": {},
   "outputs": [],
   "source": [
    "def bitan_difference(bitan1,bitan2):\n",
    "    # Take the difference in absolute value between each of the coefficients and sum these\n",
    "    return abs(CC(bitan1.coefficient({x:1})) - CC(bitan2.coefficient({x:1}))) + abs(CC(bitan1.coefficient({y:1})) - CC(bitan2.coefficient({y:1}))) + abs(CC(bitan1.coefficient({z:1})) - CC(bitan2.coefficient({z:1})))"
   ]
  },
  {
   "cell_type": "code",
   "execution_count": 11,
   "metadata": {},
   "outputs": [
    {
     "data": {
      "text/plain": [
       "0.000947213595499854"
      ]
     },
     "execution_count": 11,
     "metadata": {},
     "output_type": "execute_result"
    }
   ],
   "source": [
    "bitan1 =x + (-1.1234 - 4.9221*I)*y + (-2.9252 - 1.4087*I)*z\n",
    "bitan2 =x + (-1.1231 - 4.9225*I)*y + (-2.9254 - 1.4091*I)*z\n",
    "# bitan_difference(bitan1,bitan2)\n",
    "bitan_difference(bitan1,bitan2)"
   ]
  },
  {
   "cell_type": "code",
   "execution_count": 12,
   "metadata": {},
   "outputs": [],
   "source": [
    "def same_bitangent(bitan1,bitan2, error_rate=0.01):\n",
    "    if bitan_difference(bitan1,bitan2) < error_rate:\n",
    "        return true\n",
    "    else:\n",
    "        return false\n"
   ]
  },
  {
   "cell_type": "code",
   "execution_count": 13,
   "metadata": {},
   "outputs": [],
   "source": [
    "def investigate_orbit_NEW(bitangent,group_dictionary):\n",
    "    output_list = [bitangent]\n",
    "\n",
    "    for g in group_dictionary.keys():\n",
    "        g_bitangent = gp_action(group_dictionary[g],bitangent)\n",
    "\n",
    "        new_bitangent = True\n",
    "        for b in output_list:\n",
    "            if same_bitangent(g_bitangent,b):\n",
    "                new_bitangent = False\n",
    "\n",
    "        if new_bitangent == True:\n",
    "            output_list.append(g_bitangent)\n",
    "    return list(set(output_list))\n",
    "\n",
    "def investigate_isotropy_NEW(bitangent,group_dictionary):\n",
    "    isotropy_gens = []\n",
    "    for g in group_dictionary.keys():\n",
    "        # print(g)\n",
    "        g_bitangent = gp_action(group_dictionary[g],bitangent)\n",
    "        # print(g_bitangent)\n",
    "        if same_bitangent(g_bitangent,bitangent):\n",
    "            isotropy_gens.append(g)\n",
    "    return isotropy_gens"
   ]
  },
  {
   "cell_type": "markdown",
   "metadata": {},
   "source": [
    "We want to compute all the orbits of the bitangents for the [cubic surfaces found here](https://mat.uab.cat/~francesc/mates/autgen3.pdf).b"
   ]
  },
  {
   "cell_type": "markdown",
   "metadata": {},
   "source": [
    "TODO -- FIX EVERYTHING ABOVE HERE/RENAME FUNCTIONS/ETC"
   ]
  },
  {
   "cell_type": "markdown",
   "metadata": {
    "jp-MarkdownHeadingCollapsed": true
   },
   "source": [
    "# Type I: The Klein quartic<a name=\"klein\"></a>\n",
    "Our first quartic is the *Klein quartic*, defined by the equation\n",
    "$$x^3y + y^3z + z^3x$$\n",
    "This has the largest possible automorphism group, encoded as `PSL_dict` here.\n",
    "\n",
    "It is a classical fact that the automorphism group of the Klein quartic acts transitively on its 28 bitangents, however we can also observe this computationally. We first compute a list of all the bitangents of the Klein quartic."
   ]
  },
  {
   "cell_type": "code",
   "execution_count": 14,
   "metadata": {},
   "outputs": [
    {
     "data": {
      "text/plain": [
       "[x + 0.308*y + 1.555*z,\n",
       " x + y + z,\n",
       " x + 5.0489*y + 3.247*z,\n",
       " x + 0.6431*y + 0.1981*z,\n",
       " x + (0.401 + 0.5028*I)*y + (-0.0441 - 0.1931*I)*z,\n",
       " x + (0.401 - 0.5028*I)*y + (-0.0441 + 0.1931*I)*z,\n",
       " x + (3.1479 + 3.9474*I)*y + (-0.7225 - 3.1656*I)*z,\n",
       " x + (3.1479 - 3.9474*I)*y + (-0.7225 + 3.1656*I)*z,\n",
       " x + (0.6235 + 0.7818*I)*y + (-0.2225 - 0.9749*I)*z,\n",
       " x + (0.6235 - 0.7818*I)*y + (-0.2225 + 0.9749*I)*z,\n",
       " x + (-0.5794 + 0.279*I)*y + (0.1235 + 0.1549*I)*z,\n",
       " x + (-0.5794 - 0.279*I)*y + (0.1235 - 0.1549*I)*z,\n",
       " x + (-4.5489 + 2.1906*I)*y + (2.0245 + 2.5386*I)*z,\n",
       " x + (-4.5489 - 2.1906*I)*y + (2.0245 - 2.5386*I)*z,\n",
       " x + (-0.901 + 0.4339*I)*y + (0.6235 + 0.7818*I)*z,\n",
       " x + (-0.901 - 0.4339*I)*y + (0.6235 - 0.7818*I)*z,\n",
       " x + (0.192 + 0.2408*I)*y + (-0.346 - 1.516*I)*z,\n",
       " x + (0.192 - 0.2408*I)*y + (-0.346 + 1.516*I)*z,\n",
       " x + (-0.2775 + 0.1336*I)*y + (0.9695 + 1.2157*I)*z,\n",
       " x + (-0.2775 - 0.1336*I)*y + (0.9695 - 1.2157*I)*z,\n",
       " x + (-0.0685 - 0.3003*I)*y + (-1.401 - 0.6747*I)*z,\n",
       " x + (-0.0685 + 0.3003*I)*y + (-1.401 + 0.6747*I)*z,\n",
       " x + (-0.2225 - 0.9749*I)*y + (-0.901 - 0.4339*I)*z,\n",
       " x + (-0.2225 + 0.9749*I)*y + (-0.901 + 0.4339*I)*z,\n",
       " x + (-1.1235 - 4.9223*I)*y + (-2.9254 - 1.4088*I)*z,\n",
       " x + (-1.1235 + 4.9223*I)*y + (-2.9254 + 1.4088*I)*z,\n",
       " x + (-0.1431 - 0.627*I)*y + (-0.1784 - 0.0859*I)*z,\n",
       " x + (-0.1431 + 0.627*I)*y + (-0.1784 + 0.0859*I)*z]"
      ]
     },
     "execution_count": 14,
     "metadata": {},
     "output_type": "execute_result"
    }
   ],
   "source": [
    "Klein = x^3*y + y^3*z + z^3*x;\n",
    "Klein_Bitangents = compute_normalized_bitangents(Klein);Klein_Bitangents"
   ]
  },
  {
   "cell_type": "markdown",
   "metadata": {},
   "source": [
    "We can look at the first bitangent `Klein_Bitangents[0]`, and try to examine what its orbit is under the action of the automorphism group using our `investigate_orbit` command:"
   ]
  },
  {
   "cell_type": "code",
   "execution_count": 15,
   "metadata": {},
   "outputs": [
    {
     "data": {
      "text/plain": [
       "[x + (3.1478 + 3.9472*I)*y + (-0.7225 - 3.1654*I)*z,\n",
       " x + 0.6431*y + 0.1981*z,\n",
       " x + (-0.901 + 0.4339*I)*y + (0.6235 + 0.7818*I)*z,\n",
       " x + (-0.901 - 0.4339*I)*y + (0.6235 - 0.7819*I)*z,\n",
       " x + 5.0487*y + 3.2468*z,\n",
       " x + (3.1478 - 3.9472*I)*y + (-0.7225 + 3.1654*I)*z,\n",
       " x + (-0.2775 + 0.1336*I)*y + (0.9695 + 1.2157*I)*z,\n",
       " x + (-4.5487 + 2.1905*I)*y + (2.0243 + 2.5384*I)*z,\n",
       " x + (-0.2775 - 0.1336*I)*y + (0.9695 - 1.2157*I)*z,\n",
       " x + (-0.5794 - 0.279*I)*y + (0.1235 - 0.1549*I)*z,\n",
       " x + (-0.1431 - 0.627*I)*y + (-0.1785 - 0.0859*I)*z,\n",
       " x + (0.401 + 0.5028*I)*y + (-0.0441 - 0.1931*I)*z,\n",
       " x + (-0.1431 + 0.627*I)*y + (-0.1785 + 0.0859*I)*z,\n",
       " x + (0.401 - 0.5028*I)*y + (-0.0441 + 0.1931*I)*z,\n",
       " x + (-0.5794 + 0.279*I)*y + (0.1235 + 0.1549*I)*z,\n",
       " x + (-0.2225 - 0.9749*I)*y + (-0.901 - 0.4339*I)*z,\n",
       " x + (0.6235 + 0.7818*I)*y + (-0.2225 - 0.9749*I)*z,\n",
       " x + (-0.2226 + 0.9749*I)*y + (-0.901 + 0.4339*I)*z,\n",
       " x + (0.6235 - 0.7818*I)*y + (-0.2225 + 0.9749*I)*z,\n",
       " x + (-1.1234 - 4.9221*I)*y + (-2.9252 - 1.4087*I)*z,\n",
       " x + (-1.1234 + 4.9221*I)*y + (-2.9252 + 1.4087*I)*z,\n",
       " x + (0.192 - 0.2408*I)*y + (-0.346 + 1.516*I)*z,\n",
       " x + (-4.5487 - 2.1905*I)*y + (2.0243 - 2.5384*I)*z,\n",
       " x + (-0.0686 + 0.3002*I)*y + (-1.4009 + 0.6747*I)*z,\n",
       " x + (-0.0686 - 0.3002*I)*y + (-1.4009 - 0.6747*I)*z,\n",
       " x + 0.308*y + 1.555*z,\n",
       " x + (0.192 + 0.2408*I)*y + (-0.346 - 1.516*I)*z,\n",
       " x + y + z]"
      ]
     },
     "execution_count": 15,
     "metadata": {},
     "output_type": "execute_result"
    }
   ],
   "source": [
    "investigate_orbit_NEW(Klein_Bitangents[0],PSL_dict)"
   ]
  },
  {
   "cell_type": "markdown",
   "metadata": {},
   "source": [
    "It is clear to see that we get all 28 bitangents in the orbit of the first one under the action of $\\text{PSL}_2(7)$. It remains to ask what the isotropy group of a single bitangent is --- since the action is transitive, we should obtain an index 48 subgroup in $\\text{PSL}_2(7)$."
   ]
  },
  {
   "cell_type": "code",
   "execution_count": 16,
   "metadata": {},
   "outputs": [
    {
     "data": {
      "text/plain": [
       "['r14', 'r57', 'r122', 'r124', 'r126', 'r164']"
      ]
     },
     "execution_count": 16,
     "metadata": {},
     "output_type": "execute_result"
    }
   ],
   "source": [
    "investigate_isotropy_NEW(compute_normalized_bitangents(Klein)[0],PSL_dict)"
   ]
  },
  {
   "cell_type": "markdown",
   "metadata": {},
   "source": [
    "We can then return to GAP and verify that these matrices generate a subgroup of $\\text{PSL}_2(7)$ which is isomorphic to $S_3$. Therefore as a $\\text{PSL}_2(7)$-set, the 28 bitangents of the Klein quartic are in equivariant bijection with the left cosets $[\\text{PSL}_2(7)/S_3]$. As a sanity check, $|\\text{PSL}_2(7)| = 168$ and $|S_3| = 6$, and $168/6 = 28$."
   ]
  },
  {
   "cell_type": "markdown",
   "metadata": {
    "jp-MarkdownHeadingCollapsed": true
   },
   "source": [
    "# Type II: Fermat<a href=\"fermat\"></a>"
   ]
  },
  {
   "cell_type": "markdown",
   "metadata": {},
   "source": [
    "## (II) Bitangents"
   ]
  },
  {
   "cell_type": "code",
   "execution_count": 17,
   "metadata": {},
   "outputs": [
    {
     "data": {
      "text/plain": [
       "[y + (-0.7071 - 0.7071*I)*z,\n",
       " y + (-0.7071 + 0.7071*I)*z,\n",
       " y + (0.7071 + 0.7071*I)*z,\n",
       " y + (0.7071 - 0.7071*I)*z,\n",
       " x + y - z,\n",
       " x - y + z,\n",
       " x + 1.0*I*y + (-1.0*I)*z,\n",
       " x + (-1.0*I)*y + 1.0*I*z,\n",
       " x + (-0.7071 - 0.7071*I)*z,\n",
       " x + (-0.7071 + 0.7071*I)*z,\n",
       " x + (0.7071 + 0.7071*I)*z,\n",
       " x + (0.7071 - 0.7071*I)*z,\n",
       " x - y - z,\n",
       " x + y + z,\n",
       " x + (-1.0*I)*y + (-1.0*I)*z,\n",
       " x + 1.0*I*y + 1.0*I*z,\n",
       " x + 1.0*I*y - z,\n",
       " x + (-1.0*I)*y + z,\n",
       " x - y + (-1.0*I)*z,\n",
       " x + y + 1.0*I*z,\n",
       " x + (-1.0*I)*y - z,\n",
       " x + 1.0*I*y + z,\n",
       " x + y + (-1.0*I)*z,\n",
       " x - y + 1.0*I*z,\n",
       " x + (-0.7071 - 0.7071*I)*y,\n",
       " x + (-0.7071 + 0.7071*I)*y,\n",
       " x + (0.7071 + 0.7071*I)*y,\n",
       " x + (0.7071 - 0.7071*I)*y]"
      ]
     },
     "execution_count": 17,
     "metadata": {},
     "output_type": "execute_result"
    }
   ],
   "source": [
    "F=QQ; T.<x,y,z>=PolynomialRing(F)\n",
    "Fermat = x^4 + y^4 + z^4\n",
    "\n",
    "Fermat_Bitangents = compute_normalized_bitangents(Fermat);Fermat_Bitangents"
   ]
  },
  {
   "cell_type": "markdown",
   "metadata": {},
   "source": [
    "Again, we can look at the orbit of the first bitangent:"
   ]
  },
  {
   "cell_type": "code",
   "execution_count": 18,
   "metadata": {},
   "outputs": [
    {
     "data": {
      "text/plain": [
       "[x + (-0.7071 + 0.7071*I)*z,\n",
       " x + (-0.7071 - 0.7071*I)*z,\n",
       " y + (0.7071 - 0.7071*I)*z,\n",
       " y + (-0.7071 + 0.7071*I)*z,\n",
       " y + (-0.7071 - 0.7071*I)*z,\n",
       " y + (0.7071 + 0.7071*I)*z,\n",
       " x + (-0.7071 - 0.7071*I)*y,\n",
       " x + (0.7071 + 0.7071*I)*y,\n",
       " x + (0.7071 - 0.7071*I)*y,\n",
       " x + (-0.7071 + 0.7071*I)*y,\n",
       " x + (0.7071 - 0.7071*I)*z,\n",
       " x + (0.7071 + 0.7071*I)*z]"
      ]
     },
     "execution_count": 18,
     "metadata": {},
     "output_type": "execute_result"
    }
   ],
   "source": [
    "investigate_orbit_NEW(Fermat_Bitangents[0],Fermat_dict)"
   ]
  },
  {
   "cell_type": "markdown",
   "metadata": {},
   "source": [
    "Hence we get 12 bitangents in this orbit. In terms of the indices of the list `Fermat_Bitangents`, these are the entries `[0,1,2,3,24,25,26,27,8,9,10,11]`. Again we can investigate the isotropy:"
   ]
  },
  {
   "cell_type": "code",
   "execution_count": 19,
   "metadata": {},
   "outputs": [
    {
     "data": {
      "text/plain": [
       "['r6', 'r7', 'r72', 'r77', 'r81', 'r82', 'r91', 'r92']"
      ]
     },
     "execution_count": 19,
     "metadata": {},
     "output_type": "execute_result"
    }
   ],
   "source": [
    "investigate_isotropy_NEW(Fermat_Bitangents[0],Fermat_dict)"
   ]
  },
  {
   "cell_type": "markdown",
   "metadata": {},
   "source": [
    "Going back to GAP, we get a copy of $C_8$ living inside the automorphism group of the Fermat quartic. Hence the 12 bitangents above correspond to the transitive set $[C_4^{\\times 2}\\rtimes S_3 / C_8]$.\n",
    "\n",
    "We can look at the remaining bitangents, for instance the element `Fermat_Bitangents[4]` which was not in the orbit above:"
   ]
  },
  {
   "cell_type": "code",
   "execution_count": 20,
   "metadata": {},
   "outputs": [
    {
     "data": {
      "text/plain": [
       "[x - y - z,\n",
       " x + (-1.0*I)*y + (-1.0*I)*z,\n",
       " x + (-1.0*I)*y + z,\n",
       " x - y + (-1.0*I)*z,\n",
       " x - y + z,\n",
       " x + 1.0*I*y - z,\n",
       " x + y + 1.0*I*z,\n",
       " x + 1.0*I*y + (-1.0*I)*z,\n",
       " x + 1.0*I*y + z,\n",
       " x + (-1.0*I)*y + 1.0*I*z,\n",
       " x - y + 1.0*I*z,\n",
       " x + y - z,\n",
       " x + 1.0*I*y + 1.0*I*z,\n",
       " x + y + (-1.0*I)*z,\n",
       " x + (-1.0*I)*y - z,\n",
       " x + y + z]"
      ]
     },
     "execution_count": 20,
     "metadata": {},
     "output_type": "execute_result"
    }
   ],
   "source": [
    "investigate_orbit_NEW(Fermat_Bitangents[4],Fermat_dict)"
   ]
  },
  {
   "cell_type": "markdown",
   "metadata": {},
   "source": [
    "These are the remaining 16 bitangents -- their indices in `Fermat_Bitangents` are `[16,6,20,21,15,12,14,17,18,7,4,5,23,22,13,19]`. Again we study isotropy:"
   ]
  },
  {
   "cell_type": "code",
   "execution_count": 21,
   "metadata": {},
   "outputs": [
    {
     "data": {
      "text/plain": [
       "['r18', 'r21', 'r49', 'r53', 'r73', 'r77']"
      ]
     },
     "execution_count": 21,
     "metadata": {},
     "output_type": "execute_result"
    }
   ],
   "source": [
    "investigate_isotropy_NEW(Fermat_Bitangents[4],Fermat_dict)"
   ]
  },
  {
   "cell_type": "markdown",
   "metadata": {},
   "source": [
    "This gives us a copy of $C_6$ inside of $C_4^{\\times 2}\\rtimes S_3$. Hence altogether we get an equivariant bijection\n",
    "$$\\text{28 bitangen"
   ]
  },
  {
   "cell_type": "markdown",
   "metadata": {
    "jp-MarkdownHeadingCollapsed": true
   },
   "source": [
    "# Type III: The $(48,33)$ quartic<a name=\"type3\"></a>\n",
    "There is a unique quartic of Type III, defined by the equation\n",
    "$$x^4 + y^4 + z^4 + (4\\rho+2)x^2y^2,$$\n",
    "where $\\rho$ is a primitive 3rd root of unity (note that $4\\rho + 2 = 2\\sqrt{-3}$, which is another common form for this quartic). Its automorphism group has order 48, and GAP ID `[48,33]`. It is accessible via `GpIII_Dict`.\n",
    "\n"
   ]
  },
  {
   "cell_type": "markdown",
   "metadata": {},
   "source": [
    "## (III) Bitangents"
   ]
  },
  {
   "cell_type": "markdown",
   "metadata": {},
   "source": [
    "We would like to compute equations for its bitangents, however since $\\rho\\notin\\mathbb{Q}$, we must modify the function `compute_bitangents`. To that end we include the following"
   ]
  },
  {
   "cell_type": "code",
   "execution_count": 22,
   "metadata": {},
   "outputs": [
    {
     "name": "stdout",
     "output_type": "stream",
     "text": [
      "a^4+(-4*zeta3-2)*a^2*b^2+b^4+4,\n",
      "3*a^3*b^3+(2*zeta3+1)*a*b^5+(4*zeta3+2)*a*b,\n",
      "7*a^2*b^5+(2*zeta3+1)*b^7+2*a^2*b+(8*zeta3+4)*b^3,\n",
      "2*a*b^7+(2*zeta3+1)*a^3*b+a*b^3,\n",
      "2*b^9-5*a^4*b+(-6*zeta3-3)*a^2*b^3+10*b^5+8*b\n"
     ]
    }
   ],
   "source": [
    "def compute_bitangents_ideal_Q3(f):\n",
    "    F=CyclotomicField(3); T.<x,y,z>=PolynomialRing(F)\n",
    "    # Check whether the quartic is smooth\n",
    "    # Grad=ideal(f,diff(f,x),diff(f,y),diff(f,z))\n",
    "    # if not Grad.dimension()==0:\n",
    "    #     sys.exit(\"Quartic is not smooth!\")\n",
    "    f = T(f)\n",
    "    R.<x,y,z,a,b,a0,a1,a2,a3,a4>=PolynomialRing(F)\n",
    "    f0=f.base_extend(R)\n",
    "    S.<a,b>=PolynomialRing(F)\n",
    "    digits=50\n",
    "    threshold=0.000000000001\n",
    "    almostzero=threshold\n",
    "\n",
    "    # Make a formal line\n",
    "    Line= a*x+b*y+z;\n",
    "    \n",
    "    puresquare=ideal(a0*a3^2-a1^2*a4,8*a0^2*a3-4*a0*a1*a2+a1^3,8*a1*a4^2-4*a2*a3*a4+a3^3,8*a0*a1*a4-4*a0*a2*a3+a1^2*a3,8*a0*a3*a4-4*a1*a2*a4+a1*a3^2,16*a0^2*a4+2*a0*a1*a3-4*a0*a2^2+a1^2*a2,16*a0*a4^2+2*a1*a3*a4-4*a2^2*a4+a2*a3^2);\n",
    "    Res=f0.resultant(Line,z)    \n",
    "    Res=Res.subs(y=1)    \n",
    "    phi=hom(R,S,[0,0,0,a,b,Res.coefficient({x:0}),Res.coefficient({x:1}),Res.coefficient({x:2}),Res.coefficient({x:3}),Res.coefficient({x:4})])\n",
    "    bit1 = phi(puresquare)    \n",
    "    \n",
    "    I_ideal=singular.groebner(singular(bit1))\n",
    "    return I_ideal\n",
    "\n",
    "Dolg = x^4 + y^4 + z^4 + 2*sqrt(-3)*(x^2)*(y^2)\n",
    "F=CyclotomicField(12); T.<x,y,z>=PolynomialRing(F)\n",
    "\n",
    "# Grad = ideal(Dolg,diff(Dolg,x),diff(Dolg,y),diff(Dolg,z))\n",
    "Iideal = compute_bitangents_ideal_Q3(Dolg);Iideal\n",
    "print(Iideal)"
   ]
  },
  {
   "cell_type": "markdown",
   "metadata": {},
   "source": [
    "This gives us an ideal in a polynomial ring over $\\mathbb{Q}(\\zeta_3)$ that we wish to solve -- the solutions will be bitangents of the form $ax+by+z=0$."
   ]
  },
  {
   "cell_type": "code",
   "execution_count": 23,
   "metadata": {},
   "outputs": [
    {
     "data": {
      "text/plain": [
       "[[a == -1/2*I*sqrt(3) - 1/2, b == -1/2*I*sqrt(3) - 1/2],\n",
       " [a == 1/2*I*sqrt(3) + 1/2, b == -1/2*I*sqrt(3) - 1/2],\n",
       " [a == -1/2*sqrt(3) - 1/2*I, b == 1/2*I*sqrt(3) - 1/2],\n",
       " [a == 1/2*sqrt(3) + 1/2*I, b == 1/2*I*sqrt(3) - 1/2],\n",
       " [a == -1/2*sqrt(3) - 1/2*I, b == -1/2*I*sqrt(3) + 1/2],\n",
       " [a == 1/2*sqrt(3) + 1/2*I, b == -1/2*I*sqrt(3) + 1/2],\n",
       " [a == -1/2*I*sqrt(3) - 1/2, b == 1/2*I*sqrt(3) + 1/2],\n",
       " [a == 1/2*I*sqrt(3) + 1/2, b == 1/2*I*sqrt(3) + 1/2],\n",
       " [a == 1/2*I*sqrt(3) - 1/2, b == -1/2*sqrt(3) - 1/2*I],\n",
       " [a == -1/2*I*sqrt(3) + 1/2, b == -1/2*sqrt(3) - 1/2*I],\n",
       " [a == 1/2*I*sqrt(3) - 1/2, b == 1/2*sqrt(3) + 1/2*I],\n",
       " [a == -1/2*I*sqrt(3) + 1/2, b == 1/2*sqrt(3) + 1/2*I],\n",
       " [a == -1/2*sqrt(3) + 1/2*I, b == -1/2*sqrt(3) + 1/2*I],\n",
       " [a == 1/2*sqrt(3) - 1/2*I, b == -1/2*sqrt(3) + 1/2*I],\n",
       " [a == -1/2*sqrt(3) + 1/2*I, b == 1/2*sqrt(3) - 1/2*I],\n",
       " [a == 1/2*sqrt(3) - 1/2*I, b == 1/2*sqrt(3) - 1/2*I],\n",
       " [a == 0, b == (-I + 1)],\n",
       " [a == 0, b == (I + 1)],\n",
       " [a == 0, b == (-I - 1)],\n",
       " [a == 0, b == (I - 1)],\n",
       " [a == (-I + 1), b == 0],\n",
       " [a == (I + 1), b == 0],\n",
       " [a == (-I - 1), b == 0],\n",
       " [a == (I - 1), b == 0]]"
      ]
     },
     "execution_count": 23,
     "metadata": {},
     "output_type": "execute_result"
    }
   ],
   "source": [
    "# Grad.dimension()\n",
    "# cyc\n",
    "\n",
    "R.<a,b> =PolynomialRing(CC)\n",
    "rho = exp(2*pi*i/3)\n",
    "a,b = var('a b')\n",
    "f0 = a^4+(-4*rho-2)*a^2*b^2+b^4+4\n",
    "f1 = 3*a^3*b^3+(2*rho+1)*a*b^5+(4*rho+2)*a*b\n",
    "f2 = 7*a^2*b^5+(2*rho+1)*b^7+2*a^2*b+(8*rho+4)*b^3\n",
    "f3 = 2*a*b^7+(2*rho+1)*a^3*b+a*b^3\n",
    "f4 = 2*b^9-5*a^4*b+(-6*rho-3)*a^2*b^3+10*b^5+8*b\n",
    "\n",
    "\n",
    "candidates = solve([f1==0,f2==0,f3==0,f0==0,f4==0],a,b); candidates"
   ]
  },
  {
   "cell_type": "markdown",
   "metadata": {},
   "source": [
    "This gives us 24 bitangents. To obtain the other 4, we need to consider the case where $z=0$..... TODO"
   ]
  },
  {
   "cell_type": "code",
   "execution_count": 24,
   "metadata": {},
   "outputs": [],
   "source": [
    "QuarticIIIBis = [x + (-0.50000084 + 0.50000314*I)*z,\n",
    "x + (-0.50000314 - 0.50000084*I)*z,\n",
    "x - y + (0.500000000000000 - 0.866030000000000*I)*z,\n",
    "x - y + (-0.500000000000000 + 0.866030000000000*I)*z,\n",
    "x - y + (-0.866030000000000 - 0.500000000000000*I)*z,\n",
    "x - y + (0.866030000000000 + 0.500000000000000*I)*z,\n",
    "x + (0.50000314 + 0.50000084*I)*z,\n",
    "x + (0.50000084 - 0.50000314*I)*z,\n",
    "y + (0.50000314 + 0.50000084*I)*z,\n",
    "y + (-0.50000084 + 0.50000314*I)*z,\n",
    "y + (0.50000084 - 0.50000314*I)*z,\n",
    "y + (-0.50000314 - 0.50000084*I)*z,\n",
    "x + 1.00000000000000*I*y + (0.500000000000000 + 0.866030000000000*I)*z,\n",
    "x + 1.00000000000000*I*y + (0.866030000000000 - 0.500000000000000*I)*z,\n",
    "x + 1.00000000000000*I*y + (-0.866030000000000 + 0.500000000000000*I)*z,\n",
    "x + 1.00000000000000*I*y + (-0.500000000000000 - 0.866030000000000*I)*z,\n",
    "x + (-1.00000000000000*I)*y + (0.500000000000000 + 0.866030000000000*I)*z,\n",
    "x + (-1.00000000000000*I)*y + (0.866030000000000 - 0.500000000000000*I)*z,\n",
    "x + (-1.00000000000000*I)*y + (-0.866030000000000 + 0.500000000000000*I)*z,\n",
    "x + (-1.00000000000000*I)*y + (-0.500000000000000 - 0.866030000000000*I)*z,\n",
    "x + y + (0.500000000000000 - 0.866030000000000*I)*z,\n",
    "x + y + (-0.866030000000000 - 0.500000000000000*I)*z,\n",
    "x + y + (-0.500000000000000 + 0.866030000000000*I)*z,\n",
    "x + y + (0.866030000000000 + 0.500000000000000*I)*z,\n",
    "x + (-0.36602540 - 0.36602540*I)*y,\n",
    "x + (0.36602540 + 0.36602540*I)*y,\n",
    "x + (-1.3660254 + 1.3660254*I)*y,\n",
    "x + (1.3660254 - 1.3660254*I)*y]\n"
   ]
  },
  {
   "cell_type": "code",
   "execution_count": 25,
   "metadata": {},
   "outputs": [
    {
     "data": {
      "text/plain": [
       "[x + y + (0.866 + 0.5*I)*z,\n",
       " x + y + (-0.5 + 0.866*I)*z,\n",
       " x + y + (0.5 - 0.866*I)*z,\n",
       " x + y + (-0.866 - 0.5*I)*z,\n",
       " x + (-1.0*I)*y + (-0.866 + 0.5*I)*z,\n",
       " x + (-1.0*I)*y + (-0.5 - 0.866*I)*z,\n",
       " x + (-1.0*I)*y + (0.5 + 0.866*I)*z,\n",
       " x + (-1.0*I)*y + (0.866 - 0.5*I)*z,\n",
       " x + (-0.5 - 0.5*I)*z,\n",
       " x + (0.5 + 0.5*I)*z,\n",
       " x + (-0.500000840000000 + 0.500003140000000*I)*z,\n",
       " x + (0.5 - 0.5*I)*z,\n",
       " x - y + (0.866 + 0.5*I)*z,\n",
       " x - y + (-0.5 + 0.866*I)*z,\n",
       " x - y + (0.5 - 0.866*I)*z,\n",
       " x - y + (-0.866 - 0.5*I)*z,\n",
       " x + 1.0*I*y + (-0.5 - 0.866*I)*z,\n",
       " x + 1.0*I*y + (-0.866 + 0.5*I)*z,\n",
       " x + 1.0*I*y + (0.5 + 0.866*I)*z,\n",
       " x + 1.0*I*y + (0.866 - 0.5*I)*z,\n",
       " y + (0.5 - 0.5*I)*z,\n",
       " y + (-0.5 - 0.5*I)*z,\n",
       " y + (-0.5 + 0.5*I)*z,\n",
       " y + (0.5 + 0.5*I)*z]"
      ]
     },
     "execution_count": 25,
     "metadata": {},
     "output_type": "execute_result"
    }
   ],
   "source": [
    "investigate_orbit_NEW(QuarticIIIBis[0],GpIII_Dict)"
   ]
  },
  {
   "cell_type": "code",
   "execution_count": 26,
   "metadata": {},
   "outputs": [
    {
     "data": {
      "text/plain": [
       "['r10', 'r11']"
      ]
     },
     "execution_count": 26,
     "metadata": {},
     "output_type": "execute_result"
    }
   ],
   "source": [
    "investigate_isotropy_NEW(QuarticIIIBis[0],GpIII_Dict)"
   ]
  },
  {
   "cell_type": "code",
   "execution_count": 27,
   "metadata": {},
   "outputs": [
    {
     "data": {
      "text/plain": [
       "[x + (-0.366 - 0.366*I)*y,\n",
       " x + (1.36602540000000 - 1.36602540000000*I)*y,\n",
       " x + (0.366 + 0.366*I)*y,\n",
       " x + (-1.366 + 1.366*I)*y]"
      ]
     },
     "execution_count": 27,
     "metadata": {},
     "output_type": "execute_result"
    }
   ],
   "source": [
    "investigate_orbit_NEW(QuarticIIIBis[27],GpIII_Dict)"
   ]
  },
  {
   "cell_type": "code",
   "execution_count": 28,
   "metadata": {},
   "outputs": [
    {
     "data": {
      "text/plain": [
       "['r0',\n",
       " 'r11',\n",
       " 'r15',\n",
       " 'r19',\n",
       " 'r24',\n",
       " 'r27',\n",
       " 'r28',\n",
       " 'r31',\n",
       " 'r32',\n",
       " 'r35',\n",
       " 'r40',\n",
       " 'r44']"
      ]
     },
     "execution_count": 28,
     "metadata": {},
     "output_type": "execute_result"
    }
   ],
   "source": [
    "investigate_isotropy_NEW(QuarticIIIBis[27],GpIII_Dict)"
   ]
  },
  {
   "cell_type": "markdown",
   "metadata": {
    "jp-MarkdownHeadingCollapsed": true
   },
   "source": [
    "# Type IV: The $S_4$ quartic<a name=\"S4\"></a>\n",
    "For the group $S_4$, we obtain a pencil of *octahedral quartics*, given by the equation\n",
    " $$X^4 + Y^4 + Z^4 + a(X^2 Y^2 + Y^2 Z^2 + Z^2 X^2),$$\n",
    "for any $a\\in \\mathbb{C}$. Here $S_4$ is subconjugate to $\\text{PSL}_2(7)$ as well as $C_4^{\\times 2}\\rtimes S_3$ inside $\\text{PGL}_3(\\mathbb{C})$, reflected by certain values of $a$ which allow us to exhibit the Klein and Fermat quartics in this pencil.\n",
    "\n",
    "We pick $a=-3$ (not one of these special values) to carry out our computation:"
   ]
  },
  {
   "cell_type": "code",
   "execution_count": 29,
   "metadata": {},
   "outputs": [
    {
     "data": {
      "text/plain": [
       "[y + (-0.4142*I)*z,\n",
       " y + 0.4142*I*z,\n",
       " y + 2.4142*I*z,\n",
       " y + (-2.4142*I)*z,\n",
       " x + 1.4142*y - z,\n",
       " x + (-1.4142)*y + z,\n",
       " x + y + (-1.4142)*z,\n",
       " x - y + 1.4142*z,\n",
       " x - y + (-1.4142)*z,\n",
       " x + y + 1.4142*z,\n",
       " x + (-1.4142)*y - z,\n",
       " x + 1.4142*y + z,\n",
       " x + 0.7071*y + (-0.7071)*z,\n",
       " x + y - z,\n",
       " x - y + z,\n",
       " x + (-0.7071)*y + 0.7071*z,\n",
       " x + (-0.4142*I)*z,\n",
       " x + 0.4142*I*z,\n",
       " x + 2.4142*I*z,\n",
       " x + (-2.4142*I)*z,\n",
       " x + (-0.7071)*y + (-0.7071)*z,\n",
       " x - y - z,\n",
       " x + y + z,\n",
       " x + 0.7071*y + 0.7071*z,\n",
       " x + (-0.4142*I)*y,\n",
       " x + 0.4142*I*y,\n",
       " x + 2.4142*I*y,\n",
       " x + (-2.4142*I)*y]"
      ]
     },
     "execution_count": 29,
     "metadata": {},
     "output_type": "execute_result"
    }
   ],
   "source": [
    "F=QQ; T.<x,y,z>=PolynomialRing(F) # redefine the base field back to QQ\n",
    "\n",
    "S4_Quartic_new = x^4 + y^4 + z^4 -3*(x^2*y^2 + y^2*z^2 + z^2*x^2)\n",
    "S4_Bitangents_new = compute_normalized_bitangents(S4_Quartic_new);S4_Bitangents_new\n",
    "# S4_Bitangents_new = [normalize(b) for b in S4_Bitangents_new];S4_Bitangents_new"
   ]
  },
  {
   "cell_type": "markdown",
   "metadata": {},
   "source": [
    "We end up seeing three orbits, with isotropy groups given by the even and odd copies of $C_2$ in $S_4$, and $S_3$, respectively."
   ]
  },
  {
   "cell_type": "markdown",
   "metadata": {},
   "source": [
    "## $C_2^o$ isotropy"
   ]
  },
  {
   "cell_type": "code",
   "execution_count": 30,
   "metadata": {},
   "outputs": [
    {
     "data": {
      "text/plain": [
       "[x + 0.4142*I*z,\n",
       " x + 2.4143*I*z,\n",
       " y + (-2.4143*I)*z,\n",
       " x + 2.4143*I*y,\n",
       " x + (-2.4143*I)*y,\n",
       " y + (-0.4142*I)*z,\n",
       " y + 0.4142*I*z,\n",
       " x + (-0.4142*I)*y,\n",
       " x + 0.4142*I*y,\n",
       " x + (-2.4143*I)*z,\n",
       " y + 2.4143*I*z,\n",
       " x + (-0.4142*I)*z]"
      ]
     },
     "execution_count": 30,
     "metadata": {},
     "output_type": "execute_result"
    }
   ],
   "source": [
    "investigate_orbit_NEW(S4_Bitangents_new[0],S4_dict)"
   ]
  },
  {
   "cell_type": "markdown",
   "metadata": {},
   "source": [
    "In the list `S4_Bitangents_new` these are the 12 bitangents with indices `[0,1,2,3,18,19,26,27,25,24,16,17]`."
   ]
  },
  {
   "cell_type": "code",
   "execution_count": 31,
   "metadata": {},
   "outputs": [
    {
     "data": {
      "text/plain": [
       "['r20', 'r23']"
      ]
     },
     "execution_count": 31,
     "metadata": {},
     "output_type": "execute_result"
    }
   ],
   "source": [
    "investigate_isotropy_NEW(S4_Bitangents_new[0],S4_dict)"
   ]
  },
  {
   "cell_type": "markdown",
   "metadata": {},
   "source": [
    "## $C_2^e$ isotropy"
   ]
  },
  {
   "cell_type": "code",
   "execution_count": 32,
   "metadata": {},
   "outputs": [
    {
     "data": {
      "text/plain": [
       "[x + 0.7071*y + (-0.7071)*z,\n",
       " x + (-0.7071)*y + (-0.7071)*z,\n",
       " x + 0.7071*y + 0.7071*z,\n",
       " x + (-0.7071)*y + 0.7071*z,\n",
       " x + (-1.4142)*y - z,\n",
       " x + y + 1.4142*z,\n",
       " x - y + 1.4142*z,\n",
       " x + (-1.4142)*y + z,\n",
       " x + y + (-1.4142)*z,\n",
       " x + 1.4142*y - z,\n",
       " x - y + (-1.4142)*z,\n",
       " x + 1.4142*y + z]"
      ]
     },
     "execution_count": 32,
     "metadata": {},
     "output_type": "execute_result"
    }
   ],
   "source": [
    "investigate_orbit_NEW(S4_Bitangents_new[4],S4_dict)"
   ]
  },
  {
   "cell_type": "markdown",
   "metadata": {},
   "source": [
    "These are `[10,4,5,6,11,9,12,20,23,15,8,7]` in `S4_Bitangents_new`."
   ]
  },
  {
   "cell_type": "code",
   "execution_count": 33,
   "metadata": {},
   "outputs": [
    {
     "data": {
      "text/plain": [
       "['r13', 'r23']"
      ]
     },
     "execution_count": 33,
     "metadata": {},
     "output_type": "execute_result"
    }
   ],
   "source": [
    "investigate_isotropy_NEW(S4_Bitangents_new[4],S4_dict)"
   ]
  },
  {
   "cell_type": "markdown",
   "metadata": {},
   "source": [
    "## $S_3$ isotropy\n",
    "\n",
    "Finally we have four remaining bitangents, which we will see all lie in an orbit and therefore must have $S_3$ isotropy."
   ]
  },
  {
   "cell_type": "code",
   "execution_count": 34,
   "metadata": {},
   "outputs": [
    {
     "data": {
      "text/plain": [
       "[x + y - z, x - y - z, x - y + z, x + y + z]"
      ]
     },
     "execution_count": 34,
     "metadata": {},
     "output_type": "execute_result"
    }
   ],
   "source": [
    "investigate_orbit_NEW(S4_Bitangents_new[13],S4_dict)"
   ]
  },
  {
   "cell_type": "markdown",
   "metadata": {},
   "source": [
    "In the list `S4_Bitangents_new` these are the 12 bitangents with indices `[13,14,21,22]`."
   ]
  },
  {
   "cell_type": "code",
   "execution_count": 35,
   "metadata": {},
   "outputs": [
    {
     "data": {
      "text/plain": [
       "['r2', 'r4', 'r11', 'r13', 'r17', 'r23']"
      ]
     },
     "execution_count": 35,
     "metadata": {},
     "output_type": "execute_result"
    }
   ],
   "source": [
    "investigate_isotropy_NEW(S4_Bitangents_new[13],S4_dict)"
   ]
  },
  {
   "cell_type": "markdown",
   "metadata": {},
   "source": [
    "# Type V: The $(16,13)$ quartic<a name=\"1613\"></a>\n",
    "For Type V, we obtain a pencil of quartics with equations\n",
    "$$X^4 + Y^4 + Z^4 + aX^2 Y^2,$$\n",
    "and symmetry given by the *Pauli group* $P = C_4\\circledcirc K_4$. We pick a generic value $a=-4$ to obtain a Type V quartic with no additional symmetry beyond $P$:"
   ]
  },
  {
   "cell_type": "code",
   "execution_count": 36,
   "metadata": {},
   "outputs": [
    {
     "data": {
      "text/plain": [
       "[y + (-0.7598)*z,\n",
       " y + 0.7598*z,\n",
       " y + (-0.7598*I)*z,\n",
       " y + 0.7598*I*z,\n",
       " x + y + (-0.5373 - 0.5373*I)*z,\n",
       " x - y + (0.5373 + 0.5373*I)*z,\n",
       " x + y + (-0.5373 + 0.5373*I)*z,\n",
       " x - y + (0.5373 - 0.5373*I)*z,\n",
       " x + (-1.0*I)*y + (-0.9306 + 0.9306*I)*z,\n",
       " x + 1.0*I*y + (0.9306 - 0.9306*I)*z,\n",
       " x + 1.0*I*y + (-0.9306 - 0.9306*I)*z,\n",
       " x + (-1.0*I)*y + (0.9306 + 0.9306*I)*z,\n",
       " x + (-1.0*I)*y + (-0.9306 - 0.9306*I)*z,\n",
       " x + 1.0*I*y + (0.9306 + 0.9306*I)*z,\n",
       " x + 1.0*I*y + (-0.9306 + 0.9306*I)*z,\n",
       " x + (-1.0*I)*y + (0.9306 - 0.9306*I)*z,\n",
       " x - y + (-0.5373 - 0.5373*I)*z,\n",
       " x + y + (0.5373 + 0.5373*I)*z,\n",
       " x - y + (-0.5373 + 0.5373*I)*z,\n",
       " x + y + (0.5373 - 0.5373*I)*z,\n",
       " x + (-0.7598)*z,\n",
       " x + 0.7598*z,\n",
       " x + (-0.7598*I)*z,\n",
       " x + 0.7598*I*z,\n",
       " x + (-0.5176)*y,\n",
       " x + (-1.9319)*y,\n",
       " x + 1.9319*y,\n",
       " x + 0.5176*y]"
      ]
     },
     "execution_count": 36,
     "metadata": {},
     "output_type": "execute_result"
    }
   ],
   "source": [
    "# F=QQ; T.<x,y,z>=PolynomialRing(F)\n",
    "V_Quartic_new = x^4 + y^4 + z^4 - 4*x^2*y^2\n",
    "V_Bitangents_new = compute_normalized_bitangents(V_Quartic_new);V_Bitangents_new"
   ]
  },
  {
   "cell_type": "markdown",
   "metadata": {},
   "source": [
    "## $C_2^{(1)}$ isotropy\n",
    "\n",
    "We obtain one orbit with isotropy $C_2$ as follows:"
   ]
  },
  {
   "cell_type": "code",
   "execution_count": 80,
   "metadata": {},
   "outputs": [
    {
     "data": {
      "text/plain": [
       "[y + (-0.7598)*z,\n",
       " x + 0.7598*z,\n",
       " y + 0.7598*z,\n",
       " y + (-0.7598*I)*z,\n",
       " y + 0.7598*I*z,\n",
       " x + 0.7598*I*z,\n",
       " x + (-0.7598*I)*z,\n",
       " x + (-0.7598)*z]"
      ]
     },
     "execution_count": 80,
     "metadata": {},
     "output_type": "execute_result"
    }
   ],
   "source": [
    "investigate_orbit_NEW(V_Bitangents_new[0],VGrp_dict)"
   ]
  },
  {
   "cell_type": "markdown",
   "metadata": {},
   "source": [
    "This gives us eight bitangents, with indices `[0,1,2,3,20,21,22,23]` in `V_Bitangents_new`. Isotropy is given by the following:"
   ]
  },
  {
   "cell_type": "code",
   "execution_count": 94,
   "metadata": {},
   "outputs": [
    {
     "data": {
      "text/plain": [
       "['r0', 'r2']"
      ]
     },
     "execution_count": 94,
     "metadata": {},
     "output_type": "execute_result"
    }
   ],
   "source": [
    "investigate_isotropy_NEW(V_Bitangents_new[0],VGrp_dict)"
   ]
  },
  {
   "cell_type": "markdown",
   "metadata": {},
   "source": [
    "## $C_2^{(2)}$ isotropy\n",
    "We obtain another orbit of bitangents with isotropy $C_2$, however this is a non-conjugate copy of $C_2$ in the Pauli group:"
   ]
  },
  {
   "cell_type": "code",
   "execution_count": 99,
   "metadata": {},
   "outputs": [
    {
     "data": {
      "text/plain": [
       "[x + y + (0.5373 - 0.5373*I)*z,\n",
       " x + y + (-0.5373 - 0.5373*I)*z,\n",
       " x + y + (0.5373 + 0.5373*I)*z,\n",
       " x + y + (-0.5373 + 0.5373*I)*z,\n",
       " x - y + (-0.5373 - 0.5373*I)*z,\n",
       " x - y + (0.5373 + 0.5373*I)*z,\n",
       " x - y + (0.5373 - 0.5373*I)*z,\n",
       " x - y + (-0.5373 + 0.5373*I)*z]"
      ]
     },
     "execution_count": 99,
     "metadata": {},
     "output_type": "execute_result"
    }
   ],
   "source": [
    "investigate_orbit_NEW(V_Bitangents_new[4],VGrp_dict)"
   ]
  },
  {
   "cell_type": "markdown",
   "metadata": {},
   "source": [
    "This gives us eight bitangents, with indices `[4,5,6,7,16,17,18,19]`, and isotropy"
   ]
  },
  {
   "cell_type": "code",
   "execution_count": 83,
   "metadata": {},
   "outputs": [
    {
     "data": {
      "text/plain": [
       "['r0', 'r6']"
      ]
     },
     "execution_count": 83,
     "metadata": {},
     "output_type": "execute_result"
    }
   ],
   "source": [
    "investigate_isotropy_NEW(V_Bitangents_new[4],VGrp_dict)"
   ]
  },
  {
   "cell_type": "markdown",
   "metadata": {},
   "source": [
    "## $C_2^{(3)}$ isotropy\n",
    "\n",
    "We have yet another orbit of eight bitangents, whose isotropy is another non-conjugate copy of $C_2$ in the Pauli group. These have indices `[8,9,10,11,12,13,14,15]`"
   ]
  },
  {
   "cell_type": "code",
   "execution_count": 105,
   "metadata": {},
   "outputs": [
    {
     "data": {
      "text/plain": [
       "[x + 1.0*I*y + (0.9306 + 0.9306*I)*z,\n",
       " x + 1.0*I*y + (-0.9306 - 0.9306*I)*z,\n",
       " x + (-1.0*I)*y + (-0.9306 + 0.9306*I)*z,\n",
       " x + (-1.0*I)*y + (0.9306 - 0.9306*I)*z,\n",
       " x + (-1.0*I)*y + (0.9306 + 0.9306*I)*z,\n",
       " x + (-1.0*I)*y + (-0.9306 - 0.9306*I)*z,\n",
       " x + 1.0*I*y + (-0.9306 + 0.9306*I)*z,\n",
       " x + 1.0*I*y + (0.9306 - 0.9306*I)*z]"
      ]
     },
     "execution_count": 105,
     "metadata": {},
     "output_type": "execute_result"
    }
   ],
   "source": [
    "investigate_orbit_NEW(V_Bitangents_new[8],VGrp_dict)"
   ]
  },
  {
   "cell_type": "code",
   "execution_count": 108,
   "metadata": {},
   "outputs": [
    {
     "data": {
      "text/plain": [
       "['r0', 'r9']"
      ]
     },
     "execution_count": 108,
     "metadata": {},
     "output_type": "execute_result"
    }
   ],
   "source": [
    "investigate_isotropy_NEW(V_Bitangents_new[8],VGrp_dict)"
   ]
  },
  {
   "cell_type": "markdown",
   "metadata": {},
   "source": [
    "## $C_4^Z$ isotropy"
   ]
  },
  {
   "cell_type": "markdown",
   "metadata": {},
   "source": [
    "The remaining four bitangents, with indices `[24,25,26,27]` form an orbit with isotropy a cyclic subgroup of order four, characterized by the property that it is central in the Pauli group."
   ]
  },
  {
   "cell_type": "code",
   "execution_count": 109,
   "metadata": {},
   "outputs": [
    {
     "data": {
      "text/plain": [
       "[x + (-1.932)*y, x + 1.932*y, x + 0.5176*y, x + (-0.5176)*y]"
      ]
     },
     "execution_count": 109,
     "metadata": {},
     "output_type": "execute_result"
    }
   ],
   "source": [
    "investigate_orbit_NEW(V_Bitangents_new[24],VGrp_dict)"
   ]
  },
  {
   "cell_type": "code",
   "execution_count": 110,
   "metadata": {},
   "outputs": [
    {
     "data": {
      "text/plain": [
       "['r0', 'r1', 'r12', 'r15']"
      ]
     },
     "execution_count": 110,
     "metadata": {},
     "output_type": "execute_result"
    }
   ],
   "source": [
    "investigate_isotropy_NEW(V_Bitangents_new[24],VGrp_dict)"
   ]
  },
  {
   "cell_type": "markdown",
   "metadata": {
    "jp-MarkdownHeadingCollapsed": true
   },
   "source": [
    "# Type VI: The $C_9$ quartic<a name=\"C9\"></a>\n",
    "There is a unique planar quartic with symmetry group cyclic of order 9, given by the equation\n",
    "$$X^4 + XY^3 + YZ^3.$$"
   ]
  },
  {
   "cell_type": "code",
   "execution_count": 113,
   "metadata": {},
   "outputs": [
    {
     "data": {
      "text/plain": [
       "[x + 1.1839*y + (-0.4481)*z,\n",
       " x + (-0.9652)*y + 1.2902*z,\n",
       " x + (-0.2188)*y + 0.6865*z,\n",
       " x + (-0.592 - 1.0253*I)*y + (-0.0778 + 0.4413*I)*z,\n",
       " x + (-0.592 + 1.0253*I)*y + (-0.0778 - 0.4413*I)*z,\n",
       " x + (0.4826 + 0.8358*I)*y + (0.224 - 1.2706*I)*z,\n",
       " x + (0.4826 - 0.8358*I)*y + (0.224 + 1.2706*I)*z,\n",
       " x + (-0.592 + 1.0253*I)*y + (0.421 + 0.1532*I)*z,\n",
       " x + (-0.592 - 1.0253*I)*y + (0.421 - 0.1532*I)*z,\n",
       " x + (0.1094 + 0.1895*I)*y + (0.1192 - 0.6761*I)*z,\n",
       " x + (0.1094 - 0.1895*I)*y + (0.1192 + 0.6761*I)*z,\n",
       " x + (0.4826 - 0.8358*I)*y + (-1.2124 - 0.4413*I)*z,\n",
       " x + (0.4826 + 0.8358*I)*y + (-1.2124 + 0.4413*I)*z,\n",
       " x + (0.1094 - 0.1895*I)*y + (-0.6451 - 0.2348*I)*z,\n",
       " x + (0.1094 + 0.1895*I)*y + (-0.6451 + 0.2348*I)*z,\n",
       " x + (-0.2188)*y + (-0.3432 + 0.5945*I)*z,\n",
       " x + (-0.2188)*y + (-0.3432 - 0.5945*I)*z,\n",
       " x + (0.1094 + 0.1895*I)*y + (0.5259 + 0.4413*I)*z,\n",
       " x + (0.1094 - 0.1895*I)*y + (0.5259 - 0.4413*I)*z,\n",
       " x + (-0.9652)*y + (-0.6451 + 1.1173*I)*z,\n",
       " x + (-0.9652)*y + (-0.6451 - 1.1173*I)*z,\n",
       " x + (0.4826 + 0.8358*I)*y + (0.9883 + 0.8293*I)*z,\n",
       " x + (0.4826 - 0.8358*I)*y + (0.9883 - 0.8293*I)*z,\n",
       " x + 1.1839*y + (0.224 - 0.388*I)*z,\n",
       " x + 1.1839*y + (0.224 + 0.388*I)*z,\n",
       " x + (-0.592 - 1.0253*I)*y + (-0.3432 - 0.288*I)*z,\n",
       " x + (-0.592 + 1.0253*I)*y + (-0.3432 + 0.288*I)*z,\n",
       " y]"
      ]
     },
     "execution_count": 113,
     "metadata": {},
     "output_type": "execute_result"
    }
   ],
   "source": [
    "C9_Quartic = x^4 + x*y^3 + y*z^3\n",
    "C9_Bitangents = compute_normalized_bitangents(C9_Quartic);C9_Bitangents"
   ]
  },
  {
   "cell_type": "markdown",
   "metadata": {},
   "source": [
    "## Trivial isotropy\n",
    "\n",
    "We have three orbits with the same isotropy, given by the indices\n",
    "\n",
    "- `[4,0,23,24,25,3,26,8,7]`\n",
    "- `[6,1,5,20,12,21,22,19,11]`\n",
    "- `[2,9,10,13,14,15,16,17,18]`"
   ]
  },
  {
   "cell_type": "code",
   "execution_count": 115,
   "metadata": {},
   "outputs": [
    {
     "data": {
      "text/plain": [
       "[x + (0.4826 + 0.8359*I)*y + (0.9884 + 0.8293*I)*z,\n",
       " x + (0.4826 - 0.8359*I)*y + (0.9884 - 0.8293*I)*z,\n",
       " x + (-0.9652)*y + (-0.6451 - 1.1173*I)*z,\n",
       " x + (-0.9652)*y + (-0.6451 + 1.1173*I)*z,\n",
       " x + (0.4826 - 0.8359*I)*y + (0.224 + 1.2706*I)*z,\n",
       " x + (0.4826 - 0.8359*I)*y + (-1.2124 - 0.4413*I)*z,\n",
       " x + (0.4826 + 0.8359*I)*y + (-1.2124 + 0.4413*I)*z,\n",
       " x + (-0.9652)*y + 1.2902*z,\n",
       " x + (0.4826 + 0.8359*I)*y + (0.224 - 1.2706*I)*z]"
      ]
     },
     "execution_count": 115,
     "metadata": {},
     "output_type": "execute_result"
    }
   ],
   "source": [
    "investigate_orbit_NEW(C9_Bitangents[0],C9_dict)"
   ]
  },
  {
   "cell_type": "code",
   "execution_count": 116,
   "metadata": {},
   "outputs": [
    {
     "data": {
      "text/plain": [
       "[x + (0.4826 + 0.8359*I)*y + (0.9884 + 0.8293*I)*z,\n",
       " x + (0.4826 - 0.8359*I)*y + (0.9884 - 0.8293*I)*z,\n",
       " x + (-0.9652)*y + (-0.6451 - 1.1173*I)*z,\n",
       " x + (-0.9652)*y + (-0.6451 + 1.1173*I)*z,\n",
       " x + (0.4826 - 0.8359*I)*y + (0.224 + 1.2706*I)*z,\n",
       " x + (0.4826 - 0.8359*I)*y + (-1.2124 - 0.4413*I)*z,\n",
       " x + (0.4826 + 0.8359*I)*y + (-1.2124 + 0.4413*I)*z,\n",
       " x + (-0.9652)*y + 1.2902*z,\n",
       " x + (0.4826 + 0.8359*I)*y + (0.224 - 1.2706*I)*z]"
      ]
     },
     "execution_count": 116,
     "metadata": {},
     "output_type": "execute_result"
    }
   ],
   "source": [
    "investigate_orbit_NEW(C9_Bitangents[1],C9_dict)"
   ]
  },
  {
   "cell_type": "code",
   "execution_count": 117,
   "metadata": {},
   "outputs": [
    {
     "data": {
      "text/plain": [
       "[x + (-0.2188)*y + (-0.3432 + 0.5945*I)*z,\n",
       " x + (-0.2188)*y + 0.6865*z,\n",
       " x + (0.1094 + 0.1895*I)*y + (0.5259 + 0.4413*I)*z,\n",
       " x + (0.1094 + 0.1895*I)*y + (0.1192 - 0.6761*I)*z,\n",
       " x + (0.1094 - 0.1895*I)*y + (-0.6451 - 0.2348*I)*z,\n",
       " x + (0.1094 - 0.1895*I)*y + (0.5259 - 0.4413*I)*z,\n",
       " x + (-0.2188)*y + (-0.3432 - 0.5945*I)*z,\n",
       " x + (0.1094 + 0.1895*I)*y + (-0.6451 + 0.2348*I)*z,\n",
       " x + (0.1094 - 0.1895*I)*y + (0.1192 + 0.6761*I)*z]"
      ]
     },
     "execution_count": 117,
     "metadata": {},
     "output_type": "execute_result"
    }
   ],
   "source": [
    "investigate_orbit_NEW(C9_Bitangents[2],C9_dict)"
   ]
  },
  {
   "cell_type": "markdown",
   "metadata": {},
   "source": [
    "We observe they all have trivial isotropy"
   ]
  },
  {
   "cell_type": "code",
   "execution_count": 118,
   "metadata": {},
   "outputs": [
    {
     "data": {
      "text/plain": [
       "[]"
      ]
     },
     "execution_count": 118,
     "metadata": {},
     "output_type": "execute_result"
    }
   ],
   "source": [
    "investigate_isotropy_NEW(C9_Bitangents[0],C9_dict)"
   ]
  },
  {
   "cell_type": "code",
   "execution_count": 120,
   "metadata": {},
   "outputs": [
    {
     "data": {
      "text/plain": [
       "[]"
      ]
     },
     "execution_count": 120,
     "metadata": {},
     "output_type": "execute_result"
    }
   ],
   "source": [
    "investigate_isotropy_NEW(C9_Bitangents[1],C9_dict)"
   ]
  },
  {
   "cell_type": "code",
   "execution_count": 121,
   "metadata": {},
   "outputs": [
    {
     "data": {
      "text/plain": [
       "[]"
      ]
     },
     "execution_count": 121,
     "metadata": {},
     "output_type": "execute_result"
    }
   ],
   "source": [
    "investigate_isotropy_NEW(C9_Bitangents[2],C9_dict)"
   ]
  },
  {
   "cell_type": "markdown",
   "metadata": {},
   "source": [
    "## $C_9$ isotropy"
   ]
  },
  {
   "cell_type": "markdown",
   "metadata": {},
   "source": [
    "We have accounted for 27 of our 28 bitangents, implying the remaining one must be fixed by the action of $C_9$. We can verify this:"
   ]
  },
  {
   "cell_type": "code",
   "execution_count": 122,
   "metadata": {},
   "outputs": [
    {
     "data": {
      "text/plain": [
       "['r', 'r2', 'r3', 'r4', 'r5', 'r6', 'r7', 'r8']"
      ]
     },
     "execution_count": 122,
     "metadata": {},
     "output_type": "execute_result"
    }
   ],
   "source": [
    "investigate_isotropy_NEW(C9_Bitangents[27],C9_dict)"
   ]
  },
  {
   "cell_type": "markdown",
   "metadata": {},
   "source": [
    "# Type VII: The $D_8$ quartic<a name=\"D8\"></a>\n",
    "We have a two-dimensional family of $D_8$-symmetric quartic with equations\n",
    "$$X^4 + Y^4 + Z^4 + aX^2 Y^2 + bXYZ^2.$$\n",
    "We pick the special values $a=-3$ and $b=1$ to investigate the action of $D_8$ on the bitangents."
   ]
  },
  {
   "cell_type": "markdown",
   "metadata": {},
   "source": [
    "So we get, where $C_2^Z \\le D_8$ denotes the center subgroup, and $C_2$ without a decoration denotes the non-center conjugacy subgroup which is cyclic of order two:\n",
    "$$[D_8/e] + 4[D_8/C_2] + [D_8/C_2^Z]$$"
   ]
  },
  {
   "cell_type": "markdown",
   "metadata": {},
   "source": [
    "## (VII) New equation"
   ]
  },
  {
   "cell_type": "code",
   "execution_count": 123,
   "metadata": {},
   "outputs": [
    {
     "name": "stdout",
     "output_type": "stream",
     "text": [
      "The history saving thread hit an unexpected error (OperationalError('attempt to write a readonly database')).History will not be written to the database.\n"
     ]
    },
    {
     "data": {
      "text/plain": [
       "[x + (-4.7913)*y + 4.3778*z,\n",
       " x + (-0.2087)*y + 0.9137*z,\n",
       " x + (-0.2087)*y + (-0.9137)*z,\n",
       " x + (-4.7913)*y + (-4.3778)*z,\n",
       " x + y + (-0.5916 - 0.3873*I)*z,\n",
       " x + y + (-0.5916 + 0.3873*I)*z,\n",
       " x - y + (0.3873 + 0.5916*I)*z,\n",
       " x - y + (0.3873 - 0.5916*I)*z,\n",
       " x + 1.0*I*y + (0.866 - 0.866*I)*z,\n",
       " x + (-1.0*I)*y + (0.866 + 0.866*I)*z,\n",
       " x + (-1.0*I)*y + (-1.3229 + 1.3229*I)*z,\n",
       " x + 1.0*I*y + (-1.3229 - 1.3229*I)*z,\n",
       " x + 0.2087*y + (-0.9137*I)*z,\n",
       " x + 0.2087*y + 0.9137*I*z,\n",
       " x + 4.7913*y + (-4.3778*I)*z,\n",
       " x + 4.7913*y + 4.3778*I*z,\n",
       " x + 1.0*I*y + (1.3229 + 1.3229*I)*z,\n",
       " x + (-1.0*I)*y + (1.3229 - 1.3229*I)*z,\n",
       " x + (-1.0*I)*y + (-0.866 - 0.866*I)*z,\n",
       " x + 1.0*I*y + (-0.866 + 0.866*I)*z,\n",
       " x - y + (-0.3873 + 0.5916*I)*z,\n",
       " x - y + (-0.3873 - 0.5916*I)*z,\n",
       " x + y + (0.5916 - 0.3873*I)*z,\n",
       " x + y + (0.5916 + 0.3873*I)*z,\n",
       " x + (-0.5866)*y,\n",
       " x + (-1.7047)*y,\n",
       " x + 1.7047*y,\n",
       " x + 0.5866*y]"
      ]
     },
     "execution_count": 123,
     "metadata": {},
     "output_type": "execute_result"
    }
   ],
   "source": [
    "F=QQ; T.<x,y,z>=PolynomialRing(F)\n",
    "D4_Quartic_new = x^4 + y^4 + z^4 - 3*x^2*y^2 + x*y*z^2\n",
    "D4_Bitangents_new = compute_normalizedbitangents(D4_Quartic_new)\n",
    "D4_Bitangents_new = [normalize(bitangent) for bitangent in D4_Bitangents_new];D4_Bitangents_new"
   ]
  },
  {
   "cell_type": "markdown",
   "metadata": {},
   "source": [
    "## (VII) Dict"
   ]
  },
  {
   "cell_type": "code",
   "execution_count": null,
   "metadata": {},
   "outputs": [],
   "source": []
  },
  {
   "cell_type": "markdown",
   "metadata": {},
   "source": [
    "## (VII) Orbits"
   ]
  },
  {
   "cell_type": "code",
   "execution_count": 46,
   "metadata": {},
   "outputs": [
    {
     "name": "stdout",
     "output_type": "stream",
     "text": [
      "Orbits of bitangents: [[x + (-0.2087)*y + (-0.9137)*z, x + (-0.2087)*y + 0.9137*z, x + 0.2087*y + 0.9137*I*z, x + 0.2087*y + (-0.9137*I)*z, x + (-4.7913)*y + 4.3778*z, x + (-4.7913)*y + (-4.3778)*z, x + 4.7913*y + (-4.3778*I)*z, x + 4.7913*y + 4.3778*I*z], [x + (-0.5866)*y, x + (-1.7047)*y, x + 1.7047*y, x + 0.5866*y], [x + y + (-0.5916 - 0.3873*I)*z, x - y + (0.3873 - 0.5916*I)*z, x - y + (-0.3873 + 0.5916*I)*z, x + y + (0.5916 + 0.3873*I)*z], [x + y + (0.5916 - 0.3873*I)*z, x - y + (0.3873 + 0.5916*I)*z, x + y + (-0.5916 + 0.3873*I)*z, x - y + (-0.3873 - 0.5916*I)*z], [x + 1.0*I*y + (-0.866 + 0.866*I)*z, x + (-1.0*I)*y + (0.866 + 0.866*I)*z, x + 1.0*I*y + (0.866 - 0.866*I)*z, x + (-1.0*I)*y + (-0.866 - 0.866*I)*z], [x + (-1.0*I)*y + (-1.3229 + 1.3229*I)*z, x + 1.0*I*y + (1.3229 + 1.3229*I)*z, x + (-1.0*I)*y + (1.3229 - 1.3229*I)*z, x + 1.0*I*y + (-1.3229 - 1.3229*I)*z]]\n",
      "\n",
      "Remaining bitangents:\n",
      "\n"
     ]
    }
   ],
   "source": [
    "# Ordered by isotropy, these are all transitive D8-sets\n",
    "trivial = [[2,1,13,12,0,3,14,15]]\n",
    "centerC2 = [[24,25,26,27]]\n",
    "otherC2 = [[4,7,20,23],[22,6,5,21]] # iso4 in GAP\n",
    "yet_another_C2 = [[19,9,8,18],[10,16,17,11]] # iso8 in GAP\n",
    "\n",
    "orbit_indices = trivial + centerC2 + otherC2 + yet_another_C2\n",
    "all_orbit_indices = flatten(orbit_indices)\n",
    "list_of_bitangent_orbits = []\n",
    "for o in orbit_indices:\n",
    "    orbit = []\n",
    "    for b_index in o:\n",
    "        orbit.append(D4_Bitangents_new[b_index])\n",
    "    list_of_bitangent_orbits.append(orbit)\n",
    "\n",
    "# remaining_bitangents = rescaled_C3_Bitangents\n",
    "\n",
    "print('Orbits of bitangents: ' + str(list_of_bitangent_orbits) + '\\n')\n",
    "print('Remaining bitangents:\\n')\n",
    "for j in range(0,len(D4_Bitangents_new)):\n",
    "    if not j in all_orbit_indices:\n",
    "        print(str(j) + ': ' + str(D4_Bitangents_new[j]))"
   ]
  },
  {
   "cell_type": "code",
   "execution_count": 47,
   "metadata": {},
   "outputs": [
    {
     "name": "stdout",
     "output_type": "stream",
     "text": [
      "x + 0.5866*y\n",
      "x + 1.7047*y\n",
      "x + (-0.5866)*y\n",
      "x + (-1.7047)*y\n",
      "I think isotropy is generated by:\n",
      "\n",
      "r2\n"
     ]
    }
   ],
   "source": [
    "investigate_orbit(D4_Bitangents_new[24],D8_dict)"
   ]
  },
  {
   "cell_type": "markdown",
   "metadata": {},
   "source": [
    "# Type VIII: $C_6$<a name=\"C6\"></a>\n",
    "Doing a new equation the second time around:"
   ]
  },
  {
   "cell_type": "code",
   "execution_count": 48,
   "metadata": {},
   "outputs": [
    {
     "data": {
      "text/plain": [
       "[y + (-0.9283)*z,\n",
       " y + (0.4642 + 0.8039*I)*z,\n",
       " y + (0.4642 - 0.8039*I)*z,\n",
       " x + 1.8505*y + (-0.3928)*z,\n",
       " x + (-1.8505)*y + 0.3928*z,\n",
       " x + 0.5613*I*y + 1.1824*I*z,\n",
       " x + (-0.5613*I)*y + (-1.1824*I)*z,\n",
       " x + (0.7076 - 0.2351*I)*y + (-0.5231 - 0.122*I)*z,\n",
       " x + (-0.7076 + 0.2351*I)*y + (0.5231 + 0.122*I)*z,\n",
       " x + (0.7076 + 0.2351*I)*y + (-0.5231 + 0.122*I)*z,\n",
       " x + (-0.7076 - 0.2351*I)*y + (0.5231 - 0.122*I)*z,\n",
       " x + (-0.5613*I)*y + (-1.024 + 0.5912*I)*z,\n",
       " x + 0.5613*I*y + (1.024 - 0.5912*I)*z,\n",
       " x + 0.5613*I*y + (-1.024 - 0.5912*I)*z,\n",
       " x + (-0.5613*I)*y + (1.024 + 0.5912*I)*z,\n",
       " x + (-0.7076 - 0.2351*I)*y + (-0.1559 + 0.514*I)*z,\n",
       " x + (0.7076 + 0.2351*I)*y + (0.1559 - 0.514*I)*z,\n",
       " x + (-0.7076 + 0.2351*I)*y + (-0.1559 - 0.514*I)*z,\n",
       " x + (0.7076 - 0.2351*I)*y + (0.1559 + 0.514*I)*z,\n",
       " x + (-0.7076 + 0.2351*I)*y + (-0.3672 + 0.392*I)*z,\n",
       " x + (0.7076 - 0.2351*I)*y + (0.3672 - 0.392*I)*z,\n",
       " x + (-0.7076 - 0.2351*I)*y + (-0.3672 - 0.392*I)*z,\n",
       " x + (0.7076 + 0.2351*I)*y + (0.3672 + 0.392*I)*z,\n",
       " x + (-1.8505)*y + (-0.1964 - 0.3402*I)*z,\n",
       " x + 1.8505*y + (0.1964 + 0.3402*I)*z,\n",
       " x + (-1.8505)*y + (-0.1964 + 0.3402*I)*z,\n",
       " x + 1.8505*y + (0.1964 - 0.3402*I)*z,\n",
       " y]"
      ]
     },
     "execution_count": 48,
     "metadata": {},
     "output_type": "execute_result"
    }
   ],
   "source": [
    "F=QQ; T.<x,y,z>=PolynomialRing(F)\n",
    "C6_Quartic = z^3*y +x^4 -3*x^2*y^2 +y^4\n",
    "C6_Bitangents = compute_bitangents(C6_Quartic);C6_Bitangents\n",
    "C6_Bitangents = [normalize(bitangent) for bitangent in C6_Bitangents];C6_Bitangents"
   ]
  },
  {
   "cell_type": "markdown",
   "metadata": {},
   "source": [
    "There are some rounding errors so we edit this set by hand:"
   ]
  },
  {
   "cell_type": "code",
   "execution_count": 49,
   "metadata": {},
   "outputs": [],
   "source": [
    "C6_Bitangents=[y + (-0.92831777)*z,\n",
    " y + (0.46415888 + 0.80394677*I)*z,\n",
    " y + (0.46415888 - 0.80394677*I)*z,\n",
    " x + 1.85047*y + (-0.39283)*z,\n",
    " x + (-1.85047)*y + 0.39283*z,\n",
    " x + 0.56125*I*y + 1.18243*I*z,\n",
    " x + (-0.56125*I)*y + (-1.18243*I)*z,\n",
    " x + (0.70756 - 0.23507*I)*y + (-0.52306 - 0.12198*I)*z,\n",
    " x + (-0.70756 + 0.23507*I)*y + (0.52306 + 0.12198*I)*z,\n",
    " x + (0.70756 + 0.23507*I)*y + (-0.52306 + 0.12198*I)*z,\n",
    " x + (-0.70756 - 0.23507*I)*y + (0.52306 - 0.12198*I)*z,\n",
    " x + (-0.56125*I)*y + (-1.02401 + 0.59121*I)*z,\n",
    " x + 0.56125*I*y + (1.02401 - 0.59121*I)*z,\n",
    " x + 0.56125*I*y + (-1.02401 - 0.59121*I)*z,\n",
    " x + (-0.56125*I)*y + (1.02401 + 0.59121*I)*z,\n",
    " x + (-0.70756 - 0.23507*I)*y + (-0.15589 + 0.51397*I)*z,\n",
    " x + (0.70756 + 0.23507*I)*y + (0.15589 - 0.51397*I)*z,\n",
    " x + (-0.70756 + 0.23507*I)*y + (-0.15589 - 0.51397*I)*z,\n",
    " x + (0.70756 - 0.23507*I)*y + (0.15589 + 0.51397*I)*z,\n",
    " x + (-0.70756 + 0.23507*I)*y + (-0.36717 + 0.39199*I)*z,\n",
    " x + (0.70756 - 0.23507*I)*y + (0.36717 - 0.39199*I)*z,\n",
    " x + (-0.70756 - 0.23507*I)*y + (-0.36717 - 0.39199*I)*z,\n",
    " x + (0.70756 + 0.23507*I)*y + (0.36717 + 0.39199*I)*z,\n",
    " x + (-1.85047)*y + (-0.19641 - 0.3402*I)*z,\n",
    " x + 1.85047*y + (0.19641 + 0.3402*I)*z,\n",
    " x + (-1.85047)*y + (-0.19641 + 0.3402*I)*z,\n",
    " x + 1.85047*y + (0.19641 - 0.3402*I)*z,\n",
    " y]"
   ]
  },
  {
   "cell_type": "code",
   "execution_count": 50,
   "metadata": {},
   "outputs": [],
   "source": [
    "# C6 = <r> so the elements are ordered so that dict['ri'] = r^i\n",
    "C6_elts = [\n",
    "    [[1,0,0],[0,1,0],[0,0,1]],\n",
    "    [ [ -1, 0, 0 ], [ 0, 1, 0 ], [ 0, 0, E(3) ] ],\n",
    "    [ [ 1, 0, 0 ], [ 0, 1, 0 ], [ 0, 0, E(3)^2 ] ],\n",
    "    [ [ -1, 0, 0 ], [ 0, 1, 0 ], [ 0, 0, 1 ] ],\n",
    "    [ [ 1, 0, 0 ], [ 0, 1, 0 ], [ 0, 0, E(3) ] ],\n",
    "    [ [ -1, 0, 0 ], [ 0, 1, 0 ], [ 0, 0, E(3)^2 ] ]\n",
    "]\n",
    "\n",
    "\n",
    "keys = ['r' + str(j) for j in range(0,6)]\n",
    "C6_dict = {}\n",
    "for j in range(0,6):\n",
    "    C6_dict.update({keys[j]:matrix(CC,C6_elts[j],immutable=True)});"
   ]
  },
  {
   "cell_type": "markdown",
   "metadata": {},
   "source": [
    "## (VIII) Orbits:"
   ]
  },
  {
   "cell_type": "code",
   "execution_count": 51,
   "metadata": {},
   "outputs": [
    {
     "name": "stdout",
     "output_type": "stream",
     "text": [
      "Orbits of bitangents: [[x + 1.85047000000000*y + (0.196410000000000 + 0.340200000000000*I)*z, x + 1.85047000000000*y + (0.196410000000000 - 0.340200000000000*I)*z, x + 1.85047000000000*y - 0.392830000000000*z, x + (-1.85047000000000)*y + (-0.196410000000000 + 0.340200000000000*I)*z, x - 1.85047000000000*y + 0.392830000000000*z, x + (-1.85047000000000)*y + (-0.196410000000000 - 0.340200000000000*I)*z], [x + (-0.561250000000000*I)*y + (-1.18243000000000*I)*z, x + (-0.561250000000000*I)*y + (-1.02401000000000 + 0.591210000000000*I)*z, x + (-0.561250000000000*I)*y + (1.02401000000000 + 0.591210000000000*I)*z, x + 0.561250000000000*I*y + (-1.02401000000000 - 0.591210000000000*I)*z, x + 0.561250000000000*I*y + (1.02401000000000 - 0.591210000000000*I)*z, x + 0.561250000000000*I*y + 1.18243000000000*I*z], [x + (0.707560000000000 - 0.235070000000000*I)*y + (-0.523060000000000 - 0.121980000000000*I)*z, x + (0.707560000000000 - 0.235070000000000*I)*y + (0.367170000000000 - 0.391990000000000*I)*z, x + (0.707560000000000 - 0.235070000000000*I)*y + (0.155890000000000 + 0.513970000000000*I)*z, x + (-0.707560000000000 + 0.235070000000000*I)*y + (-0.367170000000000 + 0.391990000000000*I)*z, x + (-0.707560000000000 + 0.235070000000000*I)*y + (0.523060000000000 + 0.121980000000000*I)*z, x + (-0.707560000000000 + 0.235070000000000*I)*y + (-0.155890000000000 - 0.513970000000000*I)*z], [x + (0.707560000000000 + 0.235070000000000*I)*y + (0.155890000000000 - 0.513970000000000*I)*z, x + (0.707560000000000 + 0.235070000000000*I)*y + (-0.523060000000000 + 0.121980000000000*I)*z, x + (-0.707560000000000 - 0.235070000000000*I)*y + (0.523060000000000 - 0.121980000000000*I)*z, x + (0.707560000000000 + 0.235070000000000*I)*y + (0.367170000000000 + 0.391990000000000*I)*z, x + (-0.707560000000000 - 0.235070000000000*I)*y + (-0.155890000000000 + 0.513970000000000*I)*z, x + (-0.707560000000000 - 0.235070000000000*I)*y + (-0.367170000000000 - 0.391990000000000*I)*z], [y - 0.928317770000000*z, y + (0.464158880000000 + 0.803946770000000*I)*z, y + (0.464158880000000 - 0.803946770000000*I)*z]]\n",
      "\n",
      "Remaining bitangents:\n",
      "\n",
      "27: y\n"
     ]
    }
   ],
   "source": [
    "e_isotropy = [[24,26,3,25,4,23],[6,11,14,13,12,5],[7,20,18,19,8,17],[16,9,10,22,15,21]]\n",
    "C2_isotropy = [[0,1,2]]\n",
    "\n",
    "orbit_indices = e_isotropy + C2_isotropy\n",
    "all_orbit_indices = flatten(orbit_indices)\n",
    "list_of_bitangent_orbits = []\n",
    "for o in orbit_indices:\n",
    "    orbit = []\n",
    "    for b_index in o:\n",
    "        orbit.append(C6_Bitangents[b_index])\n",
    "    list_of_bitangent_orbits.append(orbit)\n",
    "\n",
    "print('Orbits of bitangents: ' + str(list_of_bitangent_orbits) + '\\n')\n",
    "print('Remaining bitangents:\\n')\n",
    "for j in range(0,len(C6_Bitangents)):\n",
    "    if not j in all_orbit_indices:\n",
    "        print(str(j) + ': ' + str(C6_Bitangents[j]))"
   ]
  },
  {
   "cell_type": "code",
   "execution_count": 52,
   "metadata": {},
   "outputs": [
    {
     "name": "stdout",
     "output_type": "stream",
     "text": [
      "y\n",
      "I think isotropy is generated by:\n",
      "\n",
      "r0\n",
      "r1\n",
      "r2\n",
      "r3\n",
      "r4\n",
      "r5\n"
     ]
    }
   ],
   "source": [
    "investigate_orbit(C6_Bitangents[27],C6_dict)"
   ]
  },
  {
   "cell_type": "markdown",
   "metadata": {},
   "source": [
    "# Type IX: The $S_3$ quartic<a name=\"S3\"></a>\n",
    "We have an $S_3$-symmetric quartic with equation\n",
    "$$X^3Z + Y^3 Z + X^2 Y^2 + aXYZ^2 + bZ^4$$\n",
    "and symmetries ..."
   ]
  },
  {
   "cell_type": "markdown",
   "metadata": {},
   "source": [
    "## (IX) Old"
   ]
  },
  {
   "cell_type": "code",
   "execution_count": 53,
   "metadata": {},
   "outputs": [],
   "source": [
    "S3_Quartic = x^3 * z + y^3 * z + x^2 * y^2 - x*y*z^2 + z^4\n",
    "S3_Bitangents = compute_bitangents(S3_Quartic)\n",
    "S3_Bitangents = [normalize(bitangent) for bitangent in S3_Bitangents]\n",
    "\n",
    "rho = exp(2*pi*i/3)\n",
    "\n",
    "cycle1 = matrix(CC,[[rho,0,0],[0,rho^2,0],[0,0,1]])\n",
    "transp1 = matrix([[0,1,0],[1,0,0],[0,0,1]])\n",
    "transp2 = cycle1*transp1\n",
    "transp3 = cycle1*cycle1*transp1\n",
    "cycle2 = cycle1*cycle1"
   ]
  },
  {
   "cell_type": "code",
   "execution_count": 54,
   "metadata": {},
   "outputs": [],
   "source": [
    "orbit1 = [[2]]\n",
    "orbit2 = []\n",
    "orbit3 = [[0,26,27],[1,18,19],[3,8,9]]\n",
    "orbit6 = [[4,5,16,23,22,17],[6,14,21,13,24,11],[7,15,12,20,10,25]]\n",
    "orbit_indices = orbit1 + orbit2 + orbit3 + orbit6\n",
    "all_orbit_indices = flatten(orbit_indices)\n",
    "# Get the running list of orbits that we have\n",
    "list_of_bitangent_orbits = []\n",
    "for o in orbit_indices:\n",
    "    orbit = []\n",
    "    for b_index in o:\n",
    "        orbit.append(S3_Bitangents[b_index])\n",
    "    list_of_bitangent_orbits.append(orbit)\n",
    "\n",
    "# remaining_bitangents = rescaled_C3_Bitangents\n",
    "\n",
    "# print('Orbits of bitangents: ' + str(list_of_bitangent_orbits) + '\\n')\n",
    "# print('Remaining bitangents:\\n')\n",
    "# for j in range(0,len(S3_Bitangents)):\n",
    "#     if not j in all_orbit_indices:\n",
    "#         print(str(j) + ': ' + str(S3_Bitangents[j]))"
   ]
  },
  {
   "cell_type": "markdown",
   "metadata": {},
   "source": [
    "So we get orbits:\n",
    "$$[S_3/S_3] + 3[S_3/C_2] + 3[S_3/e]$$"
   ]
  },
  {
   "cell_type": "markdown",
   "metadata": {},
   "source": [
    "## (IX) New"
   ]
  },
  {
   "cell_type": "code",
   "execution_count": 55,
   "metadata": {},
   "outputs": [
    {
     "data": {
      "image/png": "[encoded data removed]",
      "text/plain": [
       "Graphics object consisting of 1 graphics primitive"
      ]
     },
     "execution_count": 55,
     "metadata": {},
     "output_type": "execute_result"
    }
   ],
   "source": [
    "# S3_Quartic_new = x^3 * z + y^3 * z + x^2 * y^2 - 25*x*y*z^2 + 10*z^4\n",
    "R.<x,y> = PolynomialRing(RR)\n",
    "maxval=10\n",
    "S3_Quartic_new_affine = x^3 + y^3 + x^2 * y^2 - 25*x*y + 10\n",
    "implicit_plot(S3_Quartic_new_affine,(-maxval,maxval),(-maxval,maxval),color='black')"
   ]
  },
  {
   "cell_type": "code",
   "execution_count": 56,
   "metadata": {},
   "outputs": [
    {
     "data": {
      "text/plain": [
       "[x + 5.986*y + (-3.5969)*z,\n",
       " x + 0.1671*y + (-0.6009)*z,\n",
       " x + 21.3313*y + (-111.3802)*z,\n",
       " x + y + (-8.5938)*z,\n",
       " x + 0.0469*y + (-5.2214)*z,\n",
       " z,\n",
       " x + 0.2806*y + 0.5977*z,\n",
       " x + 3.5635*y + 2.1298*z,\n",
       " x + (-1.7818 - 3.0861*I)*y + (-1.0649 + 1.8444*I)*z,\n",
       " x + (-1.7818 + 3.0861*I)*y + (-1.0649 - 1.8444*I)*z,\n",
       " x + (-0.1403 - 0.243*I)*y + (-0.2988 + 0.5176*I)*z,\n",
       " x + (-0.1403 + 0.243*I)*y + (-0.2988 - 0.5176*I)*z,\n",
       " x + (-0.5 - 0.866*I)*y + (0.6983 + 4.0658*I)*z,\n",
       " x + (-0.5 + 0.866*I)*y + (0.6983 - 4.0658*I)*z,\n",
       " x + (-0.0234 + 0.0406*I)*y + (2.6107 + 4.5219*I)*z,\n",
       " x + (-0.0234 - 0.0406*I)*y + (2.6107 - 4.5219*I)*z,\n",
       " x + (-0.5 - 0.866*I)*y + (-3.8702 + 1.4282*I)*z,\n",
       " x + (-0.5 + 0.866*I)*y + (-3.8702 - 1.4282*I)*z,\n",
       " x + (-0.5 + 0.866*I)*y + (4.2969 + 7.4425*I)*z,\n",
       " x + (-0.5 - 0.866*I)*y + (4.2969 - 7.4425*I)*z,\n",
       " x + (-10.6656 + 18.4734*I)*y + (55.6901 + 96.458*I)*z,\n",
       " x + (-10.6656 - 18.4734*I)*y + (55.6901 - 96.458*I)*z,\n",
       " x + (-0.0835 + 0.1447*I)*y + (0.3004 + 0.5204*I)*z,\n",
       " x + (-0.0835 - 0.1447*I)*y + (0.3004 - 0.5204*I)*z,\n",
       " x + y + (3.1719 - 2.6376*I)*z,\n",
       " x + y + (3.1719 + 2.6376*I)*z,\n",
       " x + (-2.993 + 5.1841*I)*y + (1.7985 + 3.115*I)*z,\n",
       " x + (-2.993 - 5.1841*I)*y + (1.7985 - 3.115*I)*z]"
      ]
     },
     "execution_count": 56,
     "metadata": {},
     "output_type": "execute_result"
    }
   ],
   "source": [
    "F=QQ; T.<x,y,z>=PolynomialRing(F)\n",
    "S3_Quartic_new = x^3 * z + y^3 * z + x^2 * y^2 - 25*x*y*z^2 + 10*z^4\n",
    "S3_Bitangents = compute_bitangents(S3_Quartic_new)\n",
    "S3_Bitangents = [normalize(bitangent) for bitangent in S3_Bitangents];S3_Bitangents"
   ]
  },
  {
   "cell_type": "markdown",
   "metadata": {},
   "source": [
    "## (IX) Dictionary"
   ]
  },
  {
   "cell_type": "code",
   "execution_count": 57,
   "metadata": {},
   "outputs": [],
   "source": [
    "S3_elts=[ [ [ 0, 1, 0 ], [ 1, 0, 0 ], [ 0, 0, 1 ] ],\n",
    "  [ [ 0, E(3)^2, 0 ], [ E(3), 0, 0 ], [ 0, 0, 1 ] ],\n",
    "  [ [ 0, E(3), 0 ], [ E(3)^2, 0, 0 ], [ 0, 0, 1 ] ],\n",
    "  [ [ 1, 0, 0 ], [ 0, 1, 0 ], [ 0, 0, 1 ] ],\n",
    "  [ [ E(3)^2, 0, 0 ], [ 0, E(3), 0 ], [ 0, 0, 1 ] ],\n",
    "  [ [ E(3), 0, 0 ], [ 0, E(3)^2, 0 ], [ 0, 0, 1 ] ] ];\n",
    "\n",
    "keys = ['r' + str(j) for j in range(0,6)]\n",
    "S3_dict = {}\n",
    "for j in range(0,6):\n",
    "    S3_dict.update({keys[j]:matrix(CC,S3_elts[j],immutable=True)});"
   ]
  },
  {
   "cell_type": "markdown",
   "metadata": {},
   "source": [
    "## (IX) Orbits"
   ]
  },
  {
   "cell_type": "code",
   "execution_count": 58,
   "metadata": {},
   "outputs": [
    {
     "name": "stdout",
     "output_type": "stream",
     "text": [
      "Orbits of bitangents: [[y + (0.464158880000000 + 0.803946770000000*I)*z, x + (-1.85047000000000)*y + (-0.196410000000000 - 0.340200000000000*I)*z, x + (0.707560000000000 + 0.235070000000000*I)*y + (0.367170000000000 + 0.391990000000000*I)*z, x + 1.85047000000000*y + (0.196410000000000 - 0.340200000000000*I)*z, y, y - 0.928317770000000*z], [x + (-0.561250000000000*I)*y + (1.02401000000000 + 0.591210000000000*I)*z, x + (-0.707560000000000 - 0.235070000000000*I)*y + (-0.367170000000000 - 0.391990000000000*I)*z, x + (-0.707560000000000 - 0.235070000000000*I)*y + (-0.155890000000000 + 0.513970000000000*I)*z, x + (0.707560000000000 - 0.235070000000000*I)*y + (0.367170000000000 - 0.391990000000000*I)*z, y + (0.464158880000000 - 0.803946770000000*I)*z, x - 1.85047000000000*y + 0.392830000000000*z], [x + (-0.561250000000000*I)*y + (-1.18243000000000*I)*z, x + (-0.707560000000000 - 0.235070000000000*I)*y + (0.523060000000000 - 0.121980000000000*I)*z, x + (-0.561250000000000*I)*y + (-1.02401000000000 + 0.591210000000000*I)*z, x + (-0.707560000000000 + 0.235070000000000*I)*y + (0.523060000000000 + 0.121980000000000*I)*z, x + (0.707560000000000 - 0.235070000000000*I)*y + (-0.523060000000000 - 0.121980000000000*I)*z, x + (0.707560000000000 + 0.235070000000000*I)*y + (-0.523060000000000 + 0.121980000000000*I)*z], [x + (0.707560000000000 - 0.235070000000000*I)*y + (0.155890000000000 + 0.513970000000000*I)*z, x + (-0.707560000000000 + 0.235070000000000*I)*y + (-0.367170000000000 + 0.391990000000000*I)*z, x + 1.85047000000000*y - 0.392830000000000*z], [x + 0.561250000000000*I*y + (1.02401000000000 - 0.591210000000000*I)*z, x + 1.85047000000000*y + (0.196410000000000 + 0.340200000000000*I)*z, x + (-0.707560000000000 + 0.235070000000000*I)*y + (-0.155890000000000 - 0.513970000000000*I)*z], [x + (0.707560000000000 + 0.235070000000000*I)*y + (0.155890000000000 - 0.513970000000000*I)*z, x + (-1.85047000000000)*y + (-0.196410000000000 + 0.340200000000000*I)*z, x + 0.561250000000000*I*y + (-1.02401000000000 - 0.591210000000000*I)*z]]\n",
      "\n",
      "Remaining bitangents:\n",
      "\n",
      "5: z\n"
     ]
    }
   ],
   "source": [
    "triv_orbit = [[1,23,22,26,27,0],[14,21,15,20,2,4],[6,10,11,8,7,9]]\n",
    "C2_orbit = [[18,19,3],[12,24,17],[16,25,13]]\n",
    "S3_orbit = [[5]]\n",
    "\n",
    "orbit_indices = triv_orbit + C2_orbit\n",
    "all_orbit_indices = flatten(orbit_indices)\n",
    "list_of_bitangent_orbits = []\n",
    "for o in orbit_indices:\n",
    "    orbit = []\n",
    "    for b_index in o:\n",
    "        orbit.append(C6_Bitangents[b_index])\n",
    "    list_of_bitangent_orbits.append(orbit)\n",
    "\n",
    "print('Orbits of bitangents: ' + str(list_of_bitangent_orbits) + '\\n')\n",
    "print('Remaining bitangents:\\n')\n",
    "for j in range(0,len(S3_Bitangents)):\n",
    "    if not j in all_orbit_indices:\n",
    "        print(str(j) + ': ' + str(S3_Bitangents[j]))"
   ]
  },
  {
   "cell_type": "code",
   "execution_count": 59,
   "metadata": {},
   "outputs": [
    {
     "name": "stdout",
     "output_type": "stream",
     "text": [
      "x + (-0.5 - 0.866*I)*y + (-3.8703 + 1.4282*I)*z\n",
      "x + (-0.5 - 0.866*I)*y + (-3.8702 + 1.4282*I)*z\n",
      "x + y + (3.172 + 2.6377*I)*z\n",
      "x + (-0.5 + 0.8661*I)*y + (0.6983 - 4.0659*I)*z\n",
      "x + (-0.5 + 0.866*I)*y + (0.6983 - 4.0658*I)*z\n",
      "x + y + (3.1719 + 2.6376*I)*z\n",
      "I think isotropy is generated by:\n",
      "\n",
      "r3\n"
     ]
    }
   ],
   "source": [
    "investigate_orbit(S3_Bitangents[13],S3_dict)"
   ]
  },
  {
   "cell_type": "markdown",
   "metadata": {},
   "source": [
    "# Type X: The $K_4$ quartic<a name=\"K4\"></a>\n",
    "We now look at a quartic with an action by the Klein four group, given by the equation $$X^4 + Y^4 + Z^4 + aX^2 Y^2 + bY^2Z^2 + c Z^2 X^2$$ with action given by $$\\text{diag}[-1,1,1] \\qquad \\text{and}\\qquad \\text{diag}[1,-1,1]$$"
   ]
  },
  {
   "cell_type": "markdown",
   "metadata": {},
   "source": [
    "## Old"
   ]
  },
  {
   "cell_type": "code",
   "execution_count": 60,
   "metadata": {},
   "outputs": [
    {
     "name": "stdout",
     "output_type": "stream",
     "text": [
      "Orbits of bitangents: [[y + (-0.5774 - 0.8165*I)*z, y + (-0.5774 + 0.8165*I)*z], [y + (0.5774 + 0.8165*I)*z, y + (0.5774 - 0.8165*I)*z], [x + (-0.5774 - 0.8165*I)*z, x + (0.5774 + 0.8165*I)*z], [x + (-0.5774 + 0.8165*I)*z, x + (0.5774 - 0.8165*I)*z], [x + (-0.5774 - 0.8165*I)*y, x + (0.5774 + 0.8165*I)*y], [x + (-0.5774 + 0.8165*I)*y, x + (0.5774 - 0.8165*I)*y], [x + y - z, x - y + z, x - y - z, x + y + z], [x + (-1.4142*I)*y - z, x + 1.4142*I*y + z, x + 1.4142*I*y - z, x + (-1.4142*I)*y + z], [x + y + 1.4142*I*z, x - y + (-1.4142*I)*z, x - y + 1.4142*I*z, x + y + (-1.4142*I)*z], [x + 0.7071*I*y + (-0.7071*I)*z, x + (-0.7071*I)*y + 0.7071*I*z, x + (-0.7071*I)*y + (-0.7071*I)*z, x + 0.7071*I*y + 0.7071*I*z]]\n",
      "\n",
      "Remaining bitangents:\n",
      "\n"
     ]
    }
   ],
   "source": [
    "K4_Quartic = x^4 + y^4 + z^4 + x^2*y^2 + y^2*z^2 + z^2*x^2\n",
    "K4_Bitangents = compute_bitangents(K4_Quartic)\n",
    "K4_Bitangents = [normalize(bitangent) for bitangent in K4_Bitangents]\n",
    "\n",
    "# There are three subgroups of K4, the left, middle, and diagonal copies of C2\n",
    "left_generator = matrix([[-1,0,0],[0,1,0],[0,0,1]])\n",
    "right_generator = matrix([[1,0,0],[0,-1,0],[0,0,1]])\n",
    "diagonal_generator = matrix([[-1,0,0],[0,-1,0],[0,0,1]])\n",
    "\n",
    "# Make different lists to indicate different isotropy subgroups\n",
    "left_isotropy_indices = [[0,1],[2,3]]\n",
    "right_isotropy_indices = [[16,18],[17,19]]\n",
    "diagonal_isotropy_indices = [[24,26],[25,27]]\n",
    "remaining_orbits = [[12,13,20,21],[4,5,6,7],[8,9,10,11],[14,15,22,23]]\n",
    "orbit_indices = left_isotropy_indices + right_isotropy_indices + diagonal_isotropy_indices + remaining_orbits\n",
    "# Flatten the union\n",
    "all_orbit_indices = flatten(orbit_indices)\n",
    "\n",
    "# Get the running list of orbits that we have\n",
    "list_of_bitangent_orbits = []\n",
    "for o in orbit_indices:\n",
    "    orbit = []\n",
    "    for b_index in o:\n",
    "        orbit.append(K4_Bitangents[b_index])\n",
    "    list_of_bitangent_orbits.append(orbit)\n",
    "\n",
    "# remaining_bitangents = rescaled_C3_Bitangents\n",
    "\n",
    "print('Orbits of bitangents: ' + str(list_of_bitangent_orbits) + '\\n')\n",
    "print('Remaining bitangents:\\n')\n",
    "for j in range(0,len(K4_Bitangents)):\n",
    "    if not j in all_orbit_indices:\n",
    "        print(str(j) + ': ' + str(K4_Bitangents[j]))"
   ]
  },
  {
   "cell_type": "code",
   "execution_count": 61,
   "metadata": {},
   "outputs": [
    {
     "name": "stdout",
     "output_type": "stream",
     "text": [
      "x + (-0.5774 + 0.8165*I)*y\n",
      "x + (0.5774 - 0.8165*I)*y\n",
      "x + (0.5774 - 0.8165*I)*y\n",
      "x + (-0.5774 + 0.8165*I)*y\n",
      "I think isotropy is generated by:\n",
      "\n",
      "[-1  0  0]\n",
      "[ 0 -1  0]\n",
      "[ 0  0  1]\n"
     ]
    }
   ],
   "source": [
    "candidate_orbit(K4_Bitangents[25],[left_generator,right_generator,diagonal_generator])"
   ]
  },
  {
   "cell_type": "markdown",
   "metadata": {},
   "source": [
    "So the orbits for bitangents on our $K_4$-equivariant quartic have the form\n",
    "$$2[K_4/C_2^L] + 2[K_4/C_2^\\Delta] + 2[K_4/C_2^R] + 4[K_4/e]$$"
   ]
  },
  {
   "cell_type": "markdown",
   "metadata": {},
   "source": [
    "## (X) New"
   ]
  },
  {
   "cell_type": "code",
   "execution_count": 62,
   "metadata": {},
   "outputs": [
    {
     "data": {
      "text/plain": [
       "[y + (-0.7184*I)*z,\n",
       " y + 0.7184*I*z,\n",
       " y + 1.2288*I*z,\n",
       " y + (-1.2288*I)*z,\n",
       " x + 2.4988*y + (-1.5687)*z,\n",
       " x + (-2.4988)*y + 1.5687*z,\n",
       " x + 0.655*y + (-0.6375)*z,\n",
       " x + (-0.655)*y + 0.6375*z,\n",
       " x + 0.4002*y + (-0.4112)*z,\n",
       " x + (-0.4002)*y + 0.4112*z,\n",
       " x + 1.5268*y + (-2.432)*z,\n",
       " x + (-1.5268)*y + 2.432*z,\n",
       " x + (-1.5268)*y + (-2.432)*z,\n",
       " x + 1.5268*y + 2.432*z,\n",
       " x + (-0.4002)*y + (-0.4112)*z,\n",
       " x + 0.4002*y + 0.4112*z,\n",
       " x + (-0.655)*y + (-0.6375)*z,\n",
       " x + 0.655*y + 0.6375*z,\n",
       " x + (-2.4988)*y + (-1.5687)*z,\n",
       " x + 2.4988*y + 1.5687*z,\n",
       " x + (-0.2481*I)*z,\n",
       " x + 0.2481*I*z,\n",
       " x + 1.0273*I*z,\n",
       " x + (-1.0273*I)*z,\n",
       " x + (-0.2496*I)*y,\n",
       " x + 0.2496*I*y,\n",
       " x + 1.1566*I*y,\n",
       " x + (-1.1566*I)*y]"
      ]
     },
     "execution_count": 62,
     "metadata": {},
     "output_type": "execute_result"
    }
   ],
   "source": [
    "F=QQ; T.<x,y,z>=PolynomialRing(F)\n",
    "\n",
    "K4_Quartic_new = x^4 + y^4 + z^4 -9*x^2*y^2 - 3*y^2*z^2 - 8*x^2*z^2\n",
    "\n",
    "K4_Bitangents_new = compute_bitangents(K4_Quartic_new)\n",
    "K4_Bitangents_new = [normalize(bitangent) for bitangent in K4_Bitangents_new];K4_Bitangents_new"
   ]
  },
  {
   "cell_type": "markdown",
   "metadata": {},
   "source": [
    "## (X) Dictionary"
   ]
  },
  {
   "cell_type": "code",
   "execution_count": 63,
   "metadata": {},
   "outputs": [],
   "source": [
    "K4_dict = {}\n",
    "K4_dict.update({'id':matrix(CC,[[1,0,0],[0,1,0],[0,0,1]],immutable=True)})\n",
    "K4_dict.update({'leftgen':matrix(CC,[[-1,0,0],[0,1,0],[0,0,1]],immutable=True)})\n",
    "K4_dict.update({'rightgen':matrix(CC,[[1,0,0],[0,-1,0],[0,0,1]],immutable=True)})\n",
    "K4_dict.update({'diaggen':matrix(CC,[[-1,0,0],[0,-1,0],[0,0,1]],immutable=True)})"
   ]
  },
  {
   "cell_type": "markdown",
   "metadata": {},
   "source": [
    "## (X) Orbits"
   ]
  },
  {
   "cell_type": "code",
   "execution_count": 64,
   "metadata": {},
   "outputs": [
    {
     "name": "stdout",
     "output_type": "stream",
     "text": [
      "Orbits of bitangents: []\n",
      "\n",
      "Remaining bitangents:\n",
      "\n",
      "0: y + (-0.7184*I)*z\n",
      "1: y + 0.7184*I*z\n",
      "2: y + 1.2288*I*z\n",
      "3: y + (-1.2288*I)*z\n",
      "4: x + 2.4988*y + (-1.5687)*z\n",
      "5: x + (-2.4988)*y + 1.5687*z\n",
      "6: x + 0.655*y + (-0.6375)*z\n",
      "7: x + (-0.655)*y + 0.6375*z\n",
      "8: x + 0.4002*y + (-0.4112)*z\n",
      "9: x + (-0.4002)*y + 0.4112*z\n",
      "10: x + 1.5268*y + (-2.432)*z\n",
      "11: x + (-1.5268)*y + 2.432*z\n",
      "12: x + (-1.5268)*y + (-2.432)*z\n",
      "13: x + 1.5268*y + 2.432*z\n",
      "14: x + (-0.4002)*y + (-0.4112)*z\n",
      "15: x + 0.4002*y + 0.4112*z\n",
      "16: x + (-0.655)*y + (-0.6375)*z\n",
      "17: x + 0.655*y + 0.6375*z\n",
      "18: x + (-2.4988)*y + (-1.5687)*z\n",
      "19: x + 2.4988*y + 1.5687*z\n",
      "20: x + (-0.2481*I)*z\n",
      "21: x + 0.2481*I*z\n",
      "22: x + 1.0273*I*z\n",
      "23: x + (-1.0273*I)*z\n",
      "24: x + (-0.2496*I)*y\n",
      "25: x + 0.2496*I*y\n",
      "26: x + 1.1566*I*y\n",
      "27: x + (-1.1566*I)*y\n"
     ]
    }
   ],
   "source": [
    "# e_orb = [[4,5,18,19],[6,7,16,17],[8,9,14,15],[10,11,12,13],[20,21,24,25]]\n",
    "# C2L = [[0,1],[2,3]]\n",
    "# C2R = [[22,23],[26,27]]\n",
    "\n",
    "orbit_indices = []\n",
    "# Flatten the union\n",
    "all_orbit_indices = flatten(orbit_indices)\n",
    "\n",
    "# Get the running list of orbits that we have\n",
    "list_of_bitangent_orbits = []\n",
    "for o in orbit_indices:\n",
    "    orbit = []\n",
    "    for b_index in o:\n",
    "        orbit.append(K4_Bitangents_new[b_index])\n",
    "    list_of_bitangent_orbits.append(orbit)\n",
    "\n",
    "print('Orbits of bitangents: ' + str(list_of_bitangent_orbits) + '\\n')\n",
    "print('Remaining bitangents:\\n')\n",
    "for j in range(0,len(K4_Bitangents_new)):\n",
    "    if not j in all_orbit_indices:\n",
    "        print(str(j) + ': ' + str(K4_Bitangents_new[j]))"
   ]
  },
  {
   "cell_type": "code",
   "execution_count": 65,
   "metadata": {},
   "outputs": [
    {
     "name": "stdout",
     "output_type": "stream",
     "text": [
      "x + 0.2496*I*y\n",
      "x + (-0.2496*I)*y\n",
      "I think isotropy is generated by:\n",
      "\n",
      "id\n",
      "diaggen\n"
     ]
    }
   ],
   "source": [
    "investigate_orbit(K4_Bitangents_new[24],K4_dict)"
   ]
  },
  {
   "cell_type": "markdown",
   "metadata": {},
   "source": [
    "# Type XI: The $C_3$ quartic<a name=\"C3\"></a>\n",
    "The first one we're trying is the one with automorphism group $C_3$ which we will call `C3_Quartic`. The associated list of bitangents is `C3_Bitangents`."
   ]
  },
  {
   "cell_type": "code",
   "execution_count": 66,
   "metadata": {},
   "outputs": [],
   "source": [
    "C3_Quartic = z^3*y + x*(x-y)*(x-2*y)*(x-3*y)\n",
    "C3_Bitangents = compute_bitangents(C3_Quartic)\n",
    "rescaled_C3_Bitangents = [normalize(bitangent) for bitangent in C3_Bitangents]\n",
    "# for j in range(0,len(rescaled_C3_Bitangents)):\n",
    "#     print(str(j) + ': ' + str(rescaled_C3_Bitangents[j]))"
   ]
  },
  {
   "cell_type": "code",
   "execution_count": 67,
   "metadata": {},
   "outputs": [
    {
     "name": "stdout",
     "output_type": "stream",
     "text": [
      "Orbits of bitangents: [[y - z, y + (0.5 - 0.866*I)*z, y + (0.5 + 0.866*I)*z], [x + 0.2196*y + (-0.4022)*z, x + 0.2196*y + (0.2011 - 0.3483*I)*z, x + 0.2196*y + (0.2011 + 0.3483*I)*z], [x + (-1.5 - 0.482*I)*y + (0.983 + 0.5675*I)*z, x + (-1.5 - 0.482*I)*y + (-1.135*I)*z, x + (-1.5 - 0.482*I)*y + (-0.983 + 0.5675*I)*z], [x + (-3.2196)*y + 0.4022*z, x + (-3.2196)*y + (-0.2011 + 0.3483*I)*z, x + (-3.2196)*y + (-0.2011 - 0.3483*I)*z], [x + (-2.09 + 0.2091*I)*y + (0.5447 + 0.1393*I)*z, x + (-2.09 + 0.2091*I)*y + (-0.1518 - 0.5414*I)*z, x + (-2.09 + 0.2091*I)*y + (-0.393 + 0.4021*I)*z], [y], [x + (-2.09 - 0.2091*I)*y + (0.5447 - 0.1393*I)*z, x + (-2.09 - 0.2091*I)*y + (-0.1518 + 0.5414*I)*z, x + (-2.09 - 0.2091*I)*y + (-0.393 - 0.4021*I)*z], [x + (-1.5 + 0.482*I)*y + (0.983 - 0.5675*I)*z, x + (-1.5 + 0.482*I)*y + 1.135*I*z, x + (-1.5 + 0.482*I)*y + (-0.983 - 0.5675*I)*z], [x + (-0.91 + 0.2091*I)*y + (0.393 + 0.4021*I)*z, x + (-0.91 + 0.2091*I)*y + (0.1518 - 0.5414*I)*z, x + (-0.91 + 0.2091*I)*y + (-0.5447 + 0.1393*I)*z], [x + (-0.91 - 0.2091*I)*y + (0.393 - 0.4021*I)*z, x + (-0.91 - 0.2091*I)*y + (0.1518 + 0.5414*I)*z, x + (-0.91 - 0.2091*I)*y + (-0.5447 - 0.1393*I)*z]]\n",
      "\n",
      "Remaining bitangents:\n",
      "\n"
     ]
    }
   ],
   "source": [
    "# The action generating the C3 orbit\n",
    "rho = exp(2*pi*i/3)\n",
    "M = matrix([[1,0,0],[0,1,0],[0,0,rho]])\n",
    "\n",
    "orbit_indices = [[1,15,16],[2,11,12],[5,14,19],[0,25,26],[3,18,23],[27],[4,17,24],[6,13,20],[7,10,21],[8,9,22]]\n",
    "all_orbit_indices = flatten(orbit_indices)\n",
    "\n",
    "# Get the running list of orbits that we have\n",
    "list_of_bitangent_orbits = []\n",
    "for o in orbit_indices:\n",
    "    orbit = []\n",
    "    for b_index in o:\n",
    "        orbit.append(rescaled_C3_Bitangents[b_index])\n",
    "    list_of_bitangent_orbits.append(orbit)\n",
    "\n",
    "# remaining_bitangents = rescaled_C3_Bitangents\n",
    "\n",
    "# gp_action(M,rescaled_C3_Bitangents[22])\n",
    "print('Orbits of bitangents: ' + str(list_of_bitangent_orbits) + '\\n')\n",
    "print('Remaining bitangents:\\n')\n",
    "for j in range(0,len(rescaled_C3_Bitangents)):\n",
    "    if not j in all_orbit_indices:\n",
    "        print(str(j) + ': ' + str(rescaled_C3_Bitangents[j]))"
   ]
  },
  {
   "cell_type": "markdown",
   "metadata": {
    "jp-MarkdownHeadingCollapsed": true
   },
   "source": [
    "Okay so now we know the orbits of the $C_3$-equivariant quartic: $9[C_3/e]+[C_3/C_3]$"
   ]
  },
  {
   "cell_type": "markdown",
   "metadata": {},
   "source": [
    "# Type XII: The $C_2$ quartic"
   ]
  },
  {
   "cell_type": "markdown",
   "metadata": {},
   "source": [
    "## (XII) Old"
   ]
  },
  {
   "cell_type": "code",
   "execution_count": 68,
   "metadata": {},
   "outputs": [
    {
     "data": {
      "text/plain": [
       "[y + (-0.8165 - 0.5774*I)*z,\n",
       " y + (-0.8165 + 0.5774*I)*z,\n",
       " y + (0.8165 + 0.5774*I)*z,\n",
       " y + (0.8165 - 0.5774*I)*z,\n",
       " x + (-1.4142*I)*y + 1.0*I*z,\n",
       " x + 1.4142*I*y + (-1.0*I)*z,\n",
       " x + y + (-1.4142)*z,\n",
       " x - y + 1.4142*z,\n",
       " x - y + (-1.4142)*z,\n",
       " x + y + 1.4142*z,\n",
       " x + 1.4142*I*y + 1.0*I*z,\n",
       " x + (-1.4142*I)*y + (-1.0*I)*z,\n",
       " x + (-0.8165 - 0.5774*I)*z,\n",
       " x + (-0.8165 + 0.5774*I)*z,\n",
       " x + (0.8165 + 0.5774*I)*z,\n",
       " x + (0.8165 - 0.5774*I)*z,\n",
       " x + 0.7071*I*y + (-0.7071)*z,\n",
       " x + (-0.7071*I)*y + 0.7071*z,\n",
       " x + y + 1.0*I*z,\n",
       " x - y + (-1.0*I)*z,\n",
       " x + (-0.7071*I)*y + (-0.7071)*z,\n",
       " x + 0.7071*I*y + 0.7071*z,\n",
       " x - y + 1.0*I*z,\n",
       " x + y + (-1.0*I)*z,\n",
       " x + (-0.5774 - 0.8165*I)*y,\n",
       " x + (-0.5774 + 0.8165*I)*y,\n",
       " x + (0.5774 + 0.8165*I)*y,\n",
       " x + (0.5774 - 0.8165*I)*y]"
      ]
     },
     "execution_count": 68,
     "metadata": {},
     "output_type": "execute_result"
    }
   ],
   "source": [
    "L2 = y^2 - z^2\n",
    "L4 = y^4 - y^2*z^2 + z^4\n",
    "C2_Quartic = x^4 + x^2*L2 + L4\n",
    "\n",
    "C2_Bitangents = compute_bitangents(C2_Quartic);\n",
    "C2_Bitangents = [normalize(b) for b in C2_Bitangents]\n",
    "\n",
    "e_orbits = [[0],[1],[2],[3]]\n",
    "C2_orbits = [[4,5],[6,7],[8,9],[10,11],[12,14],[13,15],[16,17],[18,19],[20,21],[22,23],[24,26],[25,27]]\n",
    "\n",
    "C2_Bitangents"
   ]
  },
  {
   "cell_type": "code",
   "execution_count": 69,
   "metadata": {},
   "outputs": [
    {
     "name": "stdout",
     "output_type": "stream",
     "text": [
      "x + (-1.4142*I)*y + 1.0*I*z\n"
     ]
    },
    {
     "data": {
      "text/plain": [
       "x + 1.4142*I*y + (-1.0*I)*z"
      ]
     },
     "execution_count": 69,
     "metadata": {},
     "output_type": "execute_result"
    }
   ],
   "source": [
    "m = matrix(CC,[[-1,0,0],[0,1,0],[0,0,1]])\n",
    "print(C2_Bitangents[4])\n",
    "gp_action(m,C2_Bitangents[4])"
   ]
  },
  {
   "cell_type": "markdown",
   "metadata": {},
   "source": [
    "## (XII) New"
   ]
  },
  {
   "cell_type": "code",
   "execution_count": 70,
   "metadata": {},
   "outputs": [],
   "source": [
    "L2_new = -y^2 - 4*z^2\n",
    "L4_new = y^4 - y^2*z^2 - z^4\n",
    "C2_Quartic_new = x^4 + x^2*L2_new + L4_new\n",
    "\n",
    "C2_Bitangents_new = compute_bitangents(C2_Quartic_new);\n",
    "C2_Bitangents_new = [normalize(b) for b in C2_Bitangents_new]"
   ]
  },
  {
   "cell_type": "markdown",
   "metadata": {},
   "source": [
    "## (XII) Orbits\n",
    "The action is given by the diagonal matrix $\\begin{pmatrix} -1 & 0 & 0 \\\\ 0 & 1 & 0 \\\\ 0 & 0 & 1\\end{pmatrix}$ so it just flips the sign on the $x$ (or on both $y$ and $z$), so we can eyeball the orbits. Note if the coefficient on $x$ is trivial then the action doesn't affect the bitangent."
   ]
  },
  {
   "cell_type": "code",
   "execution_count": 71,
   "metadata": {},
   "outputs": [
    {
     "name": "stdout",
     "output_type": "stream",
     "text": [
      "Orbits of bitangents: []\n",
      "\n",
      "Remaining bitangents:\n",
      "\n",
      "0: y + (-2.2948)*z\n",
      "1: y + 2.2948*z\n",
      "2: y + (-1.1252*I)*z\n",
      "3: y + 1.1252*I*z\n",
      "4: x + (0.9682 + 0.25*I)*y + (-0.9937 - 0.4872*I)*z\n",
      "5: x + (-0.9682 - 0.25*I)*y + (0.9937 + 0.4872*I)*z\n",
      "6: x + (0.9682 - 0.25*I)*y + (-0.9937 + 0.4872*I)*z\n",
      "7: x + (-0.9682 + 0.25*I)*y + (0.9937 - 0.4872*I)*z\n",
      "8: x + (-0.7906 - 0.6124*I)*y + (-0.3978 + 0.8113*I)*z\n",
      "9: x + (0.7906 + 0.6124*I)*y + (0.3978 - 0.8113*I)*z\n",
      "10: x + (-0.7906 + 0.6124*I)*y + (-0.3978 - 0.8113*I)*z\n",
      "11: x + (0.7906 - 0.6124*I)*y + (0.3978 + 0.8113*I)*z\n",
      "12: x + (0.7906 - 0.6124*I)*y + (-0.3978 - 0.8113*I)*z\n",
      "13: x + (-0.7906 + 0.6124*I)*y + (0.3978 + 0.8113*I)*z\n",
      "14: x + (0.7906 + 0.6124*I)*y + (-0.3978 + 0.8113*I)*z\n",
      "15: x + (-0.7906 - 0.6124*I)*y + (0.3978 - 0.8113*I)*z\n",
      "16: x + (-0.9682 - 0.25*I)*y + (-0.9937 - 0.4872*I)*z\n",
      "17: x + (0.9682 + 0.25*I)*y + (0.9937 + 0.4872*I)*z\n",
      "18: x + (-0.9682 + 0.25*I)*y + (-0.9937 + 0.4872*I)*z\n",
      "19: x + (0.9682 - 0.25*I)*y + (0.9937 - 0.4872*I)*z\n",
      "20: x + (-2.5032)*z\n",
      "21: x + 2.5032*z\n",
      "22: x + (-0.5157*I)*z\n",
      "23: x + 0.5157*I*z\n",
      "24: x + (-0.4472 - 0.5477*I)*y\n",
      "25: x + (-0.4472 + 0.5477*I)*y\n",
      "26: x + (0.4472 + 0.5477*I)*y\n",
      "27: x + (0.4472 - 0.5477*I)*y\n"
     ]
    }
   ],
   "source": [
    "e_orbs = []\n",
    "# [[0],[1],[2],[3]]\n",
    "C2_orbs = []\n",
    "# [[4,5],[6,7],[8,9],[10,11],[12,13],[14,15],[16,17],..]\n",
    "orbit_indices = e_orbs + C2_orbs\n",
    "all_orbit_indices = flatten(orbit_indices)\n",
    "\n",
    "# Get the running list of orbits that we have\n",
    "list_of_bitangent_orbits = []\n",
    "for o in orbit_indices:\n",
    "    orbit = []\n",
    "    for b_index in o:\n",
    "        orbit.append(C2_Bitangents_new[b_index])\n",
    "    list_of_bitangent_orbits.append(orbit)\n",
    "\n",
    "print('Orbits of bitangents: ' + str(list_of_bitangent_orbits) + '\\n')\n",
    "print('Remaining bitangents:\\n')\n",
    "for j in range(0,len(C2_Bitangents_new)):\n",
    "    if not j in all_orbit_indices:\n",
    "        print(str(j) + ': ' + str(C2_Bitangents_new[j]))"
   ]
  },
  {
   "cell_type": "markdown",
   "metadata": {},
   "source": [
    "The action of $m$ leaves the bitangent stable if there's no $x$ coefficient, otherwise it swaps the sign on the $y$ and $z$ coefficients."
   ]
  },
  {
   "cell_type": "code",
   "execution_count": 72,
   "metadata": {},
   "outputs": [
    {
     "data": {
      "text/plain": [
       "4"
      ]
     },
     "execution_count": 72,
     "metadata": {},
     "output_type": "execute_result"
    }
   ],
   "source": [
    "2+2"
   ]
  },
  {
   "cell_type": "markdown",
   "metadata": {},
   "source": [
    "# Trott / Blum-Guinand"
   ]
  },
  {
   "cell_type": "code",
   "execution_count": 73,
   "metadata": {},
   "outputs": [
    {
     "data": {
      "text/plain": [
       "[(-1.0789206623656498 + 0.5507999555567185*I)*y + z,\n",
       " (-1.0789206623656498 - 0.5507999555567185*I)*y + z,\n",
       " (1.0789206623656498 - 0.5507999555567185*I)*y + z,\n",
       " (1.0789206623656498 + 0.5507999555567185*I)*y + z,\n",
       " (-1.0534120923965482*I)*x + (-2.0634498260329526)*y + z,\n",
       " 1.0534120923965482*I*x + (-2.0634498260329526)*y + z,\n",
       " (-0.6461670724975701)*x + (-0.6461670724975701)*y + z,\n",
       " 0.6461670724975701*x + (-0.6461670724975701)*y + z,\n",
       " (-0.6461670724975701)*x + 0.6461670724975701*y + z,\n",
       " 0.6461670724975701*x + 0.6461670724975701*y + z,\n",
       " (-1.0534120923965482*I)*x + 2.0634498260329526*y + z,\n",
       " 1.0534120923965482*I*x + 2.0634498260329526*y + z,\n",
       " (-2.0634498260329526)*x + 1.0534120923965482*I*y + z,\n",
       " 2.0634498260329526*x + 1.0534120923965482*I*y + z,\n",
       " (-2.0634498260329526)*x + (-1.0534120923965482*I)*y + z,\n",
       " 2.0634498260329526*x + (-1.0534120923965482*I)*y + z,\n",
       " (-1.2657281447187063*I)*x + (-1.2657281447187063*I)*y + z,\n",
       " 1.2657281447187063*I*x + (-1.2657281447187063*I)*y + z,\n",
       " (-1.2657281447187063*I)*x + 1.2657281447187063*I*y + z,\n",
       " 1.2657281447187063*I*x + 1.2657281447187063*I*y + z,\n",
       " (-1.0789206623656498 + 0.5507999555567185*I)*x + z,\n",
       " (-1.0789206623656498 - 0.5507999555567185*I)*x + z,\n",
       " (1.0789206623656498 - 0.5507999555567185*I)*x + z,\n",
       " (1.0789206623656498 + 0.5507999555567185*I)*x + z,\n",
       " (-0.5228722543934634 + 0.8524110543543516*I)*x + y,\n",
       " (-0.5228722543934634 - 0.8524110543543516*I)*x + y,\n",
       " (0.5228722543934634 - 0.8524110543543516*I)*x + y,\n",
       " (0.5228722543934634 + 0.8524110543543516*I)*x + y]"
      ]
     },
     "execution_count": 73,
     "metadata": {},
     "output_type": "execute_result"
    }
   ],
   "source": [
    "Trott = 144*(x^4+y^4) - 255*(x^2+y^2)*z^2 + 350*x^2*y^2+81*z^4\n",
    "Trott_bis = compute_bitangents(Trott);Trott_bis\n"
   ]
  },
  {
   "cell_type": "markdown",
   "metadata": {},
   "source": [
    "*Weird*: Why are some of them complex?"
   ]
  },
  {
   "cell_type": "markdown",
   "metadata": {},
   "source": [
    "# Edge quartic"
   ]
  },
  {
   "cell_type": "code",
   "execution_count": 74,
   "metadata": {},
   "outputs": [
    {
     "data": {
      "text/plain": [
       "[y + (-0.5)*z,\n",
       " y + (-2.0)*z,\n",
       " y + 2.0*z,\n",
       " y + 0.5*z,\n",
       " x + y + (-0.6)*z,\n",
       " x - y + 0.6*z,\n",
       " x + 0.6*y - z,\n",
       " x + (-0.6)*y + z,\n",
       " x + (-0.6)*y - z,\n",
       " x + 0.6*y + z,\n",
       " x - y + (-0.6)*z,\n",
       " x + y + 0.6*z,\n",
       " x + y - z,\n",
       " x + 1.6667*y + (-1.6667)*z,\n",
       " x + (-1.6667)*y + 1.6667*z,\n",
       " x - y + z,\n",
       " x + (-0.5)*z,\n",
       " x + (-2.0)*z,\n",
       " x + 2.0*z,\n",
       " x + 0.5*z,\n",
       " x - y - z,\n",
       " x + (-1.6667)*y + (-1.6667)*z,\n",
       " x + 1.6667*y + 1.6667*z,\n",
       " x + y + z,\n",
       " x + (-0.5)*y,\n",
       " x + (-2.0)*y,\n",
       " x + 2.0*y,\n",
       " x + 0.5*y]"
      ]
     },
     "execution_count": 74,
     "metadata": {},
     "output_type": "execute_result"
    }
   ],
   "source": [
    "Edge = 25*(x^4 + y^4 + z^4) -34*(x^2*y^2 + x^2*z^2 + y^2*z^2)\n",
    "Edge_bis = compute_bitangents(Edge);\n",
    "Edge_bis = [normalize(b) for b in Edge_bis];Edge_bis"
   ]
  },
  {
   "cell_type": "code",
   "execution_count": 75,
   "metadata": {},
   "outputs": [
    {
     "name": "stdout",
     "output_type": "stream",
     "text": [
      "Orbits of bitangents: [[x + (-0.5)*z, x + 0.5*z, y + (-0.5)*z, y + 0.5*z], [y + (-2.0)*z, x + 2.0*z, y + 2.0*z, x + (-2.0)*z], [x + y + 0.6*z, x - y + (-0.6)*z, x - y + 0.6*z, x + y + (-0.6)*z], [x - y - z, x - y + z, x + y + z, x + y - z], [x + (-1.6667)*y + (-1.6667)*z, x + 1.6667*y + (-1.6667)*z, x + (-0.6)*y + z, x + 0.6*y + z, x + (-1.6667)*y + 1.6667*z, x + 1.6667*y + 1.6667*z, x + 0.6*y - z, x + (-0.6)*y - z]]\n",
      "\n",
      "Remaining bitangents:\n",
      "\n",
      "24: x + (-0.5)*y\n",
      "25: x + (-2.0)*y\n",
      "26: x + 2.0*y\n",
      "27: x + 0.5*y\n"
     ]
    }
   ],
   "source": [
    "c2r1 = [[16,19,0,3],[1,18,2,17]]\n",
    "c2r5 = [[11,10,5,4],[20,15,23,12]]\n",
    "e_istrop = [[21,13,7,9,14,22,6,8]]\n",
    "c2_r0 = [[24,25,26,27]]\n",
    "\n",
    "orbit_indices = c2r1 + c2r5 + e_istrop\n",
    "\n",
    "all_orbit_indices = flatten(orbit_indices)\n",
    "\n",
    "# Get the running list of orbits that we have\n",
    "list_of_bitangent_orbits = []\n",
    "for o in orbit_indices:\n",
    "    orbit = []\n",
    "    for b_index in o:\n",
    "        orbit.append(Edge_bis[b_index])\n",
    "    list_of_bitangent_orbits.append(orbit)\n",
    "\n",
    "print('Orbits of bitangents: ' + str(list_of_bitangent_orbits) + '\\n')\n",
    "print('Remaining bitangents:\\n')\n",
    "for j in range(0,len(Edge_bis)):\n",
    "    if not j in all_orbit_indices:\n",
    "        print(str(j) + ': ' + str(Edge_bis[j]))"
   ]
  },
  {
   "cell_type": "markdown",
   "metadata": {},
   "source": [
    "## Edge with $S_4$"
   ]
  },
  {
   "cell_type": "code",
   "execution_count": 76,
   "metadata": {},
   "outputs": [],
   "source": [
    "TypeIV_S4 = [ [ [ -1, 0, 0 ], [ 0, -1, 0 ], [ 0, 0, 1 ] ],\n",
    "  [ [ -1, 0, 0 ], [ 0, 0, -1 ], [ 0, -1, 0 ] ],\n",
    "  [ [ -1, 0, 0 ], [ 0, 0, 1 ], [ 0, 1, 0 ] ],\n",
    "  [ [ -1, 0, 0 ], [ 0, 1, 0 ], [ 0, 0, -1 ] ],\n",
    "  [ [ 0, -1, 0 ], [ -1, 0, 0 ], [ 0, 0, -1 ] ],\n",
    "  [ [ 0, -1, 0 ], [ 0, 0, -1 ], [ 1, 0, 0 ] ],\n",
    "  [ [ 0, -1, 0 ], [ 0, 0, 1 ], [ -1, 0, 0 ] ],\n",
    "  [ [ 0, -1, 0 ], [ 1, 0, 0 ], [ 0, 0, 1 ] ],\n",
    "  [ [ 0, 0, -1 ], [ -1, 0, 0 ], [ 0, 1, 0 ] ],\n",
    "  [ [ 0, 0, -1 ], [ 0, -1, 0 ], [ -1, 0, 0 ] ],\n",
    "  [ [ 0, 0, -1 ], [ 0, 1, 0 ], [ 1, 0, 0 ] ],\n",
    "  [ [ 0, 0, -1 ], [ 1, 0, 0 ], [ 0, -1, 0 ] ],\n",
    "  [ [ 0, 0, 1 ], [ -1, 0, 0 ], [ 0, -1, 0 ] ],\n",
    "  [ [ 0, 0, 1 ], [ 0, -1, 0 ], [ 1, 0, 0 ] ],\n",
    "  [ [ 0, 0, 1 ], [ 0, 1, 0 ], [ -1, 0, 0 ] ],\n",
    "  [ [ 0, 0, 1 ], [ 1, 0, 0 ], [ 0, 1, 0 ] ],\n",
    "  [ [ 0, 1, 0 ], [ -1, 0, 0 ], [ 0, 0, 1 ] ],\n",
    "  [ [ 0, 1, 0 ], [ 0, 0, -1 ], [ -1, 0, 0 ] ],\n",
    "  [ [ 0, 1, 0 ], [ 0, 0, 1 ], [ 1, 0, 0 ] ],\n",
    "  [ [ 0, 1, 0 ], [ 1, 0, 0 ], [ 0, 0, -1 ] ],\n",
    "  [ [ 1, 0, 0 ], [ 0, -1, 0 ], [ 0, 0, -1 ] ],\n",
    "  [ [ 1, 0, 0 ], [ 0, 0, -1 ], [ 0, 1, 0 ] ],\n",
    "  [ [ 1, 0, 0 ], [ 0, 0, 1 ], [ 0, -1, 0 ] ],\n",
    "  [ [ 1, 0, 0 ], [ 0, 1, 0 ], [ 0, 0, 1 ] ] ]\n",
    "Edge_S4_dict = {}\n",
    "keys = ['r' + str(j) for j in range(0,24)]\n",
    "for j in range(0,24):\n",
    "    Edge_S4_dict.update({keys[j]:matrix(CC,TypeIV_S4[j],immutable=True)});"
   ]
  },
  {
   "cell_type": "code",
   "execution_count": 77,
   "metadata": {},
   "outputs": [
    {
     "name": "stdout",
     "output_type": "stream",
     "text": [
      "Orbits of bitangents: [[x + 2.0*z, x + (-2.0)*y, x + (-0.5)*y, x + 0.5*y, x + (-0.5)*z, x + 0.5*z, x + 2.0*y, x + (-2.0)*z, y + (-0.5)*z, y + (-2.0)*z, y + 2.0*z, y + 0.5*z], [x + (-1.6667)*y + (-1.6667)*z, x + (-1.6667)*y + 1.6667*z, x + 1.6667*y + (-1.6667)*z, x + 1.6667*y + 1.6667*z, x + y + 0.6*z, x + y + (-0.6)*z, x - y + (-0.6)*z, x - y + 0.6*z, x + (-0.6)*y + z, x + (-0.6)*y - z, x + 0.6*y + z, x + 0.6*y - z]]\n",
      "\n",
      "Remaining bitangents:\n",
      "\n",
      "12: x + y - z\n",
      "15: x - y + z\n",
      "20: x - y - z\n",
      "23: x + y + z\n"
     ]
    }
   ],
   "source": [
    "c2r20 = [[18,25,24,27,16,19,26,17,0,1,2,3]]\n",
    "c2r4 = [[21,14,13,22,11,4,10,5,7,8,9,6]]\n",
    "\n",
    "orbit_indices = c2r20 + c2r4\n",
    "\n",
    "all_orbit_indices = flatten(orbit_indices)\n",
    "\n",
    "# Get the running list of orbits that we have\n",
    "list_of_bitangent_orbits = []\n",
    "for o in orbit_indices:\n",
    "    orbit = []\n",
    "    for b_index in o:\n",
    "        orbit.append(Edge_bis[b_index])\n",
    "    list_of_bitangent_orbits.append(orbit)\n",
    "\n",
    "print('Orbits of bitangents: ' + str(list_of_bitangent_orbits) + '\\n')\n",
    "print('Remaining bitangents:\\n')\n",
    "for j in range(0,len(Edge_bis)):\n",
    "    if not j in all_orbit_indices:\n",
    "        print(str(j) + ': ' + str(Edge_bis[j]))"
   ]
  },
  {
   "cell_type": "code",
   "execution_count": 78,
   "metadata": {},
   "outputs": [
    {
     "name": "stdout",
     "output_type": "stream",
     "text": [
      "x + y - z\n",
      "x - y - z\n",
      "x - y + z\n",
      "x + y + z\n",
      "I think isotropy is generated by:\n",
      "\n",
      "r2\n",
      "r4\n",
      "r11\n",
      "r13\n",
      "r17\n",
      "r23\n"
     ]
    }
   ],
   "source": [
    "investigate_orbit(Edge_bis[12],Edge_S4_dict)"
   ]
  },
  {
   "cell_type": "code",
   "execution_count": 79,
   "metadata": {},
   "outputs": [
    {
     "data": {
      "text/plain": [
       "[0.000000000000000 -1.00000000000000 0.000000000000000]\n",
       "[-1.00000000000000 0.000000000000000 0.000000000000000]\n",
       "[0.000000000000000 0.000000000000000 -1.00000000000000]"
      ]
     },
     "execution_count": 79,
     "metadata": {},
     "output_type": "execute_result"
    }
   ],
   "source": [
    "Edge_S4_dict['r4']"
   ]
  }
 ],
 "metadata": {
  "kernelspec": {
   "display_name": "SageMath 10.6",
   "language": "sage",
   "name": "sagemath-10.6"
  },
  "language_info": {
   "codemirror_mode": {
    "name": "ipython",
    "version": 3
   },
   "file_extension": ".py",
   "mimetype": "text/x-python",
   "name": "python",
   "nbconvert_exporter": "python",
   "pygments_lexer": "ipython3",
   "version": "3.12.5"
  }
 },
 "nbformat": 4,
 "nbformat_minor": 4
}
